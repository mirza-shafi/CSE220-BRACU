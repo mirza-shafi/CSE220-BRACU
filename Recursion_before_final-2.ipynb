{
  "cells": [
    {
      "cell_type": "markdown",
      "metadata": {
        "id": "t6cH_a1P5p-g"
      },
      "source": [
        "# Given a non-negative int n, return the sum of its digits recursively (no loops). Note that mod (%) by 10 yields the rightmost digit (126 % 10 is 6), while divide (/) by 10 removes the rightmost digit(126 / 10 is 12).\n"
      ]
    },
    {
      "cell_type": "markdown",
      "metadata": {
        "id": "mB3iGS8Z6kmt"
      },
      "source": [
        "Recursion kor shala\n",
        "Mal provided by samir emon"
      ]
    },
    {
      "cell_type": "code",
      "execution_count": null,
      "metadata": {
        "colab": {
          "base_uri": "https://localhost:8080/"
        },
        "id": "31Js1AyA9Fdw",
        "outputId": "a0822398-d335-4ba7-8b9f-8a46a6aab9cb"
      },
      "outputs": [
        {
          "name": "stdout",
          "output_type": "stream",
          "text": [
            "9\n"
          ]
        }
      ],
      "source": [
        "def sumdig(n):\n",
        "  if n<10:\n",
        "    return n\n",
        "  else:\n",
        "    return n%10 + sumdig(n//10)\n",
        "print(sumdig(126))"
      ]
    },
    {
      "cell_type": "markdown",
      "metadata": {
        "id": "MAt4SsdgBmM9"
      },
      "source": [
        "We have bunnies standing in a line, numbered 1, 2, ... The odd bunnies (1, 3, ..) have the\n",
        "normal 2 ears. The even bunnies (2, 4, ..) we'll say have 3 ears, because they each have a\n",
        "raised foot. Recursively return the number of \"ears\" in the bunny line 1, 2, ... n (without loops or\n",
        "multiplication).\n"
      ]
    },
    {
      "cell_type": "code",
      "execution_count": 1,
      "metadata": {
        "colab": {
          "base_uri": "https://localhost:8080/"
        },
        "id": "pXpIdyneBoSL",
        "outputId": "f05aa11b-0a55-4c08-8aae-3f26ddc2689a"
      },
      "outputs": [
        {
          "data": {
            "text/plain": [
              "10"
            ]
          },
          "execution_count": 1,
          "metadata": {},
          "output_type": "execute_result"
        }
      ],
      "source": [
        "def bunny(n):\n",
        "  if n==0:\n",
        "    return 0\n",
        "  else:\n",
        "    if n%2!=0:\n",
        "      return 2+bunny(n-1)\n",
        "    else:\n",
        "      return 3+bunny(n-1)\n",
        "bunny(4)"
      ]
    },
    {
      "cell_type": "markdown",
      "metadata": {
        "id": "4vKjrx7nJG6L"
      },
      "source": [
        "Given a non-negative int n, return the count of the occurrences of 7 as a digit, so for example\n",
        "717 yields 2. (no loops). Note that mod (%) by 10 yields the rightmost digit (126 % 10 is 6),\n",
        "while divide (/) by 10 removes the rightmost digit (126 / 10 is 12)."
      ]
    },
    {
      "cell_type": "code",
      "execution_count": null,
      "metadata": {
        "colab": {
          "base_uri": "https://localhost:8080/"
        },
        "id": "YAkXKlLKEV80",
        "outputId": "def960aa-efb1-46a2-b056-d96c93af237a"
      },
      "outputs": [
        {
          "data": {
            "text/plain": [
              "4"
            ]
          },
          "execution_count": 16,
          "metadata": {},
          "output_type": "execute_result"
        }
      ],
      "source": [
        "def seven(n):\n",
        "  if n<7:\n",
        "    return 0\n",
        "  elif n%10==7:\n",
        "    return 1+seven(n//10)\n",
        "  else:\n",
        "    return 0+seven(n//10)\n",
        "seven(71777)"
      ]
    },
    {
      "cell_type": "markdown",
      "metadata": {
        "id": "cRHDgQ9TLN14"
      },
      "source": [
        "Given a string, compute recursively (no loops) the number of lowercase 'x' chars in the string.\n"
      ]
    },
    {
      "cell_type": "code",
      "execution_count": null,
      "metadata": {
        "colab": {
          "base_uri": "https://localhost:8080/"
        },
        "id": "ztLA2HAVLPUU",
        "outputId": "5a08bd04-003a-4dbb-d74f-21cad096faef"
      },
      "outputs": [
        {
          "data": {
            "text/plain": [
              "0"
            ]
          },
          "execution_count": 25,
          "metadata": {},
          "output_type": "execute_result"
        }
      ],
      "source": [
        "def low(s):\n",
        "  if len(s)==0:\n",
        "    return 0\n",
        "  else:\n",
        "    if s[0]=='x':\n",
        "      return 1+low(s[1:])\n",
        "    else:\n",
        "      return 0+low(s[1:])\n",
        "low('AbCdddE')"
      ]
    },
    {
      "cell_type": "markdown",
      "metadata": {
        "id": "O7nAzQgAUw6B"
      },
      "source": [
        "Given a string, compute recursively (no loops) a new string where all appearances of \"pi\" have\n",
        "been replaced by \"3.14\"."
      ]
    },
    {
      "cell_type": "code",
      "execution_count": null,
      "metadata": {
        "colab": {
          "base_uri": "https://localhost:8080/"
        },
        "id": "5lhGw_9tU3Bq",
        "outputId": "831cbb1a-45c8-48f5-8296-4051d8bea07b"
      },
      "outputs": [
        {
          "name": "stdout",
          "output_type": "stream",
          "text": [
            "3.14cse3.14eee3.14\n"
          ]
        }
      ],
      "source": [
        "def pi(s):\n",
        "  if len(s)<2:\n",
        "    return s\n",
        "  elif s[0]=='p' and s[1]=='i':\n",
        "    return '3.14'+(pi(s[2:]))\n",
        "  else:\n",
        "    return (s[0])+(pi(s[1:]))\n",
        "print(pi('picsepieeepi'))"
      ]
    },
    {
      "cell_type": "code",
      "execution_count": null,
      "metadata": {
        "colab": {
          "base_uri": "https://localhost:8080/"
        },
        "id": "v32DwuVCGBSa",
        "outputId": "999e38e5-3f08-46a2-e997-d5ab0b3790c1"
      },
      "outputs": [
        {
          "data": {
            "text/plain": [
              "3"
            ]
          },
          "execution_count": 40,
          "metadata": {},
          "output_type": "execute_result"
        }
      ],
      "source": [
        "def vowel(s,l):\n",
        "  arr=['a','e','i','o','u']\n",
        "  if l==0:\n",
        "    return 0\n",
        "  else:\n",
        "    if s[0].lower() in arr:\n",
        "      return 1+vowel(s[1:],l-1)\n",
        "    else:\n",
        "      return vowel(s[1:],l-1)\n",
        "vowel('abeci',5) \n"
      ]
    },
    {
      "cell_type": "code",
      "execution_count": null,
      "metadata": {
        "colab": {
          "base_uri": "https://localhost:8080/"
        },
        "id": "6ZgaFUv4HGLR",
        "outputId": "63d6b8cf-404d-4b0a-ea00-10dfe0176ca8"
      },
      "outputs": [
        {
          "name": "stdout",
          "output_type": "stream",
          "text": [
            "shauwar 1\n"
          ]
        },
        {
          "data": {
            "text/plain": [
              "5"
            ]
          },
          "execution_count": 48,
          "metadata": {},
          "output_type": "execute_result"
        }
      ],
      "source": [
        "def max(a):\n",
        "  if len(a)==1:\n",
        "    return a[0]\n",
        "  submax=max(a[1:])\n",
        "  if a[0]>submax:\n",
        "    return a[0]\n",
        "  else:\n",
        "    return submax\n",
        "max([5,4,3,2,1])"
      ]
    },
    {
      "cell_type": "code",
      "execution_count": null,
      "metadata": {
        "colab": {
          "base_uri": "https://localhost:8080/"
        },
        "id": "-9eV85RY1z6B",
        "outputId": "6612cd1e-45fe-48ff-8573-878db6a8680d"
      },
      "outputs": [
        {
          "data": {
            "text/plain": [
              "5"
            ]
          },
          "execution_count": 1,
          "metadata": {},
          "output_type": "execute_result"
        }
      ],
      "source": [
        "def max(a):\n",
        "  if len(a)==1:\n",
        "    return a[0]\n",
        "  else:\n",
        "    sub=max(a[1:])\n",
        "    if a[0]>sub:\n",
        "      return a[0]\n",
        "    else:\n",
        "      return sub\n",
        "max([1,2,5,3,4])"
      ]
    },
    {
      "cell_type": "markdown",
      "metadata": {
        "id": "oD8fclONM413"
      },
      "source": [
        "Given an array of ints, compute recursively the number of times that the value 11 appears in the\n",
        "array. We'll use the convention of considering only the part of the array that begins at the given\n",
        "index. In this way, a recursive call can pass index+1 to move down the array. The initial call will\n",
        "pass in index as 0."
      ]
    },
    {
      "cell_type": "code",
      "execution_count": null,
      "metadata": {
        "colab": {
          "base_uri": "https://localhost:8080/"
        },
        "id": "ETiLJbCHMTPF",
        "outputId": "0c3befde-ea34-410b-b980-ee90156cd49d"
      },
      "outputs": [
        {
          "data": {
            "text/plain": [
              "3"
            ]
          },
          "execution_count": 3,
          "metadata": {},
          "output_type": "execute_result"
        }
      ],
      "source": [
        "def eleven(a):\n",
        "  if len(a)==1:\n",
        "    if a[0]==11:\n",
        "      return 1\n",
        "    else:\n",
        "      return 0\n",
        "  else:\n",
        "    if a[0]==11:\n",
        "      return 1+eleven(a[1:])\n",
        "    else:\n",
        "      return eleven(a[1:])\n",
        "\n",
        "eleven([1,2,11,3,5,11,11])"
      ]
    },
    {
      "cell_type": "markdown",
      "metadata": {
        "id": "T1-QGzhrOWSu"
      },
      "source": [
        "Given a string, compute recursively a new string where identical chars that are adjacent in the\n",
        "original string are separated from each other by a \"*\"."
      ]
    },
    {
      "cell_type": "code",
      "execution_count": null,
      "metadata": {
        "colab": {
          "base_uri": "https://localhost:8080/",
          "height": 36
        },
        "id": "rCDgzNIFOhU0",
        "outputId": "f03ae423-5b09-470e-9c42-64c929a2ce48"
      },
      "outputs": [
        {
          "data": {
            "application/vnd.google.colaboratory.intrinsic+json": {
              "type": "string"
            },
            "text/plain": [
              "'h*h*hl*lo*o*o'"
            ]
          },
          "execution_count": 21,
          "metadata": {},
          "output_type": "execute_result"
        }
      ],
      "source": [
        "def star(s):\n",
        "  if len(s)==2:\n",
        "    if s[0]==s[1]:\n",
        "      return s[0]+'*'+s[1]\n",
        "    else:\n",
        "      return s\n",
        "  if len(s)==1:\n",
        "    return s\n",
        "  else:\n",
        "    if s[0]==s[1]:\n",
        "      return s[0]+'*'+star(s[1:])\n",
        "    else:\n",
        "      return s[0]+star(s[1:])\n",
        "\n",
        "star('hhhllooo')"
      ]
    },
    {
      "cell_type": "markdown",
      "metadata": {
        "id": "uH08BNDdPX3V"
      },
      "source": [
        "# Count recursively the total number of \"abc\" and \"aba\" substrings that appear in the given string"
      ]
    },
    {
      "cell_type": "code",
      "execution_count": null,
      "metadata": {
        "colab": {
          "base_uri": "https://localhost:8080/"
        },
        "id": "zCdEP6V3PiAl",
        "outputId": "020352eb-fada-433a-a714-efe02cffcdd1"
      },
      "outputs": [
        {
          "data": {
            "text/plain": [
              "4"
            ]
          },
          "execution_count": 27,
          "metadata": {},
          "output_type": "execute_result"
        }
      ],
      "source": [
        "def abc(a):\n",
        "  if len(a)<=3:\n",
        "    if a=='abc' or a=='aba':\n",
        "      return 1\n",
        "    else:\n",
        "      return 0\n",
        "  else:\n",
        "    if a[0:3]=='abc' or a[0:3]=='aba':\n",
        "      return 1+abc(a[1:])\n",
        "    else:\n",
        "      return abc(a[1:])\n",
        "abc('hiabcbyeabababc')"
      ]
    },
    {
      "cell_type": "markdown",
      "metadata": {
        "id": "CID7WOX-hKvX"
      },
      "source": [
        "Given a string, compute recursively the number of times lowercase \"hi\" appears in the string,\n",
        "however do not count \"hi\" that have an 'x' immedately before them."
      ]
    },
    {
      "cell_type": "code",
      "execution_count": null,
      "metadata": {
        "colab": {
          "base_uri": "https://localhost:8080/"
        },
        "id": "JuHCIRzxjZZH",
        "outputId": "daffa0f3-d7e3-41ad-8d55-2c929538e7af"
      },
      "outputs": [
        {
          "data": {
            "text/plain": [
              "4"
            ]
          },
          "execution_count": 29,
          "metadata": {},
          "output_type": "execute_result"
        }
      ],
      "source": [
        "def hi(s):\n",
        "  if len(s)<=2:\n",
        "    if s=='hi':\n",
        "      return 1\n",
        "    else:\n",
        "      return 0\n",
        "  else:\n",
        "    if s[0:2]=='hi' and s[2]!='x':\n",
        "      return 1+hi(s[1:])\n",
        "    else:\n",
        "      return hi(s[1:])\n",
        "hi('hiabchixhihikahi')"
      ]
    },
    {
      "cell_type": "code",
      "execution_count": null,
      "metadata": {
        "colab": {
          "base_uri": "https://localhost:8080/",
          "height": 36
        },
        "id": "KiHg088MwXXk",
        "outputId": "bf23f0bb-104b-47a8-9714-243b32e6186c"
      },
      "outputs": [
        {
          "data": {
            "application/vnd.google.colaboratory.intrinsic+json": {
              "type": "string"
            },
            "text/plain": [
              "'abchikkxxxx'"
            ]
          },
          "execution_count": 34,
          "metadata": {},
          "output_type": "execute_result"
        }
      ],
      "source": [
        "def endx(s):\n",
        "  if len(s)==1:\n",
        "    return s\n",
        "  else:\n",
        "    if s[0]=='x':\n",
        "      return endx(s[1:])+'x'\n",
        "    else:\n",
        "      return s[0]+endx(s[1:])\n",
        "endx('xabcxhixkkx')"
      ]
    },
    {
      "cell_type": "markdown",
      "metadata": {
        "id": "E3UnsPWElH8f"
      },
      "source": [
        "Given a string and a non-empty substring sub, compute recursively the number of times that\n",
        "sub appears in the string, without the sub strings overlapping."
      ]
    },
    {
      "cell_type": "code",
      "execution_count": null,
      "metadata": {
        "colab": {
          "base_uri": "https://localhost:8080/"
        },
        "id": "zJxKpMKclJAN",
        "outputId": "2bd33fed-2097-463e-8fa7-5211abbcc94f"
      },
      "outputs": [
        {
          "name": "stdout",
          "output_type": "stream",
          "text": [
            "2\n",
            "1\n",
            "0\n"
          ]
        }
      ],
      "source": []
    },
    {
      "cell_type": "markdown",
      "metadata": {
        "id": "YO8MCcHHSmgX"
      },
      "source": [
        "We have a number of bunnies and each bunny has two big floppy ears. We want to compute the\n",
        "total number of ears across all the bunnies recursively (without loops or multiplication)."
      ]
    },
    {
      "cell_type": "code",
      "execution_count": null,
      "metadata": {
        "colab": {
          "base_uri": "https://localhost:8080/"
        },
        "id": "32JIJkznSoDd",
        "outputId": "0d4a501a-e4e4-4191-a96c-acf16aaf854e"
      },
      "outputs": [
        {
          "name": "stdout",
          "output_type": "stream",
          "text": [
            "0\n",
            "2\n",
            "4\n"
          ]
        }
      ],
      "source": []
    },
    {
      "cell_type": "markdown",
      "metadata": {
        "id": "oeBzLI27Vu8j"
      },
      "source": [
        "We have triangle made of blocks. The topmost row has 1 block, the next row down has 2\n",
        "blocks, the next row has 3 blocks, and so on. Compute recursively (no loops or multiplication)\n",
        "the total number of blocks in such a triangle with the given number of rows."
      ]
    },
    {
      "cell_type": "code",
      "execution_count": null,
      "metadata": {
        "colab": {
          "base_uri": "https://localhost:8080/"
        },
        "id": "_sZx01vXVxQp",
        "outputId": "b86478e1-f278-406b-848b-3a703877b5d0"
      },
      "outputs": [
        {
          "data": {
            "text/plain": [
              "10"
            ]
          },
          "execution_count": 35,
          "metadata": {},
          "output_type": "execute_result"
        }
      ],
      "source": [
        "def tri(n):\n",
        "  if n==1:\n",
        "    return 1\n",
        "  else:\n",
        "    return n+tri(n-1)\n",
        "tri(4)"
      ]
    },
    {
      "cell_type": "markdown",
      "metadata": {
        "id": "7GglfKPpWQiA"
      },
      "source": [
        "Given a string, compute recursively a new string where all the 'x' chars have been removed"
      ]
    },
    {
      "cell_type": "code",
      "execution_count": null,
      "metadata": {
        "colab": {
          "base_uri": "https://localhost:8080/",
          "height": 36
        },
        "id": "U7NwwE9EWRme",
        "outputId": "83c5beeb-a29e-42d0-e7c8-26bdeada7e7c"
      },
      "outputs": [
        {
          "data": {
            "application/vnd.google.colaboratory.intrinsic+json": {
              "type": "string"
            },
            "text/plain": [
              "'abci'"
            ]
          },
          "execution_count": 37,
          "metadata": {},
          "output_type": "execute_result"
        }
      ],
      "source": [
        "def remx(s):\n",
        "  if len(s)==1:\n",
        "    if s[0]=='x':\n",
        "      return ''\n",
        "    else:\n",
        "      return s\n",
        "  else:\n",
        "    if s[0]=='x':\n",
        "      return remx(s[1:])\n",
        "    else:\n",
        "      return s[0]+remx(s[1:])\n",
        "remx('xxabcxix')"
      ]
    },
    {
      "cell_type": "markdown",
      "metadata": {
        "id": "k7pq4PFPX1T0"
      },
      "source": [
        "Given an array of ints, compute recursively if the array contains somewhere a value followed in\n",
        "the array by that value times 10. We'll use the convention of considering only the part of the\n",
        "array that begins at the given index. In this way, a recursive call can pass index+1 to move\n",
        "down the array. The initial call will pass in index as 0."
      ]
    },
    {
      "cell_type": "markdown",
      "metadata": {
        "id": "2mYac14OY8jn"
      },
      "source": [
        "def array220(a, i):\n",
        "  if len(a)==1:\n",
        "    return False\n",
        "  else:\n",
        "    if a[0]==a[1]:\n",
        "      return True\n",
        "    else:\n",
        "      \n",
        "\n",
        "array220([1,2,20,4],0)"
      ]
    },
    {
      "cell_type": "markdown",
      "metadata": {
        "id": "oQSIt2a9ZkuO"
      },
      "source": [
        "Given a string, compute recursively a new string where all the lowercase 'x' chars have been\n",
        "moved to the end of the string."
      ]
    },
    {
      "cell_type": "code",
      "execution_count": null,
      "metadata": {
        "colab": {
          "base_uri": "https://localhost:8080/"
        },
        "id": "N9nyOukTZrR7",
        "outputId": "1cf00d73-3855-4b79-c941-808189e066bb"
      },
      "outputs": [
        {
          "name": "stdout",
          "output_type": "stream",
          "text": [
            "rexx\n",
            "hixxxx\n",
            "hihixxx\n"
          ]
        }
      ],
      "source": [
        "\n"
      ]
    },
    {
      "cell_type": "markdown",
      "metadata": {
        "id": "MoUlM2hoaezY"
      },
      "source": [
        "Given a string, compute recursively (no loops) the number of \"11\" substrings in the string. The\n",
        "\"11\" substrings should not overlap."
      ]
    },
    {
      "cell_type": "code",
      "execution_count": null,
      "metadata": {
        "colab": {
          "base_uri": "https://localhost:8080/"
        },
        "id": "lQI-p-9BahoB",
        "outputId": "a25f13af-dbd1-4068-d7b1-606a1fcebab8"
      },
      "outputs": [
        {
          "name": "stdout",
          "output_type": "stream",
          "text": [
            "2\n",
            "3\n",
            "1\n"
          ]
        }
      ],
      "source": []
    },
    {
      "cell_type": "markdown",
      "metadata": {
        "id": "rbUvuhjMa5bL"
      },
      "source": [
        "Given a string that contains a single pair of parenthesis, compute recursively a new string made\n",
        "of only of the parenthesis and their contents, so \"xyz(abc)123\" yields \"(abc)\"."
      ]
    },
    {
      "cell_type": "code",
      "execution_count": null,
      "metadata": {
        "colab": {
          "base_uri": "https://localhost:8080/"
        },
        "id": "Wnpyvga-bOQj",
        "outputId": "24812d54-1f18-413e-d4d3-e0ca061770b1"
      },
      "outputs": [
        {
          "name": "stdout",
          "output_type": "stream",
          "text": [
            "(abc1)\n"
          ]
        }
      ],
      "source": [
        "def parenBit(s):\n",
        "  if len(s)==1:\n",
        "    if s!=')':\n",
        "      return ''\n",
        "    else:\n",
        "      return s\n",
        "  else:\n",
        "    if s[0]=='(':\n",
        "      if s[-1]==')':\n",
        "        return s\n",
        "      else:\n",
        "        return parenBit(s[0:-1])\n",
        "    else:\n",
        "      return parenBit(s[1:])\n",
        "    \n",
        "print(parenBit(\"xyz(abc1)23\"))"
      ]
    },
    {
      "cell_type": "markdown",
      "metadata": {
        "id": "FZVNgJKxbnY-"
      },
      "source": [
        "Given a string and a non-empty substring sub, compute recursively if at least n copies of sub\n",
        "appear in the string somewhere, possibly with overlapping. N will be non-negative."
      ]
    },
    {
      "cell_type": "code",
      "execution_count": null,
      "metadata": {
        "colab": {
          "base_uri": "https://localhost:8080/"
        },
        "id": "zCfHjtFabtNq",
        "outputId": "7b0054b4-eec5-4a2c-eb09-db918ea625e0"
      },
      "outputs": [
        {
          "data": {
            "text/plain": [
              "2"
            ]
          },
          "execution_count": 76,
          "metadata": {},
          "output_type": "execute_result"
        }
      ],
      "source": [
        "def copy(s,a,n):\n",
        "  if len(s)==len(a):\n",
        "    if s!=a:\n",
        "      return 0\n",
        "    else:\n",
        "      return 1\n",
        "  else:\n",
        "    if s[:2]==a:\n",
        "      return 1+copy(s[1:],a,n-1)\n",
        "    else:\n",
        "      return copy(s[1:],a,n)\n",
        "copy('hibhi','hi',2)"
      ]
    },
    {
      "cell_type": "markdown",
      "metadata": {
        "id": "9b6-6_vgcJow"
      },
      "source": [
        "Given a string, compute recursively (no loops) a new string where all the lowercase 'x' chars\n",
        "have been changed to 'y' chars."
      ]
    },
    {
      "cell_type": "code",
      "execution_count": null,
      "metadata": {
        "colab": {
          "base_uri": "https://localhost:8080/",
          "height": 36
        },
        "id": "pMkC2FKzcKhz",
        "outputId": "93733d4e-89c1-4a1c-c683-a187c78b4a44"
      },
      "outputs": [
        {
          "data": {
            "application/vnd.google.colaboratory.intrinsic+json": {
              "type": "string"
            },
            "text/plain": [
              "'hiybyeyyy'"
            ]
          },
          "execution_count": 77,
          "metadata": {},
          "output_type": "execute_result"
        }
      ],
      "source": [
        "def xy(s):\n",
        "  if len(s)==1:\n",
        "    if s=='x':\n",
        "      return 'y'\n",
        "    else:\n",
        "      return s\n",
        "  else:\n",
        "    if s[0]=='x':\n",
        "      return 'y'+xy(s[1:])\n",
        "    else:\n",
        "      return s[0]+xy(s[1:])\n",
        "\n",
        "xy('hixbyexyx')"
      ]
    },
    {
      "cell_type": "markdown",
      "metadata": {
        "id": "r_Od8iLMcbyp"
      },
      "source": [
        "Given an array of ints, compute recursively if the array contains a 6. We'll use the convention of\n",
        "considering only the part of the array that begins at the given index. In this way, a recursive call\n",
        "can pass index+1 to move down the array. The initial call will pass in index as 0."
      ]
    },
    {
      "cell_type": "code",
      "execution_count": null,
      "metadata": {
        "colab": {
          "base_uri": "https://localhost:8080/"
        },
        "id": "ShQhEbrCceOk",
        "outputId": "31e88c6e-3faf-4356-a5a4-3c76c1c8d8f7"
      },
      "outputs": [
        {
          "data": {
            "text/plain": [
              "False"
            ]
          },
          "execution_count": 80,
          "metadata": {},
          "output_type": "execute_result"
        }
      ],
      "source": [
        "def six(a):\n",
        "  if len(a)==1:\n",
        "    if a[0]==6:\n",
        "      return True\n",
        "    else:\n",
        "      return False\n",
        "  else:\n",
        "    if a[0]==6:\n",
        "      return True\n",
        "    else:\n",
        "      return six(a[1:])\n",
        "six([1,2,2,3])"
      ]
    },
    {
      "cell_type": "markdown",
      "metadata": {
        "id": "yF6J_O5OcyFm"
      },
      "source": [
        "Given a string, compute recursively a new string where all the adjacent chars are now\n",
        "separated by a \"*\"."
      ]
    },
    {
      "cell_type": "code",
      "execution_count": null,
      "metadata": {
        "colab": {
          "base_uri": "https://localhost:8080/",
          "height": 36
        },
        "id": "7px2kS1bc0xT",
        "outputId": "deaf801c-e886-404f-af89-3d1995b3673d"
      },
      "outputs": [
        {
          "data": {
            "application/vnd.google.colaboratory.intrinsic+json": {
              "type": "string"
            },
            "text/plain": [
              "'h*e*l*l*o'"
            ]
          },
          "execution_count": 81,
          "metadata": {},
          "output_type": "execute_result"
        }
      ],
      "source": [
        "def star(s):\n",
        "  if len(s)==1:\n",
        "    return s\n",
        "  else:\n",
        "    return s[0]+'*'+star(s[1:])\n",
        "star('hello')"
      ]
    },
    {
      "cell_type": "markdown",
      "metadata": {
        "id": "5D6YyJoKdPAU"
      },
      "source": [
        "We'll say that a \"pair\" in a string is two instances of a char separated by a char. So \"AxA\" the A's\n",
        "make a pair. Pair's can overlap, so \"AxAxA\" contains 3 pairs -- 2 for A and 1 for x. Recursively\n",
        "compute the number of pairs in the given string."
      ]
    },
    {
      "cell_type": "code",
      "execution_count": null,
      "metadata": {
        "colab": {
          "base_uri": "https://localhost:8080/"
        },
        "id": "8wUBcLsXdR4j",
        "outputId": "75199f8a-2b70-4abb-d3c6-dfcc199d82e9"
      },
      "outputs": [
        {
          "data": {
            "text/plain": [
              "5"
            ]
          },
          "execution_count": 86,
          "metadata": {},
          "output_type": "execute_result"
        }
      ],
      "source": [
        "def pair(s):\n",
        "  if len(s)<=3:\n",
        "    if s[0]==s[2]:\n",
        "      return 1\n",
        "    else:\n",
        "      return 0\n",
        "  else:\n",
        "    if s[0]==s[2]:\n",
        "      return 1+pair(s[1:])\n",
        "    else:\n",
        "      return pair(s[1:])\n",
        "\n",
        "\n",
        "pair('aaaaaaa')"
      ]
    },
    {
      "cell_type": "markdown",
      "metadata": {
        "id": "LqlSHuJodsPp"
      },
      "source": [
        "Given a string, return recursively a \"cleaned\" string where adjacent chars that are the same\n",
        "have been reduced to a single char. So \"yyzzza\" yields \"yza\"."
      ]
    },
    {
      "cell_type": "code",
      "execution_count": null,
      "metadata": {
        "colab": {
          "base_uri": "https://localhost:8080/",
          "height": 36
        },
        "id": "_-_7TACbd0qW",
        "outputId": "8e8bb521-6cb8-4343-dc5a-4b33f87a1f4b"
      },
      "outputs": [
        {
          "data": {
            "application/vnd.google.colaboratory.intrinsic+json": {
              "type": "string"
            },
            "text/plain": [
              "'yza'"
            ]
          },
          "execution_count": 1,
          "metadata": {},
          "output_type": "execute_result"
        }
      ],
      "source": [
        "def clean(s):\n",
        "  if len(s)==2:\n",
        "    if s[0]==s[1]:\n",
        "      return s[0]\n",
        "    else:\n",
        "      return s\n",
        "  else:\n",
        "    if s[0]==s[1]:\n",
        "      return clean(s[1:])\n",
        "    else:\n",
        "      return s[0]+clean(s[1:])\n",
        "clean('yyzzza')"
      ]
    },
    {
      "cell_type": "markdown",
      "metadata": {
        "id": "u-pFrVJdePKK"
      },
      "source": [
        "Given a string, return true if it is a nesting of zero or more pairs of parenthesis, like \"(())\" or\n",
        "\"((()))\". Suggestion: check the first and last chars, and then recur on what's inside them."
      ]
    },
    {
      "cell_type": "code",
      "execution_count": null,
      "metadata": {
        "colab": {
          "base_uri": "https://localhost:8080/"
        },
        "id": "IM5XZYzaeWro",
        "outputId": "128f7b52-1b62-431a-cceb-c8c4e8e51d57"
      },
      "outputs": [
        {
          "data": {
            "text/plain": [
              "False"
            ]
          },
          "execution_count": 102,
          "metadata": {},
          "output_type": "execute_result"
        }
      ],
      "source": [
        "def nestParen(str):\n",
        "    if len(str) == 0: return True\n",
        "    if len(str) == 1: return False\n",
        "    if str[0] == '(' and str[-1] == ')': return nestParen(str[1:-1])\n",
        "    return False\n",
        "nestParen('aaa')"
      ]
    },
    {
      "cell_type": "markdown",
      "metadata": {
        "id": "46Gwb0YOe4lM"
      },
      "source": [
        "Given a string and a non-empty substring sub, compute recursively the largest substring which\n",
        "starts and ends with sub and return its length."
      ]
    },
    {
      "cell_type": "code",
      "execution_count": null,
      "metadata": {
        "colab": {
          "base_uri": "https://localhost:8080/"
        },
        "id": "RXSkN_P3e7gd",
        "outputId": "a655f7e4-b172-40e9-85b2-a62b2d7db202"
      },
      "outputs": [
        {
          "data": {
            "text/plain": [
              "2"
            ]
          },
          "execution_count": 107,
          "metadata": {},
          "output_type": "execute_result"
        }
      ],
      "source": [
        "def strDist(s,a):\n",
        "    if len(s)<len(a):\n",
        "      return 0\n",
        "    if s[0:len(a)]==a:\n",
        "      if s[-len(a):]==a:\n",
        "        return len(s)\n",
        "      else:\n",
        "        return strDist(s[0:-1],a)\n",
        "    else:\n",
        "      if s[0:len(a)]!=a:\n",
        "        return strDist(s[1:],a)\n",
        "      \n",
        "strDist('chuphibye\n",
        "blaaaaa','hi')"
      ]
    },
    {
      "cell_type": "code",
      "execution_count": null,
      "metadata": {
        "colab": {
          "base_uri": "https://localhost:8080/"
        },
        "id": "ak1Jygnogpsf",
        "outputId": "92cc1900-0656-4a4c-f930-179da1811c55"
      },
      "outputs": [
        {
          "data": {
            "text/plain": [
              "2.5928571428571425"
            ]
          },
          "execution_count": 109,
          "metadata": {},
          "output_type": "execute_result"
        }
      ],
      "source": [
        "def harmonicsum(n):\n",
        "  if (1/n)==1:\n",
        "    return 1\n",
        "  else:\n",
        "    return (1/n)+harmonicsum(n-1)\n",
        "harmonicsum(7)"
      ]
    },
    {
      "cell_type": "code",
      "execution_count": null,
      "metadata": {
        "colab": {
          "base_uri": "https://localhost:8080/"
        },
        "id": "X1qRR_WzfHXk",
        "outputId": "4d6719e0-6e43-44f3-ad87-4a366c0b0656"
      },
      "outputs": [
        {
          "data": {
            "text/plain": [
              "False"
            ]
          },
          "execution_count": 11,
          "metadata": {},
          "output_type": "execute_result"
        }
      ],
      "source": [
        "def binary(a,v,low,high=6):\n",
        "  if low>high:\n",
        "    return False\n",
        "  if v>len(a):\n",
        "    return False\n",
        "  else:\n",
        "    mid=(low+high)//2\n",
        "    if a[mid]==v:\n",
        "      return True\n",
        "    elif a[mid]>v:\n",
        "      return binary(a,v,low,mid-1)\n",
        "    else:\n",
        "      return binary(a,v,mid+1,high)\n",
        "binary([1,2,3,4,5,6],6,0,6)"
      ]
    },
    {
      "cell_type": "code",
      "execution_count": null,
      "metadata": {
        "colab": {
          "base_uri": "https://localhost:8080/"
        },
        "id": "oNaxTTKC07pF",
        "outputId": "66aad74d-d7bb-4d08-96ea-f945bc886e34"
      },
      "outputs": [
        {
          "name": "stdout",
          "output_type": "stream",
          "text": [
            "[-5, 3, 4, 17, 19, 20]\n"
          ]
        }
      ],
      "source": [
        "#Task-1:\n",
        "\n",
        "def findmin(arr, idx):\n",
        "    if idx == len(arr)-1:\n",
        "        return idx\n",
        "    strt = findmin(arr, idx + 1)\n",
        "    if arr[idx] < arr[strt]:\n",
        "        return idx\n",
        "    return strt\n",
        "def selec_sort(arr, i):\n",
        "    if i == len(arr) - 1:\n",
        "        return \n",
        "    n = findmin(arr, i)  \n",
        "    arr[n], arr[i] = arr[i], arr[n]\n",
        "    selec_sort(arr, i + 1)\n",
        "\n",
        "arr = [3, -5, 20, 19, 17, 4]     \n",
        "i = 0\n",
        "selec_sort(arr, i)\n",
        "print(arr) \n"
      ]
    },
    {
      "cell_type": "code",
      "execution_count": null,
      "metadata": {
        "colab": {
          "base_uri": "https://localhost:8080/"
        },
        "id": "eDY4pYQy4XlK",
        "outputId": "57fb084f-70cc-40e1-b772-862d4db13436"
      },
      "outputs": [
        {
          "name": "stdout",
          "output_type": "stream",
          "text": [
            "[-8, 1, 2, 3, 5, 7, 8]\n"
          ]
        }
      ],
      "source": [
        "def insert_sort(array, i):\n",
        "    if i == len(array):\n",
        "        return\n",
        "    else:\n",
        "        rec_InsertionSort(array, i, array[i])\n",
        "        insert_sort(array, i+1)\n",
        "\n",
        "def rec_InsertionSort(array, i, var):\n",
        "    if i==0 or array[i-1] < var:\n",
        "        array[i] = var\n",
        "        return\n",
        "    else:\n",
        "        array[i] = array[i-1]\n",
        "        rec_InsertionSort(array, i-1, var)\n",
        "\n",
        "array = [5, 1, -8, 2, 7, 3, 8]\n",
        "insert_sort(array, 1)\n",
        "print(array)"
      ]
    },
    {
      "cell_type": "code",
      "execution_count": null,
      "metadata": {
        "colab": {
          "base_uri": "https://localhost:8080/"
        },
        "id": "yNpyfaS17x4i",
        "outputId": "13d6147e-7224-486b-afc0-c1b01aa6b452"
      },
      "outputs": [
        {
          "name": "stdout",
          "output_type": "stream",
          "text": [
            "[1, 2, 3, 4]\n"
          ]
        }
      ],
      "source": [
        "def insert1(a,i):\n",
        "  if i==len(a):\n",
        "    return\n",
        "  else:\n",
        "    insert2(a,i,a[i])\n",
        "\n",
        "    insert1(a,i+1)\n",
        "def insert2(a,i,var):\n",
        "  if i== 0 or a[i-1]<var:\n",
        "    a[i]=var\n",
        "    return\n",
        "  else:\n",
        "    a[i]=a[i-1]\n",
        "\n",
        "    insert2(a,i-1,var)\n",
        "array = [4,2,1,3]\n",
        "insert1(array, 1)\n",
        "print(array)"
      ]
    },
    {
      "cell_type": "code",
      "execution_count": null,
      "metadata": {
        "id": "jYkTjopeAwvU"
      },
      "outputs": [],
      "source": [
        "def bubblesort(head):\n",
        "    t = head\n",
        "    j = head\n",
        "    while j.next != None:\n",
        "        t = head\n",
        "        while t.next != None:\n",
        "            if t.elem > t.next.elem:\n",
        "                temp = t.next.elem\n",
        "                t.next.elem = t.elem\n",
        "                t.elem = temp\n",
        "            t = t.next\n",
        "        j = j.next"
      ]
    },
    {
      "cell_type": "code",
      "execution_count": null,
      "metadata": {
        "colab": {
          "base_uri": "https://localhost:8080/"
        },
        "id": "-XYPK1yUBlbM",
        "outputId": "463fe9a6-0cd3-4673-f5b6-e3ff114f33a3"
      },
      "outputs": [
        {
          "name": "stdout",
          "output_type": "stream",
          "text": [
            "[0, 1]\n",
            "[1, 1, 0]\n",
            "[0, 1]\n",
            "[0, 2, 1, 0]\n",
            "3\n"
          ]
        }
      ],
      "source": [
        "#Task-7:\n",
        "\n",
        "def fibonacci(n):\n",
        "    t = n-1\n",
        "    new = [0] * t\n",
        "    a = t -1\n",
        "    if t == 0:\n",
        "        return 0\n",
        "    elif t == 1:\n",
        "        return 1\n",
        "    else:\n",
        "        if new[a] != 0:\n",
        "            return new[a]\n",
        "        else:\n",
        "            var1 = fibonacci(n-1)\n",
        "            var2 = fibonacci(n-2)\n",
        "            new[a-1] = var2\n",
        "            new[a-2] = var1\n",
        "            print(new)\n",
        "            return var1 + var2\n",
        "print(fibonacci(5))"
      ]
    },
    {
      "cell_type": "code",
      "execution_count": null,
      "metadata": {
        "colab": {
          "base_uri": "https://localhost:8080/"
        },
        "id": "RGlH_OBwB-vk",
        "outputId": "bed3d265-70ad-4969-9bac-2bc69e6977b6"
      },
      "outputs": [
        {
          "name": "stdout",
          "output_type": "stream",
          "text": [
            "5\n"
          ]
        }
      ],
      "source": [
        "def fibonacci(n):\n",
        "  arr=[None]*(n+1)\n",
        "  if n==0:\n",
        "    return 0\n",
        "  if n==1:\n",
        "    return 1\n",
        "  else:\n",
        "    if arr[n]!=None:\n",
        "      return arr[n]\n",
        "    else:\n",
        "      arr[n]=fibonacci(n-1)+fibonacci(n-2)\n",
        "      return arr[n]\n",
        "print(fibonacci(5))"
      ]
    }
  ],
  "metadata": {
    "colab": {
      "provenance": []
    },
    "kernelspec": {
      "display_name": "Python 3",
      "language": "python",
      "name": "python3"
    },
    "language_info": {
      "codemirror_mode": {
        "name": "ipython",
        "version": 3
      },
      "file_extension": ".py",
      "mimetype": "text/x-python",
      "name": "python",
      "nbconvert_exporter": "python",
      "pygments_lexer": "ipython3",
      "version": "3.11.0 (v3.11.0:deaf509e8f, Oct 24 2022, 14:43:23) [Clang 13.0.0 (clang-1300.0.29.30)]"
    },
    "vscode": {
      "interpreter": {
        "hash": "aee8b7b246df8f9039afb4144a1f6fd8d2ca17a180786b69acc140d282b71a49"
      }
    }
  },
  "nbformat": 4,
  "nbformat_minor": 0
}
