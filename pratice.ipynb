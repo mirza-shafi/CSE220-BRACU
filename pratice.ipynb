{
 "cells": [
  {
   "cell_type": "code",
   "execution_count": 1,
   "metadata": {},
   "outputs": [
    {
     "data": {
      "text/plain": [
       "[1, 2, 3, 4, 5, None, None, None, None, None]"
      ]
     },
     "execution_count": 1,
     "metadata": {},
     "output_type": "execute_result"
    }
   ],
   "source": [
    "#resizing array\n",
    "arr = [1,2,3,4,5]\n",
    "def resizing(arr,new_cap = 2*len(arr)):\n",
    "    new = [None]*new_cap\n",
    "    if len(arr)<len(new):\n",
    "        for i in range(len(arr)):\n",
    "            new[i] = arr[i]\n",
    "    return new\n",
    "resizing(arr)"
   ]
  },
  {
   "cell_type": "code",
   "execution_count": 1,
   "metadata": {},
   "outputs": [
    {
     "name": "stdout",
     "output_type": "stream",
     "text": [
      "hello world\n"
     ]
    }
   ],
   "source": [
    "print(\"hello world\")"
   ]
  },
  {
   "cell_type": "code",
   "execution_count": 2,
   "metadata": {},
   "outputs": [
    {
     "name": "stdout",
     "output_type": "stream",
     "text": [
      "[None, None, None, None, None]\n"
     ]
    }
   ],
   "source": [
    "arr = [None]*5\n",
    "print(arr)"
   ]
  },
  {
   "cell_type": "code",
   "execution_count": 3,
   "metadata": {},
   "outputs": [
    {
     "data": {
      "text/plain": [
       "[1, 2, 3, 4, 5]"
      ]
     },
     "execution_count": 3,
     "metadata": {},
     "output_type": "execute_result"
    }
   ],
   "source": [
    "arr = [1,2,3,4,5]\n",
    "def copy(arr):\n",
    "    new = [None]*len(arr)\n",
    "    for i in range(len(arr)):\n",
    "        new[i] = arr[i]\n",
    "    return new\n",
    "copy(arr)"
   ]
  },
  {
   "cell_type": "code",
   "execution_count": 4,
   "metadata": {},
   "outputs": [
    {
     "data": {
      "text/plain": [
       "[1, 2, 3, 4, 5, None, None, None, None, None]"
      ]
     },
     "execution_count": 4,
     "metadata": {},
     "output_type": "execute_result"
    }
   ],
   "source": [
    "arr = [1,2,3,4,5]\n",
    "def resize(arr):\n",
    "    new = [None]*10\n",
    "    for i in range(len(arr)):\n",
    "        new[i] = arr[i]\n",
    "    return new\n",
    "resize(arr)"
   ]
  },
  {
   "cell_type": "code",
   "execution_count": 6,
   "metadata": {},
   "outputs": [
    {
     "data": {
      "text/plain": [
       "[5, 4, 3, 2, 1]"
      ]
     },
     "execution_count": 6,
     "metadata": {},
     "output_type": "execute_result"
    }
   ],
   "source": [
    "#reverse\n",
    "arr = [1,2,3,4,5]\n",
    "def reverse(arr):\n",
    "    i = 0\n",
    "    j = len(arr)-1\n",
    "    while i<j:\n",
    "        arr[i],arr[j] = arr[j],arr[i]\n",
    "        i+=1\n",
    "        j-=1\n",
    "    return arr\n",
    "reverse(arr)"
   ]
  },
  {
   "cell_type": "code",
   "execution_count": 7,
   "metadata": {},
   "outputs": [
    {
     "data": {
      "text/plain": [
       "[2, 3, 4, 5, 6, None]"
      ]
     },
     "execution_count": 7,
     "metadata": {},
     "output_type": "execute_result"
    }
   ],
   "source": [
    "#left shifting\n",
    "arr = [1,2,3,4,5,6]\n",
    "def leftshifting(arr):\n",
    "    for i in range(len(arr)-1):\n",
    "        arr[i] = arr[i+1]\n",
    "    arr[len(arr)-1] = None\n",
    "    return arr\n",
    "leftshifting(arr)"
   ]
  },
  {
   "cell_type": "code",
   "execution_count": 8,
   "metadata": {},
   "outputs": [
    {
     "data": {
      "text/plain": [
       "[None, 1, 2, 3, 4, 5]"
      ]
     },
     "execution_count": 8,
     "metadata": {},
     "output_type": "execute_result"
    }
   ],
   "source": [
    "#rightshifting\n",
    "arr = [1,2,3,4,5,6]\n",
    "def right(arr):\n",
    "    for i in range(len(arr)-1,-1,-1):\n",
    "        arr[i] = arr[i-1]\n",
    "    arr[0] = None\n",
    "    return arr\n",
    "right(arr)"
   ]
  },
  {
   "cell_type": "code",
   "execution_count": 10,
   "metadata": {},
   "outputs": [
    {
     "data": {
      "text/plain": [
       "[1, 2, 4, 5, 0]"
      ]
     },
     "execution_count": 10,
     "metadata": {},
     "output_type": "execute_result"
    }
   ],
   "source": [
    "#remove\n",
    "arr = [1,2,3,4,5]\n",
    "def remove(arr,idx):\n",
    "    for i in range(idx,len(arr)-1):\n",
    "        arr[i] = arr[i+1]\n",
    "    arr[len(arr)-1] = 0\n",
    "    return arr\n",
    "remove(arr,2)\n",
    "    "
   ]
  },
  {
   "cell_type": "code",
   "execution_count": 11,
   "metadata": {},
   "outputs": [
    {
     "data": {
      "text/plain": [
       "[1, 2, 34, 4, 5, 6]"
      ]
     },
     "execution_count": 11,
     "metadata": {},
     "output_type": "execute_result"
    }
   ],
   "source": [
    "#insert\n",
    "arr = [1,2,3,4,5,6]\n",
    "def add(arr,idx,val):\n",
    "    for i in range(len(arr)):\n",
    "        if i == idx:\n",
    "            arr[i] = val\n",
    "    return arr\n",
    "add(arr,2,34)\n",
    "        "
   ]
  },
  {
   "cell_type": "code",
   "execution_count": 16,
   "metadata": {},
   "outputs": [
    {
     "data": {
      "text/plain": [
       "[2, 3, 4, 5, 6, 1]"
      ]
     },
     "execution_count": 16,
     "metadata": {},
     "output_type": "execute_result"
    }
   ],
   "source": [
    "#rotating\n",
    "arr = [1,2,3,4,5,6]\n",
    "def left(arr):\n",
    "    temp = arr[0]\n",
    "    for i in range(len(arr)-1):\n",
    "        arr[i] = arr[i+1]\n",
    "    arr[len(arr)-1] = temp\n",
    "    return arr\n",
    "left(arr)"
   ]
  },
  {
   "cell_type": "code",
   "execution_count": 17,
   "metadata": {},
   "outputs": [
    {
     "data": {
      "text/plain": [
       "[6, 1, 2, 3, 4, 5]"
      ]
     },
     "execution_count": 17,
     "metadata": {},
     "output_type": "execute_result"
    }
   ],
   "source": [
    "#right rotating\n",
    "arr = [1,2,3,4,5,6]\n",
    "def right(arr):\n",
    "    temp = arr[len(arr)-1]\n",
    "    for i in range(len(arr)-1,-1,-1):\n",
    "        arr[i] = arr[i-1]\n",
    "    arr[0] = temp\n",
    "    return arr\n",
    "right(arr)"
   ]
  },
  {
   "cell_type": "code",
   "execution_count": 23,
   "metadata": {},
   "outputs": [
    {
     "name": "stdout",
     "output_type": "stream",
     "text": [
      "1 2 3 4 5 6 "
     ]
    }
   ],
   "source": [
    "#circular array\n",
    "#forward iteration\n",
    "arr = [4,5,6,1,2,3]\n",
    "def forward(arr,st,size):\n",
    "    temp = st\n",
    "    for i in range(size):\n",
    "        print(arr[temp],end = ' ')\n",
    "        temp = (temp+1)%len(arr)\n",
    "forward(arr,3,6)\n"
   ]
  },
  {
   "cell_type": "code",
   "execution_count": 29,
   "metadata": {},
   "outputs": [
    {
     "name": "stdout",
     "output_type": "stream",
     "text": [
      "6 5 4 3 2 1 "
     ]
    }
   ],
   "source": [
    "#backward iteration\n",
    "arr = [4,5,6,1,2,3]\n",
    "def back(arr,st,size):\n",
    "    start = ((size+st)-1)%len(arr)\n",
    "    for i in range(size):\n",
    "        print(arr[start],end = ' ')\n",
    "        start = (start-1)%len(arr)\n",
    "back(arr,3,6)"
   ]
  },
  {
   "cell_type": "code",
   "execution_count": 24,
   "metadata": {},
   "outputs": [
    {
     "data": {
      "text/plain": [
       "2"
      ]
     },
     "execution_count": 24,
     "metadata": {},
     "output_type": "execute_result"
    }
   ],
   "source": [
    "12%10"
   ]
  },
  {
   "cell_type": "code",
   "execution_count": 25,
   "metadata": {},
   "outputs": [
    {
     "data": {
      "text/plain": [
       "5"
      ]
     },
     "execution_count": 25,
     "metadata": {},
     "output_type": "execute_result"
    }
   ],
   "source": [
    "-1%6"
   ]
  },
  {
   "cell_type": "code",
   "execution_count": 32,
   "metadata": {},
   "outputs": [
    {
     "data": {
      "text/plain": [
       "[None, 1, 2, None, 4, 5, 6]"
      ]
     },
     "execution_count": 32,
     "metadata": {},
     "output_type": "execute_result"
    }
   ],
   "source": [
    "#circular array remove\n",
    "arr = [None,1,2,3,4,5,6]\n",
    "def remove(arr,size,st,idx):\n",
    "    fromm = idx-1\n",
    "    if fromm<0:\n",
    "        fromm  = len(arr)-1\n",
    "    while fromm>st:\n",
    "        arr[fromm+1] = arr[fromm]\n",
    "        fromm-=1\n",
    "        if fromm<0:\n",
    "            fromm = len(arr)-1\n",
    "    arr[idx] = None\n",
    "    return arr\n",
    "remove(arr,7,1,3)\n",
    "    "
   ]
  },
  {
   "cell_type": "code",
   "execution_count": 10,
   "metadata": {},
   "outputs": [
    {
     "name": "stdout",
     "output_type": "stream",
     "text": [
      "[10, 20, 30, 40, 50, 60, 70, 80, 90, 100]\n"
     ]
    }
   ],
   "source": [
    "arr1 = [40,50,10,20,30]\n",
    "arr2 = [90,100,60,70,80]\n",
    "arr = [0]*(len(arr1)+len(arr2))\n",
    "size = 5\n",
    "size = 5\n",
    "start1 = 2\n",
    "start2 = 2\n",
    "for i in range(len(arr)):\n",
    "    for k in range(len(arr1)):\n",
    "        arr[k] = arr1[start1]\n",
    "        start1+=1\n",
    "        start1 = start1%len(arr1)\n",
    "    for j in range(len(arr2)):\n",
    "        arr[j+len(arr1)] = arr2[start2]\n",
    "        start2+=1\n",
    "        start2 = start2%len(arr2)\n",
    "print(arr)\n",
    "\n",
    "#print(arr)"
   ]
  },
  {
   "cell_type": "code",
   "execution_count": 14,
   "metadata": {},
   "outputs": [
    {
     "name": "stdout",
     "output_type": "stream",
     "text": [
      "[10, 20, 30, 40, 50, 60, 70, 80, 90, 100]\n"
     ]
    }
   ],
   "source": [
    "#another solve  problem 1\n",
    "arr1 = [40,50,10,20,30]\n",
    "arr2 = [90,100,60,70,80]\n",
    "arr = [0]*(len(arr1)+len(arr2))\n",
    "size1 = 5\n",
    "size2 = 5\n",
    "start1 = 2\n",
    "start2 = 2\n",
    "for i in range(len(arr)):\n",
    "    if i<size1:\n",
    "        arr[i] = arr1[start1]\n",
    "        start1 = (start1+1)%len(arr1)\n",
    "    else:\n",
    "        arr[i] = arr2[start2]\n",
    "        start2 = (start2+1)%len(arr2)\n",
    "print(arr)"
   ]
  },
  {
   "cell_type": "code",
   "execution_count": 16,
   "metadata": {},
   "outputs": [
    {
     "name": "stdout",
     "output_type": "stream",
     "text": [
      "4\n"
     ]
    }
   ],
   "source": [
    "#problem2\n",
    "arr = [[10,144,13],[4,5,16],[7,8,9]]\n",
    "min_val = None\n",
    "for i in range(len(arr)):\n",
    "    for j in range(len(arr[i])):\n",
    "        if min_val == None:\n",
    "            min_val = arr[i][j]\n",
    "        elif min_val>arr[i][j]:\n",
    "            min_val = arr[i][j]\n",
    "print(min_val)"
   ]
  },
  {
   "cell_type": "code",
   "execution_count": 5,
   "metadata": {},
   "outputs": [
    {
     "ename": "UnboundLocalError",
     "evalue": "local variable 'tail1' referenced before assignment",
     "output_type": "error",
     "traceback": [
      "\u001b[0;31m---------------------------------------------------------------------------\u001b[0m",
      "\u001b[0;31mUnboundLocalError\u001b[0m                         Traceback (most recent call last)",
      "\u001b[1;32m/Users/mirzashafi/Shafi's project/python/versity/cse220/pratice.ipynb Cell 21\u001b[0m in \u001b[0;36m<cell line: 37>\u001b[0;34m()\u001b[0m\n\u001b[1;32m     <a href='vscode-notebook-cell:/Users/mirzashafi/Shafi%27s%20project/python/versity/cse220/pratice.ipynb#X26sZmlsZQ%3D%3D?line=33'>34</a>\u001b[0m             head2_next_val \u001b[39m=\u001b[39m head2_next_val\u001b[39m.\u001b[39mnext \n\u001b[1;32m     <a href='vscode-notebook-cell:/Users/mirzashafi/Shafi%27s%20project/python/versity/cse220/pratice.ipynb#X26sZmlsZQ%3D%3D?line=35'>36</a>\u001b[0m s \u001b[39m=\u001b[39m Linkedlist()\n\u001b[0;32m---> <a href='vscode-notebook-cell:/Users/mirzashafi/Shafi%27s%20project/python/versity/cse220/pratice.ipynb#X26sZmlsZQ%3D%3D?line=36'>37</a>\u001b[0m s\u001b[39m.\u001b[39;49mcreate(arr1,arr2)\n",
      "\u001b[1;32m/Users/mirzashafi/Shafi's project/python/versity/cse220/pratice.ipynb Cell 21\u001b[0m in \u001b[0;36mLinkedlist.create\u001b[0;34m(self, arr1, arr2)\u001b[0m\n\u001b[1;32m     <a href='vscode-notebook-cell:/Users/mirzashafi/Shafi%27s%20project/python/versity/cse220/pratice.ipynb#X26sZmlsZQ%3D%3D?line=14'>15</a>\u001b[0m \u001b[39mfor\u001b[39;00m i \u001b[39min\u001b[39;00m \u001b[39mrange\u001b[39m(\u001b[39m1\u001b[39m,\u001b[39mlen\u001b[39m(arr1)):\n\u001b[1;32m     <a href='vscode-notebook-cell:/Users/mirzashafi/Shafi%27s%20project/python/versity/cse220/pratice.ipynb#X26sZmlsZQ%3D%3D?line=15'>16</a>\u001b[0m     new_node \u001b[39m=\u001b[39m Node(arr1[i],\u001b[39mNone\u001b[39;00m)   \u001b[39m# >> [3|None]\u001b[39;00m\n\u001b[0;32m---> <a href='vscode-notebook-cell:/Users/mirzashafi/Shafi%27s%20project/python/versity/cse220/pratice.ipynb#X26sZmlsZQ%3D%3D?line=16'>17</a>\u001b[0m     tail1\u001b[39m.\u001b[39mnext \u001b[39m=\u001b[39m new_node    \u001b[39m#[1,3 None]\u001b[39;00m\n\u001b[1;32m     <a href='vscode-notebook-cell:/Users/mirzashafi/Shafi%27s%20project/python/versity/cse220/pratice.ipynb#X26sZmlsZQ%3D%3D?line=17'>18</a>\u001b[0m     tail1 \u001b[39m=\u001b[39m tail1\u001b[39m.\u001b[39mnext\n\u001b[1;32m     <a href='vscode-notebook-cell:/Users/mirzashafi/Shafi%27s%20project/python/versity/cse220/pratice.ipynb#X26sZmlsZQ%3D%3D?line=18'>19</a>\u001b[0m \u001b[39mfor\u001b[39;00m i \u001b[39min\u001b[39;00m \u001b[39mrange\u001b[39m(\u001b[39m1\u001b[39m,\u001b[39mlen\u001b[39m(arr1)):\n",
      "\u001b[0;31mUnboundLocalError\u001b[0m: local variable 'tail1' referenced before assignment"
     ]
    }
   ],
   "source": [
    "#linked list  zigleg method\n",
    "#problem 3\n",
    "arr1  = [1,3,5,None]\n",
    "arr2 = [2,4,6,None]\n",
    "class Node:\n",
    "    def __init__(self,elem,next):\n",
    "        self.elem = elem\n",
    "        self.next = next\n",
    "class Linkedlist:\n",
    "    def create (self,arr1,arr2):\n",
    "        self.head1 = Node(arr1[0],None)\n",
    "        self.head2 = Node(arr2[0],None)\n",
    "        self.tail1 = self.head1\n",
    "        self.tail2 = self.head2\n",
    "        for i in range(1,len(arr1)):\n",
    "            new_node = Node(arr1[i],None)   # >> [3|None]\n",
    "            tail1.next = new_node    #[1,3 None]\n",
    "            tail1 = tail1.next\n",
    "        for i in range(1,len(arr1)):\n",
    "            new_node = Node(arr2[i],None)   # >> [3|None]\n",
    "            tail2.next = new_node    #[1,3 None]\n",
    "            tail2 = tail2.next\n",
    "    def zigzag_marage(self):\n",
    "        temp1 = self.head1   #1\n",
    "        temp2 = self.head2   #2\n",
    "        head1_next_val = temp1.next  #3   5\n",
    "        head2_next_val = temp2.next  #4   6\n",
    "        while temp2.next != None:\n",
    "            temp1.next = temp2    # 1 2 None\n",
    "            temp2.next = head1_next_val   # 1 2 3 None\n",
    "            temp1 = head1_next_val\n",
    "            temp2 = head2_next_val\n",
    "            head1_next_val = head2_next_val.next #\n",
    "            head2_next_val = head2_next_val.next \n",
    "        \n",
    "s = Linkedlist()\n",
    "s.create(arr1,arr2)\n"
   ]
  },
  {
   "cell_type": "code",
   "execution_count": null,
   "metadata": {},
   "outputs": [],
   "source": [
    "#problem 4\n",
    "class Node:\n",
    "    def __init__(self,elem,next):\n",
    "        self.elem = elem\n",
    "        self.next = next\n",
    "    def likedlist(arr):\n",
    "        n = Node()\n",
    "def sorted_linklist(self):\n",
    "    current_node = self."
   ]
  },
  {
   "cell_type": "code",
   "execution_count": 19,
   "metadata": {},
   "outputs": [
    {
     "data": {
      "text/plain": [
       "'stack is empty'"
      ]
     },
     "execution_count": 19,
     "metadata": {},
     "output_type": "execute_result"
    }
   ],
   "source": [
    "class Node:\n",
    "    def __init__(self,val,next):\n",
    "        self.elem = val\n",
    "        self.next = next\n",
    "        \n",
    "class stack:\n",
    "    def __init__(self):\n",
    "        self.top = None\n",
    "    def push(self,val):\n",
    "        if self.top == None:\n",
    "            self.top = Node(val,None)\n",
    "        else:\n",
    "            newNode  = Node(val,None)\n",
    "            newNode.next = self.top\n",
    "            self.top = newNode\n",
    "    def pop(self):\n",
    "        if self.top == None:\n",
    "            return \"stack is empty\"\n",
    "        else:\n",
    "            temp = self.top\n",
    "            self.top = self.top.next\n",
    "            temp.next = None\n",
    "            return temp.elem\n",
    "s = stack()\n",
    "s.push(4)\n",
    "s.pop()\n",
    "s.pop()"
   ]
  },
  {
   "cell_type": "code",
   "execution_count": null,
   "metadata": {},
   "outputs": [],
   "source": [
    "################################### mid practic ##########################################"
   ]
  },
  {
   "cell_type": "code",
   "execution_count": 21,
   "metadata": {},
   "outputs": [
    {
     "data": {
      "text/plain": [
       "[1, 2, 3, 4, 5, 0, 0, 0, 0, 0]"
      ]
     },
     "execution_count": 21,
     "metadata": {},
     "output_type": "execute_result"
    }
   ],
   "source": [
    "#1 array resizing\n",
    "a = [1,2,3,4,5]\n",
    "def re(a,x):\n",
    "    n = [0]*x\n",
    "    if len(a)<len(n):\n",
    "        for i in range(len(a)):\n",
    "            n[i] = a[i]\n",
    "    return n\n",
    "re(a,10)"
   ]
  },
  {
   "cell_type": "code",
   "execution_count": 24,
   "metadata": {},
   "outputs": [
    {
     "data": {
      "text/plain": [
       "[6, 5, 4, 3, 2, 1]"
      ]
     },
     "execution_count": 24,
     "metadata": {},
     "output_type": "execute_result"
    }
   ],
   "source": [
    "# reverse\n",
    "a = [1,2,3,4,5,6]\n",
    "def reverse(a):\n",
    "    i = 0\n",
    "    j = len(a)-1\n",
    "    while i<j:\n",
    "        a[i],a[j] = a[j],a[i]\n",
    "        i+=1\n",
    "        j-=1\n",
    "    return a\n",
    "reverse(a)"
   ]
  },
  {
   "cell_type": "code",
   "execution_count": 25,
   "metadata": {},
   "outputs": [
    {
     "data": {
      "text/plain": [
       "[None, 1, 2, 3, 5]"
      ]
     },
     "execution_count": 25,
     "metadata": {},
     "output_type": "execute_result"
    }
   ],
   "source": [
    "#right shifting\n",
    "a = [1,2,3,5,6]\n",
    "def shift(a):\n",
    "    for i in range(len(a)-1,-1,-1):\n",
    "        a[i] = a[i-1]\n",
    "    a[0] = None\n",
    "    return a\n",
    "shift(a)"
   ]
  },
  {
   "cell_type": "code",
   "execution_count": 26,
   "metadata": {},
   "outputs": [
    {
     "data": {
      "text/plain": [
       "[2, 3, 4, 5, 6, None]"
      ]
     },
     "execution_count": 26,
     "metadata": {},
     "output_type": "execute_result"
    }
   ],
   "source": [
    "#left shiting\n",
    "a = [1,2,3,4,5,6]\n",
    "def left(a):\n",
    "    for i in range(len(a)-1):\n",
    "        a[i] = a[i+1]\n",
    "    a[len(a)-1] = None\n",
    "    return a\n",
    "left(a)"
   ]
  },
  {
   "cell_type": "code",
   "execution_count": 27,
   "metadata": {},
   "outputs": [
    {
     "data": {
      "text/plain": [
       "[2, 3, 4, 5, 6, 1]"
      ]
     },
     "execution_count": 27,
     "metadata": {},
     "output_type": "execute_result"
    }
   ],
   "source": [
    "#left lotating\n",
    "a = [1,2,3,4,5,6]\n",
    "def left(a):\n",
    "    temp = a[0]\n",
    "    for i in range(len(a)-1):\n",
    "        a[i] = a[i+1]\n",
    "    a[len(a)-1] = temp\n",
    "    return a\n",
    "left(a)"
   ]
  },
  {
   "cell_type": "code",
   "execution_count": 29,
   "metadata": {},
   "outputs": [
    {
     "data": {
      "text/plain": [
       "[6, 1, 2, 3, 5]"
      ]
     },
     "execution_count": 29,
     "metadata": {},
     "output_type": "execute_result"
    }
   ],
   "source": [
    "#right rotating\n",
    "a = [1,2,3,5,6]\n",
    "def shift(a):\n",
    "    temp = a[len(a)-1]\n",
    "    for i in range(len(a)-1,-1,-1):\n",
    "        a[i] = a[i-1]\n",
    "    a[0] = temp\n",
    "    return a\n",
    "shift(a)"
   ]
  },
  {
   "cell_type": "code",
   "execution_count": 31,
   "metadata": {},
   "outputs": [
    {
     "data": {
      "text/plain": [
       "[1, 12, 3, 4, 5]"
      ]
     },
     "execution_count": 31,
     "metadata": {},
     "output_type": "execute_result"
    }
   ],
   "source": [
    "# inserting\n",
    "a = [1,2,3,4,5]\n",
    "def insert(a,size,elem,index):\n",
    "    if size == len(a):\n",
    "        print(\"no space left,insertion failed\")\n",
    "    elif index<0:\n",
    "        print(\"negitive index\")\n",
    "    elif size>len(a):\n",
    "        print(\"out of bound\")     \n",
    "    else:\n",
    "        for i in range(size,index-1):\n",
    "            a[i] = a[i-1]\n",
    "        a[index] = elem\n",
    "        return a\n",
    "insert(a,4,12,1) "
   ]
  },
  {
   "cell_type": "code",
   "execution_count": 33,
   "metadata": {},
   "outputs": [
    {
     "data": {
      "text/plain": [
       "[1, 2, 234, 3, 4, 6]"
      ]
     },
     "execution_count": 33,
     "metadata": {},
     "output_type": "execute_result"
    }
   ],
   "source": [
    "#inserting\n",
    "a = [1,2,3,4,5,6]\n",
    "def insert(a,size,elem,index):\n",
    "    if size == len(a):\n",
    "        print(\"there are no space\")\n",
    "    elif size<0:\n",
    "        print(\"neg\")\n",
    "    elif index>len(a):\n",
    "        print(\"out of bound\")\n",
    "    else:\n",
    "        for i in range(size,index,-1):\n",
    "            a[i] = a[i-1]\n",
    "        a[index] = elem\n",
    "        return a\n",
    "insert(a,4,234,2)"
   ]
  },
  {
   "cell_type": "code",
   "execution_count": 34,
   "metadata": {},
   "outputs": [
    {
     "data": {
      "text/plain": [
       "[1, 2, 3, 45, 5]"
      ]
     },
     "execution_count": 34,
     "metadata": {},
     "output_type": "execute_result"
    }
   ],
   "source": [
    "#replease\n",
    "a = [1,2,3,4,5]\n",
    "def rep(a,elem,idx):\n",
    "    if idx>len(a):\n",
    "        print(\"out of bound\")\n",
    "    elif idx<0:\n",
    "        print(\"neg\")\n",
    "    else:\n",
    "        for i in range(idx+1):\n",
    "            if i==idx:\n",
    "                a[i] = elem\n",
    "        return a\n",
    "rep(a,45,3)"
   ]
  },
  {
   "cell_type": "code",
   "execution_count": 35,
   "metadata": {},
   "outputs": [
    {
     "data": {
      "text/plain": [
       "[1, 2, 4, 5, None]"
      ]
     },
     "execution_count": 35,
     "metadata": {},
     "output_type": "execute_result"
    }
   ],
   "source": [
    "#removing \n",
    "a = [1,2,3,4,5]\n",
    "def remove(a,index,size):\n",
    "    for i in range(index+1,size):\n",
    "        a[i-1] = a[i]\n",
    "    a[len(a)-1] = None\n",
    "    return a\n",
    "remove(a,2,5)\n",
    "        "
   ]
  },
  {
   "cell_type": "code",
   "execution_count": 36,
   "metadata": {},
   "outputs": [
    {
     "name": "stdout",
     "output_type": "stream",
     "text": [
      "1 2 3 4 5 6 "
     ]
    }
   ],
   "source": [
    "#circular array\n",
    "#forword iteraiton\n",
    "a = [4,5,6,1,2,3]\n",
    "def forward(a,st,size):\n",
    "    start = st\n",
    "    for i in range(size):\n",
    "        print(a[start],end  = ' ')\n",
    "        start = (start+1)%len(a)\n",
    "forward(a,3,6)"
   ]
  },
  {
   "cell_type": "code",
   "execution_count": 44,
   "metadata": {},
   "outputs": [
    {
     "name": "stdout",
     "output_type": "stream",
     "text": [
      "6 5 4 3 2 1 "
     ]
    }
   ],
   "source": [
    "#backwoard iteration\n",
    "a = [4,5,6,1,2,3]\n",
    "def back(a,st,size):\n",
    "    start = st\n",
    "    #k = st-1\n",
    "    k = (start+size-1)%len(a)\n",
    "    for i in range(size):\n",
    "        print(a[k],end = ' ')\n",
    "        k = (k-1)%len(a)\n",
    "back(a,3,6)"
   ]
  },
  {
   "cell_type": "code",
   "execution_count": 46,
   "metadata": {},
   "outputs": [],
   "source": [
    "#\n",
    "class Node:\n",
    "    def __init__(self,e,n):\n",
    "        self.elem = e\n",
    "        self.next = n\n",
    "    def create_linked(self,a):\n",
    "        self.head = Node(a[0],None)\n",
    "        temp = self.head\n",
    "        for i in range(1,len(a)):\n",
    "            new = Node(a[i],None)\n",
    "            temp.next = new\n",
    "            temp = temp.next\n",
    "        return self.head\n",
    "    def iteration(self):\n",
    "        temp = self.head\n",
    "        while temp.next != None:\n",
    "            print(temp.next)\n",
    "            temp = temp.next\n",
    "    def count(self):\n",
    "        count = 0\n",
    "        temp = self.head\n",
    "        while temp.next!=None:\n",
    "            count+=1\n",
    "            temp = temp.next\n",
    "        return count\n",
    "    def elemAt(self,idx):\n",
    "        temp = self.head\n",
    "        count = 0\n",
    "        while temp.next !=None:\n",
    "            if count == idx:\n",
    "                obj = temp.elem\n",
    "                break\n",
    "            count+=1\n",
    "            temp = temp.next\n",
    "        if obj !=None:\n",
    "            print(\"invalid index\")\n",
    "        else:\n",
    "            return obj\n",
    "    def set(self,elem,idx):\n",
    "        temp = self.head\n",
    "        count = 0\n",
    "        isup = False\n",
    "        while temp.next != None:\n",
    "            if count == idx:\n",
    "                temp.elem = elem\n",
    "                isup = True\n",
    "                break\n",
    "            count+=1\n",
    "            temp = temp.next\n",
    "        if isup:\n",
    "            print(\"succenfully updated\")\n",
    "        else:\n",
    "            print(\"invaild index\")\n",
    "    def insert(self,elem,idx):\n",
    "        total = 10\n",
    "        temp = self.head\n",
    "        if idx == 0:\n",
    "            n = Node(elem,None)\n",
    "            temp = n\n",
    "        elif idx>=1 or idx<total:\n",
    "            n = Node(elem,self.head)\n",
    "            x = Node(elem,idx)\n",
    "            y = Node(elem,idx-1)\n",
    "            y.next = n\n",
    "            n.next = x\n",
    "        elif idx == total:\n",
    "            n = Node(elem,None)\n",
    "            m = Node(elem,total-1)\n",
    "            m.next = n\n",
    "        else:\n",
    "            print(\"inviald index\")\n",
    "    def remove(self,idx):\n",
    "        total = 10\n",
    "        temp = self.head\n",
    "        if idx == 0 :\n",
    "            temp = temp.next    #removing first element\n",
    "        elif idx>=1 or idx<total:\n",
    "            n = Node(,idx)"
   ]
  },
  {
   "cell_type": "code",
   "execution_count": 4,
   "metadata": {},
   "outputs": [
    {
     "name": "stdout",
     "output_type": "stream",
     "text": [
      "Your input is valid. Press any key and then prews enter to continue!!!\n",
      "starting number is U\n",
      "second starting value is T\n",
      "Press any key and then press enter to ocntinue!!!\n",
      "U n i v e r s i t y \n",
      "g n i h t o n 0 0 T Press any key and then press enter to ocntinue!!!\n"
     ]
    }
   ],
   "source": [
    "#\n",
    "def billboar(s1,s2):\n",
    "    if len(s1)>10 or len(s2)>10:\n",
    "        print(\"invaild index\")\n",
    "    else:\n",
    "        print(\"Your input is valid. Press any key and then prews enter to continue!!!\")\n",
    "        a = [[0]*10,[0]*10]\n",
    "        for i in range(len(s1)):\n",
    "            if \"A\"<=s1[i]<\"Z\":\n",
    "                start1 = i\n",
    "                print(\"starting number is\",s1[i])\n",
    "            a[0][i] = s1[i]\n",
    "        for j in  range(len(s2)):\n",
    "            if \"A\"<=s2[j]<=\"Z\":\n",
    "                start2 = j\n",
    "                print('second starting value is',s2[j])\n",
    "            a[1][j] = s2[j]\n",
    "    while True:\n",
    "      print(\"Press any key and then press enter to ocntinue!!!\")\n",
    "      check = input()\n",
    "      if check == 'Q' or check == 'q':\n",
    "            break\n",
    "      point1 = start1\n",
    "      for i in range(len(a[0])):\n",
    "          print(a[0][point1],end = ' ')\n",
    "          point1 = (point1+1)%len(a[0])\n",
    "      start1+=1\n",
    "      print()\n",
    "      point2 = start2\n",
    "      x = (point2+len(a[1])-1)%len(a[1])\n",
    "      for i in range(len(a[1])):\n",
    "          print(a[1][x],end = ' ')\n",
    "          x = (x-1)%len(a[1])\n",
    "s1 = \"versityUni\"\n",
    "s2 = \"nothingT\"\n",
    "billboar(s1,s2)                "
   ]
  },
  {
   "cell_type": "code",
   "execution_count": null,
   "metadata": {},
   "outputs": [],
   "source": [
    "def copy(self):\n",
    "    n = Node(self.head.elem,None)\n",
    "    tail = n\n",
    "    temp = self.head.next\n",
    "    while temp!=None:\n",
    "        t = Node(temp.elem,None)\n",
    "        tail.next = t\n",
    "        tail = tail.next\n",
    "        temp  = temp.next\n",
    "    return n\n",
    "def insert(self,val,idx):\n",
    "    if idx<0 or idx>count():\n",
    "        return None\n",
    "    else:\n",
    "        if idx == 0:\n",
    "            n = Node(val,None)\n",
    "            n.next = self.head\n",
    "            self.head = n\n",
    "        else:\n",
    "            node = Node(val,None)\n",
    "            n1 = nodeat(idx-1)\n",
    "            n2 = nodeat(idx)\n",
    "            n1.next = node\n",
    "            node.next = n2\n",
    "            "
   ]
  },
  {
   "cell_type": "code",
   "execution_count": null,
   "metadata": {},
   "outputs": [],
   "source": [
    "arr1 = [40,50,10,20,30]\n",
    "arr2 = [90,100,60,70,80]\n",
    "arr = [0]*(len(arr1)+len(arr2))\n",
    "size1 = 5\n",
    "size2 = 5\n",
    "start1 = 2\n",
    "start2 = 2\n",
    "for i in range(len(arr)):\n",
    "    for \n",
    "    if size1<start1:\n",
    "        arr[i] = arr1[start1]\n",
    "        start1 = (start1+1)%len(arr1)\n",
    "    elif size1<start2:\n",
    "        arr[]"
   ]
  },
  {
   "cell_type": "code",
   "execution_count": 14,
   "metadata": {},
   "outputs": [
    {
     "ename": "IndexError",
     "evalue": "list index out of range",
     "output_type": "error",
     "traceback": [
      "\u001b[0;31m---------------------------------------------------------------------------\u001b[0m",
      "\u001b[0;31mIndexError\u001b[0m                                Traceback (most recent call last)",
      "\u001b[1;32m/Users/mirzashafi/Shafi's project/python/versity/cse220/pratice.ipynb Cell 41\u001b[0m in \u001b[0;36m<cell line: 22>\u001b[0;34m()\u001b[0m\n\u001b[1;32m     <a href='vscode-notebook-cell:/Users/mirzashafi/Shafi%27s%20project/python/versity/cse220/pratice.ipynb#X56sZmlsZQ%3D%3D?line=19'>20</a>\u001b[0m     \u001b[39mreturn\u001b[39;00m flag\n\u001b[1;32m     <a href='vscode-notebook-cell:/Users/mirzashafi/Shafi%27s%20project/python/versity/cse220/pratice.ipynb#X56sZmlsZQ%3D%3D?line=20'>21</a>\u001b[0m s \u001b[39m=\u001b[39m [\u001b[39m3\u001b[39m,\u001b[39m3\u001b[39m,\u001b[39m4\u001b[39m,\u001b[39m4\u001b[39m]\n\u001b[0;32m---> <a href='vscode-notebook-cell:/Users/mirzashafi/Shafi%27s%20project/python/versity/cse220/pratice.ipynb#X56sZmlsZQ%3D%3D?line=21'>22</a>\u001b[0m check(s)\n",
      "\u001b[1;32m/Users/mirzashafi/Shafi's project/python/versity/cse220/pratice.ipynb Cell 41\u001b[0m in \u001b[0;36mcheck\u001b[0;34m(a)\u001b[0m\n\u001b[1;32m     <a href='vscode-notebook-cell:/Users/mirzashafi/Shafi%27s%20project/python/versity/cse220/pratice.ipynb#X56sZmlsZQ%3D%3D?line=13'>14</a>\u001b[0m \u001b[39m#print(size)\u001b[39;00m\n\u001b[1;32m     <a href='vscode-notebook-cell:/Users/mirzashafi/Shafi%27s%20project/python/versity/cse220/pratice.ipynb#X56sZmlsZQ%3D%3D?line=14'>15</a>\u001b[0m \u001b[39mfor\u001b[39;00m k \u001b[39min\u001b[39;00m \u001b[39mrange\u001b[39m(size\u001b[39m+\u001b[39m\u001b[39m1\u001b[39m):\n\u001b[0;32m---> <a href='vscode-notebook-cell:/Users/mirzashafi/Shafi%27s%20project/python/versity/cse220/pratice.ipynb#X56sZmlsZQ%3D%3D?line=15'>16</a>\u001b[0m     \u001b[39mif\u001b[39;00m new[k] \u001b[39m==\u001b[39m new[k\u001b[39m+\u001b[39;49m\u001b[39m1\u001b[39;49m]:\n\u001b[1;32m     <a href='vscode-notebook-cell:/Users/mirzashafi/Shafi%27s%20project/python/versity/cse220/pratice.ipynb#X56sZmlsZQ%3D%3D?line=16'>17</a>\u001b[0m         flag \u001b[39m=\u001b[39m \u001b[39mTrue\u001b[39;00m\n\u001b[1;32m     <a href='vscode-notebook-cell:/Users/mirzashafi/Shafi%27s%20project/python/versity/cse220/pratice.ipynb#X56sZmlsZQ%3D%3D?line=17'>18</a>\u001b[0m     \u001b[39melse\u001b[39;00m:\n",
      "\u001b[0;31mIndexError\u001b[0m: list index out of range"
     ]
    }
   ],
   "source": [
    "def check(a):\n",
    "    flag = False\n",
    "    new = [0]*len(a)\n",
    "    x = 0\n",
    "    size = 0\n",
    "    for i in range(len(a)):\n",
    "        count = 0\n",
    "        for j in range(i,len(a)-1):\n",
    "            if a[i] ==  a[j]:\n",
    "                count += 1\n",
    "        new[x] = count\n",
    "        x+=1\n",
    "        size+=1\n",
    "    #print(size)\n",
    "    for k in range(size+1):\n",
    "        if new[k] == new[k+1]:\n",
    "            flag = True\n",
    "        else:\n",
    "            flag = False\n",
    "    return flag\n",
    "s = [3,3,4,4]\n",
    "check(s)"
   ]
  },
  {
   "cell_type": "code",
   "execution_count": null,
   "metadata": {},
   "outputs": [],
   "source": []
  },
  {
   "cell_type": "code",
   "execution_count": 1,
   "metadata": {},
   "outputs": [
    {
     "data": {
      "text/plain": [
       "3"
      ]
     },
     "execution_count": 1,
     "metadata": {},
     "output_type": "execute_result"
    }
   ],
   "source": [
    "#stack with linkedlist \n",
    "class Node:\n",
    "    def __init__(self,elem,next):\n",
    "        self.elem = elem\n",
    "        self.next = next\n",
    "class stack:\n",
    "    def __init__(self):\n",
    "        self.top = None\n",
    "    def push(self,val):\n",
    "        if self.top == None:\n",
    "            self.top = Node(val,None)\n",
    "        else:\n",
    "            newNode = Node(val,None)\n",
    "            newNode.next =  self.top\n",
    "            self.top = newNode\n",
    "    def pop(self):\n",
    "        if self.top == None:\n",
    "            return \"stack is empty\"\n",
    "        else:\n",
    "            temp = self.top.elem\n",
    "            self.top = self.top.next\n",
    "            return temp\n",
    "        \n",
    "    def peek(self):\n",
    "        return self.top.elem\n",
    "    def diamond(self,eq):\n",
    "        count = 0\n",
    "        for i in eq:\n",
    "            if i == \"<\":\n",
    "                self.push(i)\n",
    "            elif i == \">\":\n",
    "                if self.top != None:\n",
    "                    self.pop()\n",
    "                    count+=1\n",
    "        return count\n",
    "d = \"><<<<<>>>\"\n",
    "s = stack()\n",
    "s.diamond(d)"
   ]
  },
  {
   "cell_type": "code",
   "execution_count": 4,
   "metadata": {},
   "outputs": [
    {
     "name": "stdout",
     "output_type": "stream",
     "text": [
      "<\n",
      "<\n",
      "<\n",
      "<\n",
      ">\n",
      ">\n",
      ">\n",
      ">\n"
     ]
    }
   ],
   "source": [
    "s  = '<<<<>>>>'\n",
    "for i in s:\n",
    "    print(i)"
   ]
  },
  {
   "cell_type": "code",
   "execution_count": null,
   "metadata": {},
   "outputs": [],
   "source": []
  }
 ],
 "metadata": {
  "kernelspec": {
   "display_name": "Python 3",
   "language": "python",
   "name": "python3"
  },
  "language_info": {
   "codemirror_mode": {
    "name": "ipython",
    "version": 3
   },
   "file_extension": ".py",
   "mimetype": "text/x-python",
   "name": "python",
   "nbconvert_exporter": "python",
   "pygments_lexer": "ipython3",
   "version": "3.10.4 (v3.10.4:9d38120e33, Mar 23 2022, 17:29:05) [Clang 13.0.0 (clang-1300.0.29.30)]"
  },
  "orig_nbformat": 4,
  "vscode": {
   "interpreter": {
    "hash": "7e1998ff7f8aa20ada591c520b972326324e5ea05489af9e422744c7c09f6dad"
   }
  }
 },
 "nbformat": 4,
 "nbformat_minor": 2
}
