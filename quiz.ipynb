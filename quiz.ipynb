{
 "cells": [
  {
   "cell_type": "code",
   "execution_count": 48,
   "metadata": {},
   "outputs": [
    {
     "name": "stdout",
     "output_type": "stream",
     "text": [
      "[1, 0, 0, 1, 0, 1, 2, 0, 0, 1]\n",
      "yes\n",
      "7\n",
      "[-2, 1, 3, 7, 0, 0]\n"
     ]
    }
   ],
   "source": [
    "class keyindex:\n",
    "    def __init__(self,a):\n",
    "        self.min_val = min(a)\n",
    "        if self.min_val>=0:\n",
    "            self.max_val = max(a)\n",
    "            self.aux = [0]*(self.max_val+1)\n",
    "            for i in range(len(a)):\n",
    "                self.aux[a[i]]+=1\n",
    "            print(self.aux)\n",
    "        else:\n",
    "            self.max_val = max(a)\n",
    "            self.aux = [0]*(abs(self.min_val)+self.max_val+1)\n",
    "            for i in range(len(a)):\n",
    "                self.aux[a[i]+abs(self.min_val)]+=1    \n",
    "            print(self.aux)\n",
    "            \n",
    "    def search(self,val):\n",
    "        if val>self.max_val:\n",
    "           print(\"NO\")\n",
    "        else:\n",
    "            if self.min_val>=0:\n",
    "                for i in range(len(self.aux)):\n",
    "                    if len(self.aux)>=self.aux[val] >= 1:\n",
    "                        print(\"yes\")\n",
    "                        break\n",
    "                    else:\n",
    "                        print(\"no\")\n",
    "                        break\n",
    "            else:\n",
    "                for i in range(len(self.aux)):\n",
    "                    if len(self.aux)>=self.aux[val+abs(self.min_val)] >=1:\n",
    "                        print(\"yes\")\n",
    "                        break\n",
    "                    else:\n",
    "                        print('NO')\n",
    "                        break\n",
    "        print(self.max_val)\n",
    "    def sort(self):\n",
    "        if self.min_val>=0:\n",
    "            j = 0\n",
    "            self.sort_ = [0]*len(a)\n",
    "            for i in range(len(self.aux)):\n",
    "                if self.aux[i] == 1:\n",
    "                    self.sort_[j] = i\n",
    "                    j+=1\n",
    "            print(self.sort_)\n",
    "        else:\n",
    "            j = 0\n",
    "            self.sort_ = [0]*len(a)\n",
    "            for i in range(len(self.aux)):\n",
    "                if self.aux[i] == 1:\n",
    "                    self.sort_[j] = i+self.min_val\n",
    "                    j+=1\n",
    "            print(self.sort_)\n",
    "                    \n",
    "        \n",
    "\n",
    "a = [3,-2,4,4,1,7]\n",
    "k = keyindex(a)\n",
    "k.search(4)\n",
    "k.sort()"
   ]
  },
  {
   "cell_type": "code",
   "execution_count": null,
   "metadata": {},
   "outputs": [],
   "source": []
  }
 ],
 "metadata": {
  "kernelspec": {
   "display_name": "Python 3",
   "language": "python",
   "name": "python3"
  },
  "language_info": {
   "codemirror_mode": {
    "name": "ipython",
    "version": 3
   },
   "file_extension": ".py",
   "mimetype": "text/x-python",
   "name": "python",
   "nbconvert_exporter": "python",
   "pygments_lexer": "ipython3",
   "version": "3.11.0 (v3.11.0:deaf509e8f, Oct 24 2022, 14:43:23) [Clang 13.0.0 (clang-1300.0.29.30)]"
  },
  "orig_nbformat": 4,
  "vscode": {
   "interpreter": {
    "hash": "aee8b7b246df8f9039afb4144a1f6fd8d2ca17a180786b69acc140d282b71a49"
   }
  }
 },
 "nbformat": 4,
 "nbformat_minor": 2
}
