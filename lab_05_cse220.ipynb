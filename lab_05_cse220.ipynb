{
 "cells": [
  {
   "cell_type": "code",
   "execution_count": 2,
   "metadata": {},
   "outputs": [
    {
     "name": "stdout",
     "output_type": "stream",
     "text": [
      "not\n",
      ")\n"
     ]
    }
   ],
   "source": [
    "#stack with linkedlist \n",
    "class Node:\n",
    "    def __init__(self,elem,next):\n",
    "        self.elem = elem\n",
    "        self.next = next\n",
    "class stack:\n",
    "    def __init__(self):\n",
    "        self.top = None\n",
    "    def push(self,val):\n",
    "        if self.top == None:\n",
    "            self.top = Node(val,None)\n",
    "        else:\n",
    "            newNode = Node(val,None)\n",
    "            newNode.next =  self.top\n",
    "            self.top = newNode\n",
    "    def pop(self):\n",
    "        if self.top == None:\n",
    "            return \"stack is empty\"\n",
    "        else:\n",
    "            temp = self.top.elem\n",
    "            self.top = self.top.next\n",
    "            return temp\n",
    "        \n",
    "    def peek(self):\n",
    "        return self.top.elem\n",
    "    def peren(self,eq):\n",
    "        fla = False\n",
    "        for i in eq:\n",
    "            if i in [\"(\",\"{\",\"[\"]:\n",
    "                self.push(i)\n",
    "            elif i in [\")\",\"}\",\"]\"]:\n",
    "                c_val = self.pop()\n",
    "                if c_val == \"(\" and i == \")\":\n",
    "                    fla = True\n",
    "                elif c_val == \"{\" and i == \"}\":\n",
    "                    fla =  True\n",
    "                elif c_val == \"[\" and i == \"]\":\n",
    "                    fla = True\n",
    "                else:\n",
    "                    f = i\n",
    "                    fla = False\n",
    "        if self.top != None:\n",
    "            fla = False\n",
    "        if fla == True:\n",
    "            print(\"This correct\")\n",
    "        else:\n",
    "            print(\"This is incurrect\")\n",
    "            print(\"here is\",f,\"error\")\n",
    "eq = \"1+2(3/4))\"\n",
    "\n",
    "s = stack()\n",
    "s.peren(eq)"
   ]
  },
  {
   "cell_type": "code",
   "execution_count": 4,
   "metadata": {},
   "outputs": [
    {
     "name": "stdout",
     "output_type": "stream",
     "text": [
      "not\n",
      "Error is:  }\n"
     ]
    }
   ],
   "source": [
    "#stack with array\n",
    "class stack:\n",
    "    def __init__(self,a):\n",
    "        self.arr = [0]*a\n",
    "        self.size = 0\n",
    "    def push(self,val):\n",
    "        if self.size>len(self.arr):\n",
    "            print\n",
    "        else:\n",
    "            self.arr[self.size] = val\n",
    "            self.size+=1\n",
    "    def pop(self):\n",
    "        if len(self.arr) ==  0:\n",
    "            print(None)\n",
    "        else:\n",
    "            value = self.arr[self.size-1]\n",
    "            self.arr[self.size-1] = None\n",
    "            self.size-=1\n",
    "            return value\n",
    "    def peek(self):\n",
    "        if len(self.arr)==0:\n",
    "            print(None)\n",
    "        else:\n",
    "            value = self.arr[self.size-1]\n",
    "            return value\n",
    "    def peren(self,eq):\n",
    "        self.flag = False\n",
    "        for i in eq:\n",
    "            if i in  [\"(\",\"{\",\"[\"]:\n",
    "                self.push(i)\n",
    "            elif i in [\")\",\"}\",\"]\"]:\n",
    "                val = self.pop()\n",
    "                if val == \"(\" and i == \")\":\n",
    "                    flag = True\n",
    "                elif val == \"{\" and i == \"}\":\n",
    "                    flag = True\n",
    "                elif val == \"[\" and i == \"]\":\n",
    "                    flag = True\n",
    "                else:\n",
    "                    k = i\n",
    "                    flag = False\n",
    "        if self.size!= 0 or flag == False:\n",
    "            print(\"Incurrect\")\n",
    "            print(\"Error is: \",k)\n",
    "        # elif flag == False:\n",
    "        #     print('Incurrect')\n",
    "            \n",
    "        else:\n",
    "            print(\"Currect\")\n",
    "            \n",
    "s = stack(5)\n",
    "eq = \"()1+2(3/4)(}\"\n",
    "s.peren(eq)"
   ]
  }
 ],
 "metadata": {
  "kernelspec": {
   "display_name": "Python 3",
   "language": "python",
   "name": "python3"
  },
  "language_info": {
   "codemirror_mode": {
    "name": "ipython",
    "version": 3
   },
   "file_extension": ".py",
   "mimetype": "text/x-python",
   "name": "python",
   "nbconvert_exporter": "python",
   "pygments_lexer": "ipython3",
   "version": "3.11.0 (v3.11.0:deaf509e8f, Oct 24 2022, 14:43:23) [Clang 13.0.0 (clang-1300.0.29.30)]"
  },
  "orig_nbformat": 4,
  "vscode": {
   "interpreter": {
    "hash": "aee8b7b246df8f9039afb4144a1f6fd8d2ca17a180786b69acc140d282b71a49"
   }
  }
 },
 "nbformat": 4,
 "nbformat_minor": 2
}
