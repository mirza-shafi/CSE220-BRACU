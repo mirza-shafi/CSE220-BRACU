{
 "cells": [
  {
   "cell_type": "code",
   "execution_count": null,
   "metadata": {},
   "outputs": [
    {
     "name": "stdout",
     "output_type": "stream",
     "text": [
      "hello data structures\n"
     ]
    }
   ],
   "source": [
    "print('hello data structures')"
   ]
  },
  {
   "attachments": {},
   "cell_type": "markdown",
   "metadata": {},
   "source": [
    "A\n",
    "1. fixed capacity\n",
    "2. fixed memory lacation\n",
    "3. contunuous\n",
    "4. Data type fixed"
   ]
  },
  {
   "cell_type": "code",
   "execution_count": 2,
   "metadata": {},
   "outputs": [
    {
     "name": "stdout",
     "output_type": "stream",
     "text": [
      "[None, None, None, None, None]\n"
     ]
    }
   ],
   "source": [
    "#1 creating an array\n",
    "arr = [None]*5\n",
    "print(arr)"
   ]
  },
  {
   "cell_type": "code",
   "execution_count": 2,
   "metadata": {},
   "outputs": [
    {
     "name": "stdout",
     "output_type": "stream",
     "text": [
      "[1, 2, 3, 4, 5]\n"
     ]
    }
   ],
   "source": [
    "#copy\n",
    "a  =[1,2,3,4,5]\n",
    "arr = [0]*len(a)\n",
    "for i in range(len(a)):\n",
    "    arr[i] = a[i]\n",
    "print(arr)"
   ]
  },
  {
   "cell_type": "code",
   "execution_count": 4,
   "metadata": {},
   "outputs": [
    {
     "data": {
      "text/plain": [
       "[1, 2, 3, 4, 5]"
      ]
     },
     "execution_count": 4,
     "metadata": {},
     "output_type": "execute_result"
    }
   ],
   "source": [
    "#2 copying array\n",
    "arr = [1,2,3,4,5]\n",
    "def copy(arr):\n",
    "    new = [None]*len(arr)\n",
    "    for i in range(len(arr)):\n",
    "        new[i] = arr[i]\n",
    "    return new\n",
    "copy(arr)"
   ]
  },
  {
   "cell_type": "code",
   "execution_count": 5,
   "metadata": {},
   "outputs": [
    {
     "data": {
      "text/plain": [
       "[1, 2, 3, 4, 5, None, None, None, None, None]"
      ]
     },
     "execution_count": 5,
     "metadata": {},
     "output_type": "execute_result"
    }
   ],
   "source": [
    "#3 RESIZING ARRAY\n",
    "arr = [1,2,3,4,5]\n",
    "def resizing(arr,new_cap = 2*len(arr)):\n",
    "    new = [None]*new_cap\n",
    "    if len(arr)<len(new):\n",
    "        for i in range(len(arr)):\n",
    "            new[i] = arr[i]\n",
    "    return new\n",
    "resizing(arr)"
   ]
  },
  {
   "cell_type": "code",
   "execution_count": 1,
   "metadata": {},
   "outputs": [
    {
     "data": {
      "text/plain": [
       "[8, 7, 6, 5, 4, 3, 2, 1]"
      ]
     },
     "execution_count": 1,
     "metadata": {},
     "output_type": "execute_result"
    }
   ],
   "source": [
    "#4 reversing array\n",
    "arr = [1,2,3,4,5,6,7,8]\n",
    "def reverse(arr):\n",
    "    i = 0\n",
    "    j = len(arr)-1\n",
    "    while i<j:\n",
    "        arr[i],arr[j] = arr[j],arr[i]\n",
    "        i+=1\n",
    "        j-=1\n",
    "    return arr\n",
    "reverse(arr)"
   ]
  },
  {
   "cell_type": "code",
   "execution_count": 1,
   "metadata": {},
   "outputs": [
    {
     "data": {
      "text/plain": [
       "[5, 4, 3, 2, 1]"
      ]
     },
     "execution_count": 1,
     "metadata": {},
     "output_type": "execute_result"
    }
   ],
   "source": [
    "####another way\n",
    "def swap(arr):\n",
    "    n = 0\n",
    "    m = len(arr)-1\n",
    "    for i in range(len(arr)):\n",
    "        if i<m:\n",
    "           arr[i],arr[m] = arr[m],arr[i]\n",
    "           m-=1\n",
    "    return(arr)\n",
    "arr = [1,2,3,4,5]\n",
    "swap(arr)"
   ]
  },
  {
   "attachments": {},
   "cell_type": "markdown",
   "metadata": {},
   "source": [
    "shifting\n",
    "1. right\n",
    "2. left"
   ]
  },
  {
   "cell_type": "code",
   "execution_count": 3,
   "metadata": {},
   "outputs": [
    {
     "data": {
      "text/plain": [
       "[None, 1, 2, 3, 4, 5, 6]"
      ]
     },
     "execution_count": 3,
     "metadata": {},
     "output_type": "execute_result"
    }
   ],
   "source": [
    "#5.1 right shitting\n",
    "arr = arr = [1,2,3,4,5,6,7]\n",
    "def right(arr):\n",
    "    for i in range(len(arr)-1,-1,-1):\n",
    "        arr[i] = arr[i-1]\n",
    "    arr[0] = None\n",
    "    return arr\n",
    "right(arr)"
   ]
  },
  {
   "cell_type": "code",
   "execution_count": 15,
   "metadata": {},
   "outputs": [
    {
     "data": {
      "text/plain": [
       "[2, 3, 4, 5, 6, 7, None]"
      ]
     },
     "execution_count": 15,
     "metadata": {},
     "output_type": "execute_result"
    }
   ],
   "source": [
    "#5.2 left shifting\n",
    "arr = [1,2,3,4,5,6,7]\n",
    "def left(arr):\n",
    "    for i in range(len(arr)-1):\n",
    "        arr[i] = arr[i+1]\n",
    "    arr[len(arr)-1] = None\n",
    "    return arr\n",
    "left(arr)"
   ]
  },
  {
   "attachments": {},
   "cell_type": "markdown",
   "metadata": {},
   "source": [
    "Insertion\n",
    "def insert(arr,size, elem ,idx)\n",
    "1. overflow\n",
    "2. negative index\n",
    "3. index out of bound \n",
    "4. valid non-continous index\n",
    "5. valid index"
   ]
  },
  {
   "attachments": {},
   "cell_type": "markdown",
   "metadata": {},
   "source": [
    "Rotating\n",
    "1. right\n",
    "2. left"
   ]
  },
  {
   "cell_type": "code",
   "execution_count": 13,
   "metadata": {},
   "outputs": [
    {
     "data": {
      "text/plain": [
       "[None, 1, 2, 3, 4, 5]"
      ]
     },
     "execution_count": 13,
     "metadata": {},
     "output_type": "execute_result"
    }
   ],
   "source": [
    "#7.1 Right roatation\n",
    "arr = [1,2,3,4,5,None]\n",
    "def right_rotate(arr):\n",
    "    temp = arr[len(arr)-1]\n",
    "    for i in range(len(arr)-1,0,-1):\n",
    "        arr[i] = arr[i-1]\n",
    "    arr[0] = temp\n",
    "    return arr\n",
    "right_rotate(arr)"
   ]
  },
  {
   "cell_type": "code",
   "execution_count": 14,
   "metadata": {},
   "outputs": [
    {
     "data": {
      "text/plain": [
       "[2, 2, 3, 4, 5, 1]"
      ]
     },
     "execution_count": 14,
     "metadata": {},
     "output_type": "execute_result"
    }
   ],
   "source": [
    "#extra\n",
    "def rotate(arr,id = 1):\n",
    "    for i in range(id):\n",
    "        temp = arr[0]\n",
    "        for j in range(len(arr)):\n",
    "            if j+1<len(arr):\n",
    "                arr[i] = arr[i+1]\n",
    "            else:\n",
    "                arr[len(arr)-1] = temp\n",
    "        return arr\n",
    "arr = [1,2,3,4,5,None]\n",
    "rotate(arr)"
   ]
  },
  {
   "cell_type": "code",
   "execution_count": 2,
   "metadata": {},
   "outputs": [
    {
     "data": {
      "text/plain": [
       "[2, 3, 4, 5, 6, 1]"
      ]
     },
     "execution_count": 2,
     "metadata": {},
     "output_type": "execute_result"
    }
   ],
   "source": [
    "#left- rotate same as right_rotating\n",
    "arr = [1,2,3,4,5,6]\n",
    "def right(arr):\n",
    "    temp = arr[0]\n",
    "    for i in range(len(arr)-1):\n",
    "        arr[i] = arr[i+1]\n",
    "    arr[len(arr)-1] = temp\n",
    "    return arr\n",
    "right(arr)"
   ]
  },
  {
   "attachments": {},
   "cell_type": "markdown",
   "metadata": {},
   "source": [
    "Circular array\n",
    "1. Forward iteration\n",
    "2. Backward iteration"
   ]
  },
  {
   "cell_type": "code",
   "execution_count": 279,
   "metadata": {},
   "outputs": [
    {
     "name": "stdout",
     "output_type": "stream",
     "text": [
      "1 2 3 4 5 6 "
     ]
    }
   ],
   "source": [
    "#1. Forward iteration\n",
    "arr  = [4,5,6,1,2,3]\n",
    "def forward(arr,st,size):\n",
    "    k  = st\n",
    "    for i in range(size):\n",
    "        print(arr[k],end = ' ')\n",
    "        k = (k+1)%len(arr) \n",
    "forward(arr,3,6)"
   ]
  },
  {
   "cell_type": "code",
   "execution_count": 49,
   "metadata": {},
   "outputs": [
    {
     "name": "stdout",
     "output_type": "stream",
     "text": [
      "6 5 4 3 2 1 "
     ]
    }
   ],
   "source": [
    "#2 Backward iteration\n",
    "arr = arr  = [4,5,6,1,2,3]\n",
    "def backward(arr,start,size):\n",
    "    k = ((start+size)-1)%len(arr)\n",
    "    for i in range(size):\n",
    "        print(arr[k],end = ' ')\n",
    "        k = (k-1)%len(arr)\n",
    "backward(arr,3,6)"
   ]
  },
  {
   "cell_type": "code",
   "execution_count": 256,
   "metadata": {},
   "outputs": [
    {
     "data": {
      "text/plain": [
       "[40, 50, 0, 0, 0, 0, 0, 0, 10, 20, 30]"
      ]
     },
     "execution_count": 256,
     "metadata": {},
     "output_type": "execute_result"
    }
   ],
   "source": [
    "# \n",
    "a = [10,20,30,40,50,0,0,0,0,0,0]\n",
    "def cir(a,st,size):\n",
    "    st = st\n",
    "    for i in range(st):\n",
    "        a[st] = a[i]\n",
    "        st = (st+1)%len(a)\n",
    "    return a\n",
    "cir(a,8,5)"
   ]
  },
  {
   "cell_type": "code",
   "execution_count": 261,
   "metadata": {},
   "outputs": [
    {
     "name": "stdout",
     "output_type": "stream",
     "text": [
      "10 20 30 40 50 "
     ]
    }
   ],
   "source": [
    "#\n",
    "a = a = [60,70,0,0,0,10,20,30,40,50]\n",
    "def forw(a,st,size):\n",
    "    st = st\n",
    "    for i in range(size):\n",
    "        print(a[st],end = ' ')\n",
    "        st = (st+1)%len(a)\n",
    "forw(a,5,5)"
   ]
  },
  {
   "cell_type": "code",
   "execution_count": 264,
   "metadata": {},
   "outputs": [
    {
     "name": "stdout",
     "output_type": "stream",
     "text": [
      "50 40 30 20 10 "
     ]
    }
   ],
   "source": [
    "a = [10,20,30,40,50,0,0,0,0,0,0]\n",
    "def back(a,size):\n",
    "    for i in range(size-1,-1,-1):\n",
    "        print(a[i],end = ' ')\n",
    "        \n",
    "back(a,5)"
   ]
  },
  {
   "cell_type": "code",
   "execution_count": 280,
   "metadata": {},
   "outputs": [
    {
     "name": "stdout",
     "output_type": "stream",
     "text": [
      "70 60 50 40 30 20 10 "
     ]
    }
   ],
   "source": [
    "a = a = [60,70,0,0,0,10,20,30,40,50]\n",
    "def back(a,st,size):\n",
    "    st = st\n",
    "    k = (st+size-1)%len(a)\n",
    "    for i in range(size):\n",
    "        print(a[k],end = ' ')\n",
    "        #print(k)\n",
    "        k = (k-1)%len(a)\n",
    "        \n",
    "back(a,5,7)"
   ]
  },
  {
   "cell_type": "code",
   "execution_count": 277,
   "metadata": {},
   "outputs": [
    {
     "data": {
      "text/plain": [
       "[4, 3, 100, 1, 100, 3, 4, 0, 0, 0]"
      ]
     },
     "execution_count": 277,
     "metadata": {},
     "output_type": "execute_result"
    }
   ],
   "source": [
    "#inserting\n",
    "def insert(a,size,st,idx,elem):\n",
    "    if size == len(a):\n",
    "        print(\"overflow\")\n",
    "    elif idx<0:\n",
    "        print(\"neg\")\n",
    "    elif idx>len(a):\n",
    "        print(\"out of bound\")\n",
    "    else:\n",
    "        fromm = start = (st+size-1)%len(a)\n",
    "        to =  0\n",
    "        while fromm>=idx:\n",
    "            a[to] = a[fromm]\n",
    "            fromm = (fromm-1)%len(a)\n",
    "            a[idx] = elem\n",
    "            to+=1\n",
    "    return a\n",
    "a = [0,0,0,1,2,3,4,0,0,0]\n",
    "insert(a,4,3,2,100)\n",
    "            "
   ]
  },
  {
   "attachments": {},
   "cell_type": "markdown",
   "metadata": {},
   "source": [
    "#######################################LINkEDLIST##############################################"
   ]
  },
  {
   "attachments": {},
   "cell_type": "markdown",
   "metadata": {},
   "source": [
    "wehen studing the array, we were quite annoyed by the limitations of these arrays.\n",
    "1. fixed capacity: array cannot resized. only way to create new array,copy the elemnt from the orginal array.\n",
    "\n",
    "2. shifting elemnents in insert: do not allow gaps in the arrays. in the worst case, we 'disturb' every slot in the array when we insert it at the beginnig of the array!\n",
    "\n",
    "3. shifting elements in removal: same as shifting arrays issues."
   ]
  },
  {
   "attachments": {},
   "cell_type": "markdown",
   "metadata": {},
   "source": [
    "benifits of linklist\n",
    "1. linklist allow insertion of new nodes anywhere in the list or the remove of an existing node from the list without having ot disturb the rest of the list.\n"
   ]
  },
  {
   "attachments": {},
   "cell_type": "markdown",
   "metadata": {},
   "source": [
    "First node in the list, conventionally called the #head reference"
   ]
  },
  {
   "attachments": {},
   "cell_type": "markdown",
   "metadata": {},
   "source": [
    "#######\n",
    "1. create new node\n",
    "2. iteration\n",
    "3. counting\n",
    "4. Retrieving an element from an index: However, the concept of indexing is very beneficial in order to access values, insert    \n",
    "   value, and remove a value (we have seen it in the array part). For this reason, we will implement indexing in our linked list where the head will be a value at index 0 and the next node will be 1, and so on.......\n",
    "5. Retrieving a node from an index\n",
    "6. Update value of specific index / setting node\n",
    "7. Searching an element in the list\n",
    "8. Inserting an elemnet into a list\n",
    "9. removing an element from a list\n",
    "10. copying a list\n",
    "11. reversing a list\n",
    "12. Rotating a list left\n",
    "13. Ratating a lsit right"
   ]
  },
  {
   "cell_type": "code",
   "execution_count": 22,
   "metadata": {},
   "outputs": [
    {
     "data": {
      "text/plain": [
       "<__main__.Node at 0x103d5b460>"
      ]
     },
     "execution_count": 22,
     "metadata": {},
     "output_type": "execute_result"
    }
   ],
   "source": [
    "#    Node class design\n",
    "#1\n",
    "class Node:\n",
    "    def __init__(self,e,n):\n",
    "        self.elem = e\n",
    "        self.next = n\n",
    "def creatlist(a):\n",
    "    head = Node(a[0],None)\n",
    "    temp = head\n",
    "    for i in range(1,len(a)):\n",
    "        n = Node(a[i],None)\n",
    "        temp.next = n\n",
    "        temp = temp.next\n",
    "    return head\n",
    "#2\n",
    "def iteration(head):\n",
    "    temp = head\n",
    "    while temp!=None:\n",
    "        print(temp.elem)\n",
    "        temp = temp.next\n",
    "#3\n",
    "def counting(head):\n",
    "    temp = head\n",
    "    count = 0\n",
    "    while temp!=None:\n",
    "        count+=1\n",
    "        temp = temp.next\n",
    "    return count\n",
    "\n",
    "#4  Retrieving an element from an index\n",
    "\n",
    "def elemAt(head,idx):\n",
    "    temp = head\n",
    "    count = 0\n",
    "    while temp!=None:\n",
    "        if count == idx:\n",
    "            obj = temp.elem\n",
    "            break\n",
    "        temp = temp.next\n",
    "        count+=1\n",
    "    if obj==None:\n",
    "        print(\"invalid index\")\n",
    "    return obj\n",
    "\n",
    "#5  Retrieving a node from an index\n",
    "\n",
    "def Nodeat(head,idx):\n",
    "    temp = head\n",
    "    count = 0\n",
    "    while temp!=None:\n",
    "        if count == idx:\n",
    "            obj = temp\n",
    "            break\n",
    "        temp = temp.next\n",
    "        count+=1 \n",
    "    if obj == None:\n",
    "        print(\"Invailid index\")\n",
    "    return obj\n",
    "\n",
    "#6 setting new element of an specific index\n",
    "def set(head,idx,elem):\n",
    "    temp = head\n",
    "    count = 0\n",
    "    isupdated = False\n",
    "    while temp!=None:\n",
    "        if count == idx:\n",
    "            temp.elem = elem\n",
    "            isupdated = True\n",
    "            break\n",
    "        temp = temp.next\n",
    "        count+=1\n",
    "        if isupdated:\n",
    "            print(\"Value successfully updated\")\n",
    "        else:\n",
    "            print(\"Invaild index\")\n",
    "            \n",
    "#7 Searching\n",
    "def search(head,elem):\n",
    "    temp = head\n",
    "    count = 0\n",
    "    while temp!=None:\n",
    "        if temp.elem == elem:\n",
    "            return count\n",
    "        temp = temp.next\n",
    "        count+=1\n",
    "    return -1 # Here -1 represents the absence of elment in the list\n",
    "#second approach\n",
    "def searchh(head,elem):\n",
    "    temp = head\n",
    "    while temp!=None:\n",
    "        if temp.elem == elem:\n",
    "            return True\n",
    "        temp = temp.next\n",
    "    return False\n",
    "\n",
    "#8  Inserting an elemnet into a list\n",
    "\n",
    "def insert(head,elem,idx):\n",
    "    total = counting(head)\n",
    "    if idx == 0:           #inserting at the beginning\n",
    "        n = Node(elem,head)\n",
    "        head = n\n",
    "    elif idx >=1 or idx<total:\n",
    "        n = Node(elem,head)\n",
    "        n1 = Nodeat(head,idx-1)\n",
    "        n2 = Nodeat(head,idx)\n",
    "        n1.next = n\n",
    "        n.next = n2\n",
    "    elif idx == total:\n",
    "        n = Node(elem,None)\n",
    "        n1 = Nodeat(head,idx-1)\n",
    "        n1.next = n\n",
    "    else:\n",
    "        print(\"Invaild index\")\n",
    "    return head\n",
    "        \n",
    "\n",
    "#9    removing an element from a list\n",
    "def remove(head,idx):\n",
    "    total = counting(head)\n",
    "    if idx == 0:       #removing first element\n",
    "        head = head.next   \n",
    "    elif idx>=1 or idx<total:\n",
    "        n = Node(head,idx-1)\n",
    "        remove_node = n.next\n",
    "        n.next = remove_node.next\n",
    "    else:\n",
    "        print(\"Invalid index\")\n",
    "\n",
    "#10       copying a list\n",
    "def copyList(self):\n",
    "    n = Node(self.head.element,None)\n",
    "    tail = n\n",
    "    temp = self.head.next\n",
    "    while temp!=None:\n",
    "      t = Node(temp.element,None)\n",
    "      tail.next = t\n",
    "      tail = tail.next\n",
    "      temp = temp.next\n",
    "    return n\n",
    "        \n",
    "#11  reversing a list\n",
    "def reverse(head):\n",
    "    new_head = None\n",
    "    temp = head\n",
    "    while temp!=None:\n",
    "        n = temp.next\n",
    "        temp.next = new_head\n",
    "        new_head = temp\n",
    "        temp = n\n",
    "    return new_head\n",
    "\n",
    "#12 rotate_left\n",
    "\n",
    "def left_rotate(head):\n",
    "    new_head = head.next\n",
    "    temp = new_head\n",
    "    while temp!=None:\n",
    "        temp = temp.next\n",
    "    temp.next = head\n",
    "    head.next = None\n",
    "    head = new_head\n",
    "    return head\n",
    "#13  Ratating a lsit right\n",
    "\n",
    "\n",
    "a = [1,2,3,4,5]\n",
    "creatlist(a)"
   ]
  },
  {
   "attachments": {},
   "cell_type": "markdown",
   "metadata": {},
   "source": [
    "###################################################### DOUBLY LINKED LIST ######################################################"
   ]
  },
  {
   "attachments": {},
   "cell_type": "markdown",
   "metadata": {},
   "source": [
    "1. creation\n",
    "2. iteration\n",
    "3. NodeAt\n",
    "4. insertion\n",
    "5. removal"
   ]
  },
  {
   "cell_type": "code",
   "execution_count": 29,
   "metadata": {},
   "outputs": [
    {
     "data": {
      "text/plain": [
       "<__main__.doublyNode at 0x103ec0c40>"
      ]
     },
     "execution_count": 29,
     "metadata": {},
     "output_type": "execute_result"
    }
   ],
   "source": [
    "#doubly class        \n",
    "class doublyNode:\n",
    "    def __init__(self,elem,next,prev):\n",
    "        self.elem = elem\n",
    "        self.next = next\n",
    "        self.prev = prev\n",
    "#1 creation\n",
    "def createlist(a):\n",
    "    dh = doublyNode(None,None,None)\n",
    "    dh.next = dh\n",
    "    dh.prev = dh\n",
    "    tail = dh\n",
    "    for i in range(len(a)):\n",
    "        n = doublyNode(a[i],dh,tail)\n",
    "        tail.next = n\n",
    "        tail = tail.next\n",
    "        dh.prev = tail\n",
    "    return dh\n",
    "\n",
    "#2  iteration\n",
    "def iteration(dh):\n",
    "    temp = dh.next\n",
    "    while temp!=dh:\n",
    "        print(temp.elem)\n",
    "        temp.next\n",
    "        \n",
    "        \n",
    "#3  NodeAt\n",
    "def nodeat(dh,idx):\n",
    "    count = 0\n",
    "    temp = dh.next\n",
    "    while temp!=dh:\n",
    "        if count == idx:\n",
    "            return temp\n",
    "        count+=1\n",
    "        temp = temp.next\n",
    "    return None   #or print(\"invaild index\")\n",
    "#4  insertion\n",
    "\n",
    "\n",
    "a = [1,2,3,4,5,6]\n",
    "createlist(a)   "
   ]
  },
  {
   "cell_type": "code",
   "execution_count": null,
   "metadata": {},
   "outputs": [],
   "source": [
    "#1 creation\n"
   ]
  },
  {
   "cell_type": "code",
   "execution_count": 9,
   "metadata": {},
   "outputs": [
    {
     "data": {
      "text/plain": [
       "5"
      ]
     },
     "execution_count": 9,
     "metadata": {},
     "output_type": "execute_result"
    }
   ],
   "source": [
    "#stack liFo\n",
    "# push pop peek\n",
    "class arraystack:\n",
    "  def __init__(self,arr):\n",
    "    self.narr = [0]*arr\n",
    "    self.size = 0\n",
    "  def push(self,val):\n",
    "    if self.size>len(self.narr):\n",
    "      print(\" \")\n",
    "    else:\n",
    "      self.narr[self.size] = val\n",
    "      self.size+=1\n",
    "  def pop(self):\n",
    "    if len(self.narr)==0 :\n",
    "      print(\"\")\n",
    "    else:\n",
    "      value = self.narr[self.size-1]\n",
    "      self.narr[self.size-1] = None\n",
    "      self.size-=1\n",
    "      return value\n",
    "  def peek(self):\n",
    "    if len(self.narr) == 0:\n",
    "      print(\"\")\n",
    "    else:\n",
    "      val = self.narr[self.size-1]\n",
    "      return val\n",
    "arr = 10\n",
    "qq=arraystack(arr)\n",
    "qq.push(5)\n",
    "qq.push(7)\n",
    "qq.pop()\n",
    "qq.peek()"
   ]
  },
  {
   "cell_type": "code",
   "execution_count": 107,
   "metadata": {},
   "outputs": [
    {
     "ename": "AttributeError",
     "evalue": "'stack' object has no attribute 'top'",
     "output_type": "error",
     "traceback": [
      "\u001b[0;31m---------------------------------------------------------------------------\u001b[0m",
      "\u001b[0;31mAttributeError\u001b[0m                            Traceback (most recent call last)",
      "\u001b[1;32m/Users/mirzashafi/Shafi's project/python/versity/cse220/Data_St(220).ipynb Cell 31\u001b[0m in \u001b[0;36m<cell line: 41>\u001b[0;34m()\u001b[0m\n\u001b[1;32m     <a href='vscode-notebook-cell:/Users/mirzashafi/Shafi%27s%20project/python/versity/cse220/Data_St%28220%29.ipynb#X42sZmlsZQ%3D%3D?line=38'>39</a>\u001b[0m s \u001b[39m=\u001b[39m stack(\u001b[39m5\u001b[39m)\n\u001b[1;32m     <a href='vscode-notebook-cell:/Users/mirzashafi/Shafi%27s%20project/python/versity/cse220/Data_St%28220%29.ipynb#X42sZmlsZQ%3D%3D?line=39'>40</a>\u001b[0m eq \u001b[39m=\u001b[39m \u001b[39m\"\u001b[39m\u001b[39m1+2(3/4)\u001b[39m\u001b[39m\"\u001b[39m\n\u001b[0;32m---> <a href='vscode-notebook-cell:/Users/mirzashafi/Shafi%27s%20project/python/versity/cse220/Data_St%28220%29.ipynb#X42sZmlsZQ%3D%3D?line=40'>41</a>\u001b[0m s\u001b[39m.\u001b[39;49mperen(eq)\n",
      "\u001b[1;32m/Users/mirzashafi/Shafi's project/python/versity/cse220/Data_St(220).ipynb Cell 31\u001b[0m in \u001b[0;36mstack.peren\u001b[0;34m(self, eq)\u001b[0m\n\u001b[1;32m     <a href='vscode-notebook-cell:/Users/mirzashafi/Shafi%27s%20project/python/versity/cse220/Data_St%28220%29.ipynb#X42sZmlsZQ%3D%3D?line=28'>29</a>\u001b[0m     \u001b[39mself\u001b[39m\u001b[39m.\u001b[39mpush(i)\n\u001b[1;32m     <a href='vscode-notebook-cell:/Users/mirzashafi/Shafi%27s%20project/python/versity/cse220/Data_St%28220%29.ipynb#X42sZmlsZQ%3D%3D?line=29'>30</a>\u001b[0m \u001b[39melif\u001b[39;00m i \u001b[39min\u001b[39;00m [\u001b[39m\"\u001b[39m\u001b[39m)\u001b[39m\u001b[39m\"\u001b[39m,\u001b[39m\"\u001b[39m\u001b[39m}\u001b[39m\u001b[39m\"\u001b[39m,\u001b[39m\"\u001b[39m\u001b[39m]\u001b[39m\u001b[39m\"\u001b[39m]:\n\u001b[0;32m---> <a href='vscode-notebook-cell:/Users/mirzashafi/Shafi%27s%20project/python/versity/cse220/Data_St%28220%29.ipynb#X42sZmlsZQ%3D%3D?line=30'>31</a>\u001b[0m     \u001b[39mif\u001b[39;00m \u001b[39mself\u001b[39;49m\u001b[39m.\u001b[39;49mtop\u001b[39m.\u001b[39melem \u001b[39m==\u001b[39m \u001b[39m\"\u001b[39m\u001b[39m(\u001b[39m\u001b[39m\"\u001b[39m \u001b[39mand\u001b[39;00m i \u001b[39m==\u001b[39m \u001b[39m\"\u001b[39m\u001b[39m)\u001b[39m\u001b[39m\"\u001b[39m:\n\u001b[1;32m     <a href='vscode-notebook-cell:/Users/mirzashafi/Shafi%27s%20project/python/versity/cse220/Data_St%28220%29.ipynb#X42sZmlsZQ%3D%3D?line=31'>32</a>\u001b[0m        \u001b[39mprint\u001b[39m(\u001b[39mself\u001b[39m\u001b[39m.\u001b[39mtop\u001b[39m.\u001b[39melem)\n\u001b[1;32m     <a href='vscode-notebook-cell:/Users/mirzashafi/Shafi%27s%20project/python/versity/cse220/Data_St%28220%29.ipynb#X42sZmlsZQ%3D%3D?line=32'>33</a>\u001b[0m        \u001b[39mself\u001b[39m\u001b[39m.\u001b[39mpop()\n",
      "\u001b[0;31mAttributeError\u001b[0m: 'stack' object has no attribute 'top'"
     ]
    }
   ],
   "source": [
    "#stack with array\n",
    "class stack:\n",
    "    def __init__(self,a):\n",
    "        self.arr = [0]*a\n",
    "        self.size = 0\n",
    "    def push(self,val):\n",
    "        if self.size>len(self.arr):\n",
    "            print\n",
    "        else:\n",
    "            self.arr[self.size] = val\n",
    "            self.size+=1\n",
    "    def pop(self):\n",
    "        if len(self.arr) ==  0:\n",
    "            print(None)\n",
    "        else:\n",
    "            value = self.arr[self.size-1]\n",
    "            self.arr[self.size-1] = None\n",
    "            self.size-=1\n",
    "            return value\n",
    "    def peek(self):\n",
    "        if len(self.arr)==0:\n",
    "            print(None)\n",
    "        else:\n",
    "            value = self.arr[self.size-1]\n",
    "            return value\n",
    "    def peren(self,eq):\n",
    "        for i in eq:\n",
    "            if i in  [\"(\",\"{\",\"[\"]:\n",
    "                self.push(i)\n",
    "            elif i in [\")\",\"}\",\"]\"]:\n",
    "                if self.top.elem == \"(\" and i == \")\":\n",
    "                   print(self.top.elem)\n",
    "                   self.pop()\n",
    "                elif self.top.elem == \"{\" and i == \"}\":\n",
    "                    self.pop()\n",
    "                elif self.top.elem == \"[\" and i == \"]\":\n",
    "                    self.pop()\n",
    "            \n",
    "s = stack(5)\n",
    "eq = \"1+2(3/4)\"\n",
    "s.peren(eq)"
   ]
  },
  {
   "cell_type": "code",
   "execution_count": 75,
   "metadata": {},
   "outputs": [
    {
     "data": {
      "text/plain": [
       "3"
      ]
     },
     "execution_count": 75,
     "metadata": {},
     "output_type": "execute_result"
    }
   ],
   "source": [
    "#something is better then nothing\n",
    "class stack:\n",
    "    def __init__(self,a):\n",
    "        self.arr = [0]*a\n",
    "        self.size = 0\n",
    "    def push(self,val):\n",
    "        if self.size>len(self.arr):\n",
    "            print\n",
    "        else:\n",
    "            self.arr[self.size] = val\n",
    "            self.size+=1\n",
    "    def pop(self):\n",
    "        if len(self.arr) ==  0:\n",
    "            print(None)\n",
    "        else:\n",
    "            value = self.arr[self.size-1]\n",
    "            self.arr[self.size-1] = None\n",
    "            self.size-=1\n",
    "            return value\n",
    "\n",
    "s = stack(3)\n",
    "s.push(3)\n",
    "s.pop()"
   ]
  },
  {
   "cell_type": "code",
   "execution_count": 130,
   "metadata": {},
   "outputs": [
    {
     "name": "stdout",
     "output_type": "stream",
     "text": [
      "(\n",
      "This correct\n"
     ]
    }
   ],
   "source": [
    "#stack with liked list\n",
    "class Node:\n",
    "    def __init__(self,elem,next):\n",
    "        self.elem = elem\n",
    "        self.next = next\n",
    "class stack:\n",
    "    def __init__(self):\n",
    "        self.top = None\n",
    "    def push(self,val):\n",
    "        if self.top == None:\n",
    "            self.top = Node(val,None)\n",
    "        else:\n",
    "            newNode = Node(val,None)\n",
    "            newNode.next =  self.top\n",
    "            self.top = newNode\n",
    "    def pop(self):\n",
    "        if self.top == None:\n",
    "            return \"stack is empty\"\n",
    "        else:\n",
    "            temp = self.top.elem\n",
    "            self.top = self.top.next\n",
    "            return temp\n",
    "        \n",
    "    def peek(self):\n",
    "        return self.top.elem\n",
    "    def peren(self,eq):\n",
    "        fla = True\n",
    "        for i in eq:\n",
    "            if i in [\"(\",\"{\",\"[\"]:\n",
    "                self.push(i)\n",
    "            elif i in [\")\",\"}\",\"]\"]:\n",
    "                if self.top.elem == \"(\" and i == \")\":\n",
    "                   print(self.top.elem)\n",
    "                   self.pop()\n",
    "                elif self.top.elem == \"{\" and i == \"}\":\n",
    "                    self.pop()\n",
    "                elif self.top.elem == \"[\" and i == \"]\":\n",
    "                    self.pop()\n",
    "                else:\n",
    "                    self.k = self.top.elem\n",
    "                    fla = False\n",
    "        if self.top != None:\n",
    "            fla = False\n",
    "        if fla == True:\n",
    "            print(\"This correct\")\n",
    "        else:\n",
    "            print(\"not\")\n",
    "eq = \"1+2(3/4)\"\n",
    "\n",
    "s = stack()\n",
    "s.peren(eq)"
   ]
  },
  {
   "cell_type": "code",
   "execution_count": 124,
   "metadata": {},
   "outputs": [
    {
     "name": "stdout",
     "output_type": "stream",
     "text": [
      "not\n"
     ]
    }
   ],
   "source": [
    "class Node:\n",
    "    def __init__(self,elem,next):\n",
    "        self.elem = elem\n",
    "        self.next = next\n",
    "class stack:\n",
    "    def __init__(self):\n",
    "        self.top = None\n",
    "    def push(self,val):\n",
    "        if self.top == None:\n",
    "            self.top = Node(val,None)\n",
    "        else:\n",
    "            newNode = Node(val,None)\n",
    "            newNode.next =  self.top\n",
    "            self.top = newNode\n",
    "    def pop(self):\n",
    "        if self.top == None:\n",
    "            return \"stack is empty\"\n",
    "        else:\n",
    "            temp = self.top.elem\n",
    "            self.top = self.top.next\n",
    "            return temp\n",
    "        \n",
    "    def peek(self):\n",
    "        return self.top.elem\n",
    "    def peren(self,eq):\n",
    "        fla = False\n",
    "        for i in eq:\n",
    "            if i in [\"(\",\"{\",\"[\"]:\n",
    "                self.push(i)\n",
    "            elif i in [\")\",\"}\",\"]\"]:\n",
    "                c_val = self.pop()\n",
    "                if c_val == \"(\" and i == \")\":\n",
    "                    fla = True\n",
    "                elif c_val == \"{\" and i == \"}\":\n",
    "                    fla =  True\n",
    "                elif c_val == \"[\" and i == \"]\":\n",
    "                    fla = True\n",
    "                else:\n",
    "                    fla = False\n",
    "        if self.top != None:\n",
    "            fla = False\n",
    "        if fla == True:\n",
    "            print(\"This correct\")\n",
    "        else:\n",
    "            print(\"not\")\n",
    "eq = \"1+2(3/4))\"\n",
    "\n",
    "s = stack()\n",
    "s.peren(eq)"
   ]
  },
  {
   "cell_type": "code",
   "execution_count": 136,
   "metadata": {},
   "outputs": [
    {
     "name": "stdout",
     "output_type": "stream",
     "text": [
      "yes\n"
     ]
    }
   ],
   "source": [
    "#stack with array\n",
    "class stack:\n",
    "    def __init__(self,a):\n",
    "        self.arr = [0]*a\n",
    "        self.size = 0\n",
    "    def push(self,val):\n",
    "        if self.size>len(self.arr):\n",
    "            print\n",
    "        else:\n",
    "            self.arr[self.size] = val\n",
    "            self.size+=1\n",
    "    def pop(self):\n",
    "        if len(self.arr) ==  0:\n",
    "            print(None)\n",
    "        else:\n",
    "            value = self.arr[self.size-1]\n",
    "            self.arr[self.size-1] = None\n",
    "            self.size-=1\n",
    "            return value\n",
    "    def peek(self):\n",
    "        if len(self.arr)==0:\n",
    "            print(None)\n",
    "        else:\n",
    "            value = self.arr[self.size-1]\n",
    "            return value\n",
    "    def peren(self,eq):\n",
    "        flag = False\n",
    "        for i in eq:\n",
    "            if i in  [\"(\",\"{\",\"[\"]:\n",
    "                self.push(i)\n",
    "            elif i in [\")\",\"}\",\"]\"]:\n",
    "                val = self.pop()\n",
    "                if val == \"(\" and i == \")\":\n",
    "                    flag = True\n",
    "                elif val == \"{\" and i == \"}\":\n",
    "                    flag = True\n",
    "                elif val == \"[\" and i == \"]\":\n",
    "                    flag = True\n",
    "                else:\n",
    "                    flag = False\n",
    "        if self.arr[self.size]!= None:\n",
    "            flag = False\n",
    "        elif flag == False:\n",
    "            print('not')\n",
    "            \n",
    "        else:\n",
    "            print(\"yes\")\n",
    "            \n",
    "s = stack(5)\n",
    "eq = \"()1+2(3/4)()\"\n",
    "s.peren(eq)"
   ]
  },
  {
   "attachments": {},
   "cell_type": "markdown",
   "metadata": {},
   "source": [
    "     QUEUE\n",
    "1. linear data structure"
   ]
  },
  {
   "attachments": {},
   "cell_type": "markdown",
   "metadata": {},
   "source": [
    "1. queue- works first in first out(FIFO)\n",
    "2. enqueue\n",
    "3. dequeue\n",
    "4. peek\n",
    " 5.     USED\n",
    " 6. call center system is queue"
   ]
  },
  {
   "cell_type": "code",
   "execution_count": 6,
   "metadata": {},
   "outputs": [
    {
     "name": "stdout",
     "output_type": "stream",
     "text": [
      "[10, 30]\n"
     ]
    },
    {
     "data": {
      "text/plain": [
       "30"
      ]
     },
     "execution_count": 6,
     "metadata": {},
     "output_type": "execute_result"
    }
   ],
   "source": [
    "# Enqueue-- adding its like append method\n",
    "#LIST\n",
    "queue = []\n",
    "queue.append(10)\n",
    "queue.append(30)\n",
    "print(queue)\n",
    "queue.pop(0)\n",
    "queue.pop(0)\n",
    "# queue.pop(0)"
   ]
  },
  {
   "cell_type": "code",
   "execution_count": 9,
   "metadata": {},
   "outputs": [
    {
     "name": "stdout",
     "output_type": "stream",
     "text": [
      "[40, 30, 20, 10]\n"
     ]
    },
    {
     "data": {
      "text/plain": [
       "False"
      ]
     },
     "execution_count": 9,
     "metadata": {},
     "output_type": "execute_result"
    }
   ],
   "source": [
    "q = []\n",
    "q.insert(0,10)\n",
    "q.insert(0,20)\n",
    "q.insert(0,30)\n",
    "q.insert(0,40)\n",
    "print(q)\n",
    "q.pop()\n",
    "not q"
   ]
  },
  {
   "cell_type": "code",
   "execution_count": 32,
   "metadata": {},
   "outputs": [
    {
     "data": {
      "text/plain": [
       "20"
      ]
     },
     "execution_count": 32,
     "metadata": {},
     "output_type": "execute_result"
    }
   ],
   "source": [
    "#linkedlist based queue\n",
    "class Node:\n",
    "    def __init__(self,elem,next):\n",
    "        self.elem = elem\n",
    "        self.next = next\n",
    "class queue:\n",
    "    def __init__(self):\n",
    "        self.front = None\n",
    "        self.back = None\n",
    "    def enqueue(self,val):\n",
    "        if self.front == None:\n",
    "            self.front = Node(val,None)\n",
    "            self.back = self.front\n",
    "        else:\n",
    "            n = Node(val,None)\n",
    "            self.back.next = n\n",
    "            self.back = self.back.next\n",
    "    def dequeue(self):\n",
    "        if self.front == None:\n",
    "            return f\"The queue is empty\"\n",
    "        else:\n",
    "            value = self.front.elem\n",
    "            self.front = self.front.next\n",
    "            return value\n",
    "    def peek(self):\n",
    "        if self.front == None:\n",
    "            return f\"The queue is empty\"\n",
    "        else:\n",
    "            value = self.back.elem\n",
    "            return value\n",
    "s = queue()\n",
    "s.enqueue(10)\n",
    "s.enqueue(20)\n",
    "# s.dequeue()\n",
    "# s.dequeue()\n",
    "# s.dequeue()\n",
    "s.peek()"
   ]
  },
  {
   "cell_type": "code",
   "execution_count": 102,
   "metadata": {},
   "outputs": [
    {
     "name": "stdout",
     "output_type": "stream",
     "text": [
      "20\n"
     ]
    }
   ],
   "source": [
    "class node:\n",
    "    def __init__(self,elem,next):\n",
    "        self.elem = elem\n",
    "        self.next = next\n",
    "class queue:\n",
    "    def __init__(self):\n",
    "        self.front = None\n",
    "        self.back = None\n",
    "    def enqueue(self,val):\n",
    "        if self.front == None:\n",
    "            self.front = node(val,None)   #30,20,10\n",
    "            self.back = self.front\n",
    "        else:\n",
    "            n = node(val,None)\n",
    "            self.back.next = n\n",
    "            self.back = self.front.next\n",
    "        # print(self.front.elem)\n",
    "    def dequeue(self):\n",
    "        if self.front == None:\n",
    "            print(\"empty\")\n",
    "        else:\n",
    "            value = self.front.elem\n",
    "            # self.front = None\n",
    "            self.front = self.front.next\n",
    "            return value\n",
    "    def peek(self):\n",
    "        if self.front ==  None:\n",
    "            print(\"no\")\n",
    "        else:\n",
    "            print(self.front.elem)\n",
    "k = queue()\n",
    "k.enqueue(10)\n",
    "k.enqueue(20)\n",
    "k.enqueue(30)\n",
    "k.dequeue()\n",
    "# k.dequeue()\n",
    "# k.dequeue()\n",
    "# k.dequeue()\n",
    "k.peek()"
   ]
  },
  {
   "cell_type": "code",
   "execution_count": 45,
   "metadata": {},
   "outputs": [
    {
     "data": {
      "text/plain": [
       "10"
      ]
     },
     "execution_count": 45,
     "metadata": {},
     "output_type": "execute_result"
    }
   ],
   "source": [
    "#array based queue\n",
    "class Arrayqueue:\n",
    "    def __init__(self):\n",
    "        self.queue = [0]*10\n",
    "        self.front = 0\n",
    "        self.back = 0\n",
    "        self.size = 0\n",
    "    def enqueue(self,val):\n",
    "        if self.size >= len(self.queue):\n",
    "            print(\"Qeue is overflow\")\n",
    "        else:\n",
    "            self.queue[self.back] = val\n",
    "            self.back = (self.back+1)%len(self.queue)\n",
    "            self.size+=1\n",
    "    def dequeue(self):\n",
    "        if self.size == 0:\n",
    "            return f\"Queue is underflow\"\n",
    "        else:\n",
    "            value = self.queue[self.front]\n",
    "            self.queue[self.front] = None\n",
    "            self.front = (self.front+1) % len(self.queue)\n",
    "            self.size-=1\n",
    "            return value\n",
    "    def peek(self):\n",
    "        if self.size == 0:\n",
    "            return f\"queue is empty\"\n",
    "        else:\n",
    "            value = self.queue[self.front]\n",
    "            return value\n",
    "k = Arrayqueue()\n",
    "k.enqueue(10)\n",
    "k.enqueue(20)\n",
    "# k.dequeue()\n",
    "# k.dequeue()\n",
    "# k.dequeue()\n",
    "k.peek()"
   ]
  },
  {
   "cell_type": "code",
   "execution_count": 44,
   "metadata": {},
   "outputs": [
    {
     "data": {
      "text/plain": [
       "10"
      ]
     },
     "execution_count": 44,
     "metadata": {},
     "output_type": "execute_result"
    }
   ],
   "source": [
    "#Queue with liked list\n",
    "class Node:\n",
    "    def __init__(self,elem,next):\n",
    "        self.elem = elem\n",
    "        self.next = next\n",
    "class queue:\n",
    "    def __init__(self):\n",
    "        self.front = None\n",
    "        self.back = None\n",
    "    def enqueue(self,val):\n",
    "        if self.front == None:\n",
    "            self.front = Node(val,None)\n",
    "            self.back = self.front\n",
    "        else:\n",
    "            n = Node(val,None)\n",
    "            self.back.next = n\n",
    "            self.back = self.back.next\n",
    "    def dequeue(self):\n",
    "        if self.front == None:\n",
    "            return \"The queue is empty\"\n",
    "        else:\n",
    "            value = self.front.elem\n",
    "            self.front = self.front.next\n",
    "            return value\n",
    "    def peek(self):\n",
    "        if self.front == None:\n",
    "            return f\"the queue is empty\"\n",
    "        else:\n",
    "            return self.front.elem\n",
    "s = queue()\n",
    "s.enqueue(10)\n",
    "s.enqueue(20)\n",
    "# s.dequeue()\n",
    "# s.dequeue()\n",
    "\n",
    "s.peek()"
   ]
  },
  {
   "cell_type": "code",
   "execution_count": 239,
   "metadata": {},
   "outputs": [
    {
     "data": {
      "text/plain": [
       "20"
      ]
     },
     "execution_count": 239,
     "metadata": {},
     "output_type": "execute_result"
    }
   ],
   "source": [
    "#queue with array\n",
    "class Arrayqueue:\n",
    "    def __init__(self):\n",
    "        self.arr = [0]*10\n",
    "        self.front = 0\n",
    "        self.back = 0\n",
    "        self.size = 0\n",
    "    def enqueue(self,val):\n",
    "        if self.size == len(self.arr):\n",
    "            return f\"Queue is overflow\"\n",
    "        else:\n",
    "            self.arr[self.back] = val\n",
    "            self.back = (self.back+1)%len(self.arr)\n",
    "            self.size+=1\n",
    "    def dequeue(self):\n",
    "        if self.size == 0:\n",
    "            return f\"Queue is underflow\"\n",
    "        else:\n",
    "            value = self.arr[self.front]\n",
    "            self.front = (self.front+1)%len(self.arr)\n",
    "            self.size-=1\n",
    "            return value\n",
    "    def peek(self):\n",
    "        if self.size == 0:\n",
    "            return f\"queue is overflow\"\n",
    "        else:\n",
    "            return self.arr[self.front]\n",
    "s = Arrayqueue()\n",
    "s.enqueue(10)\n",
    "s.enqueue(20) \n",
    "s.dequeue()\n",
    "s.peek()\n",
    "            "
   ]
  },
  {
   "cell_type": "code",
   "execution_count": 228,
   "metadata": {},
   "outputs": [
    {
     "data": {
      "text/plain": [
       "'30'"
      ]
     },
     "execution_count": 228,
     "metadata": {},
     "output_type": "execute_result"
    }
   ],
   "source": [
    "class queue:\n",
    "    def __init__(self,val):\n",
    "        self.arr = [0]*val\n",
    "        self.size = 0\n",
    "        self.start = 0\n",
    "    def enqueue(self,val):\n",
    "        if self.size == 0:\n",
    "            self.arr[self.size] = val\n",
    "        else:\n",
    "            self.arr[self.size] = val\n",
    "        self.size+=1\n",
    "        return self.size\n",
    "    def dequeue(self):\n",
    "        if self.size == 0:\n",
    "            return \"The queue is empty\"\n",
    "        else:\n",
    "            pop_val = self.arr[self.start]   #0 10  #1 20   #2 23\n",
    "            self.start = (self.start+1)%len(self.arr)     #1   20, #2 #3\n",
    "            self.size-=1     #3   2   1\n",
    "            return pop_val\n",
    "    def peek(self):\n",
    "        if self.size == 0:\n",
    "            return f\"empty\"\n",
    "        else:\n",
    "            \n",
    "            return f\"{self.arr[self.start]}\"\n",
    "s = queue(4)\n",
    "s.enqueue(10)\n",
    "s.enqueue(20)\n",
    "s.enqueue(23)\n",
    "s.enqueue(30)\n",
    "s.dequeue()\n",
    "s.dequeue()\n",
    "s.dequeue()\n",
    "s.peek()"
   ]
  },
  {
   "cell_type": "code",
   "execution_count": null,
   "metadata": {},
   "outputs": [],
   "source": [
    "class Node:\n",
    "    def __init__(self,e,n):\n",
    "        self.elem = e\n",
    "        self.next = n\n",
    "def creatlist(a):\n",
    "    head = Node(a[0],None)\n",
    "    temp = head\n",
    "    for i in range(1,len(a)):\n",
    "        n = Node(a[i],None)\n",
    "        temp.next = n\n",
    "        temp = temp.next\n",
    "    return head"
   ]
  },
  {
   "cell_type": "code",
   "execution_count": null,
   "metadata": {},
   "outputs": [],
   "source": []
  },
  {
   "cell_type": "code",
   "execution_count": null,
   "metadata": {},
   "outputs": [],
   "source": []
  },
  {
   "attachments": {},
   "cell_type": "markdown",
   "metadata": {},
   "source": [
    "*************************************************AFTER MID*************************************************"
   ]
  },
  {
   "attachments": {},
   "cell_type": "markdown",
   "metadata": {},
   "source": [
    "*Topic-01\n",
    "recursion"
   ]
  },
  {
   "cell_type": "code",
   "execution_count": 10,
   "metadata": {},
   "outputs": [
    {
     "data": {
      "text/plain": [
       "6"
      ]
     },
     "execution_count": 10,
     "metadata": {},
     "output_type": "execute_result"
    }
   ],
   "source": [
    "#1 length of String\n",
    "def lenofstring(a):\n",
    "    if a == \"\":\n",
    "        return 0\n",
    "    return 1 + lenofstring(a[1: ])\n",
    "lenofstring(input())"
   ]
  },
  {
   "cell_type": "code",
   "execution_count": 15,
   "metadata": {},
   "outputs": [
    {
     "data": {
      "text/plain": [
       "4"
      ]
     },
     "execution_count": 15,
     "metadata": {},
     "output_type": "execute_result"
    }
   ],
   "source": [
    "class node:    # right way\n",
    "    def __init__(self,elem,next):\n",
    "        self.elem = elem\n",
    "        self.next = next\n",
    "class linkedlist:\n",
    "    def __init__(self,a):\n",
    "        self.head = node(a[0],None)\n",
    "        temp = self.head\n",
    "        for i in range(1,len(a)):\n",
    "            n = node(a[i],None)\n",
    "            temp.next = n\n",
    "            temp = temp.next\n",
    "    def count(self,temp):\n",
    "        # temp = self.head\n",
    "        if not temp:\n",
    "            return 0\n",
    "        temp = temp.next\n",
    "        return 1 + self.count(temp)\n",
    "k = linkedlist(input())\n",
    "k.count(k.head)"
   ]
  },
  {
   "cell_type": "code",
   "execution_count": 75,
   "metadata": {},
   "outputs": [
    {
     "data": {
      "text/plain": [
       "5"
      ]
     },
     "execution_count": 75,
     "metadata": {},
     "output_type": "execute_result"
    }
   ],
   "source": [
    "#2 length of linkedlist\n",
    "class Node:\n",
    "    def __init__(self,elem,next):\n",
    "        self.elem = elem\n",
    "        self.next = next\n",
    "class linkedlist:\n",
    "    def __init__(self,a):\n",
    "        self.head = Node(a[0],None)\n",
    "        temp = self.head\n",
    "        for i in range(1,len(a)):\n",
    "            n = Node(a[i],None)\n",
    "            temp.next = n\n",
    "            temp = temp.next\n",
    "            \n",
    "    def count(self):\n",
    "        temp = self.head\n",
    "        count = 0\n",
    "        while temp != None:\n",
    "            count+=1\n",
    "            temp = temp.next\n",
    "        return count\n",
    "    def lengg(self):\n",
    "        return self.recursion(self.head)\n",
    "    def recursion(self,head):\n",
    "        if head == None:\n",
    "            return 0\n",
    "        return 1 + self.recursion(head.next)\n",
    "h = linkedlist(input()) \n",
    "#h.count()  \n",
    "h.lengg()"
   ]
  },
  {
   "cell_type": "code",
   "execution_count": 14,
   "metadata": {},
   "outputs": [
    {
     "data": {
      "text/plain": [
       "4"
      ]
     },
     "execution_count": 14,
     "metadata": {},
     "output_type": "execute_result"
    }
   ],
   "source": [
    "#2 ANOTHER WAY\n",
    "class Node:\n",
    "    def __init__(self,elem,next):\n",
    "        self.elem = elem\n",
    "        self.next = next\n",
    "class linkedlist:\n",
    "    def __init__(self,a):\n",
    "        self.head = Node(a[0],None)\n",
    "        temp = self.head\n",
    "        for i in range(1,len(a)):\n",
    "            n = Node(a[i],None)\n",
    "            temp.next = n\n",
    "            temp = temp.next\n",
    "            \n",
    "    def count(self):\n",
    "        temp = self.head\n",
    "        count = 0\n",
    "        while temp != None:\n",
    "            count+=1\n",
    "            temp = temp.next\n",
    "        return count\n",
    "    def lengg(self,head):\n",
    "        if head == None:\n",
    "            return 0\n",
    "        return 1 + self.lengg(head.next)\n",
    "        \n",
    "h = linkedlist(input()) \n",
    "# h.count()  \n",
    "h.lengg(h.head)"
   ]
  },
  {
   "cell_type": "code",
   "execution_count": 17,
   "metadata": {},
   "outputs": [
    {
     "name": "stdout",
     "output_type": "stream",
     "text": [
      "6\n"
     ]
    }
   ],
   "source": [
    "#2 ANOTHER WAY 2\n",
    "# 1. count\n",
    "# 2. length\n",
    "# 3. sum of linkedlist\n",
    "class Node:\n",
    "    def __init__(self,elem,next):\n",
    "        self.elem = elem\n",
    "        self.next = next\n",
    "class linkedlist:\n",
    "    def __init__(self,a):\n",
    "        self.head = Node(a[0],None)\n",
    "        temp = self.head\n",
    "        for i in range(1,len(a)):\n",
    "            n = Node(a[i],None)\n",
    "            temp.next = n\n",
    "            temp = temp.next\n",
    "            \n",
    "    def count(self):\n",
    "        temp = self.head\n",
    "        count = 0\n",
    "        while temp != None:\n",
    "            count+=1\n",
    "            temp = temp.next\n",
    "        return count\n",
    "    \n",
    "    def lengg(self,head = None):\n",
    "        if not self.head:\n",
    "            return 0\n",
    "        self.head = self.head.next\n",
    "        return 1 + self.lengg(self.head)\n",
    "    \n",
    "    def sum_(self,temp):\n",
    "        if not temp:\n",
    "            return 0\n",
    "        k = int(temp.elem)\n",
    "        temp = temp.next\n",
    "        return k + self.sum_(temp)\n",
    "        \n",
    "h = linkedlist(input()) \n",
    "# print(h.count())\n",
    "# print(h.lengg(h))\n",
    "print(h.sum_(h.head))"
   ]
  },
  {
   "cell_type": "code",
   "execution_count": 18,
   "metadata": {},
   "outputs": [
    {
     "data": {
      "text/plain": [
       "6"
      ]
     },
     "execution_count": 18,
     "metadata": {},
     "output_type": "execute_result"
    }
   ],
   "source": [
    "#2 ANOTHER WAY 2\n",
    "class Node:\n",
    "    def __init__(self,elem,next):\n",
    "        self.elem = elem\n",
    "        self.next = next\n",
    "class linkedlist:\n",
    "    def __init__(self,a):\n",
    "        self.head = Node(a[0],None)\n",
    "        temp = self.head\n",
    "        for i in range(1,len(a)):\n",
    "            n = Node(a[i],None)\n",
    "            temp.next = n\n",
    "            temp = temp.next\n",
    "            \n",
    "    # def count(self):\n",
    "    #     temp = self.head\n",
    "    #     count = 0\n",
    "    #     while temp != None:\n",
    "    #         count+=1\n",
    "    #         temp = temp.next\n",
    "    #     return count\n",
    "    # def lengg(self,head = None):\n",
    "    #     if not self.head:\n",
    "    #         return 0\n",
    "    #     self.head = self.head.next\n",
    "    #     # print(head.elem)\n",
    "    #     return 1 + self.lengg(self.head)\n",
    "    # def sum_(self,head = None):\n",
    "    #     if self.head == None:\n",
    "    #         return 0\n",
    "    #     k = int(self.head.elem)\n",
    "    #     self.head = self.head.next\n",
    "    #     return k + self.sum_(self.head)      \n",
    "    def sum_(self,temp):\n",
    "        if not temp:\n",
    "            return 0\n",
    "        k = int(temp.elem)\n",
    "        temp = temp.next\n",
    "        return k + self.sum_(temp)\n",
    "h = linkedlist(input()) \n",
    "# h.count()  \n",
    "# h.lengg(h)\n",
    "h.sum_(h.head)"
   ]
  },
  {
   "cell_type": "code",
   "execution_count": 19,
   "metadata": {},
   "outputs": [
    {
     "data": {
      "text/plain": [
       "6"
      ]
     },
     "execution_count": 19,
     "metadata": {},
     "output_type": "execute_result"
    }
   ],
   "source": [
    "#3 factorial calculation\n",
    "def fact(number):\n",
    "    if number == 0 or number == 1:\n",
    "        return 1\n",
    "    return  number * fact(number-1)\n",
    "fact(int(input()))"
   ]
  },
  {
   "cell_type": "code",
   "execution_count": 18,
   "metadata": {},
   "outputs": [
    {
     "data": {
      "text/plain": [
       "3"
      ]
     },
     "execution_count": 18,
     "metadata": {},
     "output_type": "execute_result"
    }
   ],
   "source": [
    "# 4\n",
    "# fibonacci numbers\n",
    "def fib(number):\n",
    "    if number == 0 or number == 1:\n",
    "        return number\n",
    "    return fib(number-1) + fib(number-2)\n",
    "fib(4)"
   ]
  },
  {
   "cell_type": "code",
   "execution_count": 25,
   "metadata": {},
   "outputs": [
    {
     "name": "stdout",
     "output_type": "stream",
     "text": [
      "0 1 1 2 3 5 8 13 21 34 "
     ]
    }
   ],
   "source": [
    "def fibonacci_recursive(n):\n",
    "    if n <= 1:\n",
    "        return n\n",
    "    else:\n",
    "        return fibonacci_recursive(n-1) + fibonacci_recursive(n-2)\n",
    "\n",
    "# Example usage:\n",
    "# Prints the first 10 Fibonacci numbers\n",
    "for i in range(int(input())):\n",
    "    print(fibonacci_recursive(i),end = ' ')\n"
   ]
  },
  {
   "cell_type": "code",
   "execution_count": 23,
   "metadata": {},
   "outputs": [
    {
     "name": "stdout",
     "output_type": "stream",
     "text": [
      "0 1 1 2 "
     ]
    }
   ],
   "source": [
    "def fib(n):\n",
    "    if n<=1:\n",
    "        return n\n",
    "    return fib(n-1) + fib(n-2)\n",
    "for i in range(int(input())):\n",
    "    print(fib(i), end = ' ')"
   ]
  },
  {
   "attachments": {},
   "cell_type": "markdown",
   "metadata": {},
   "source": [
    "Sum of integers from 1 to N"
   ]
  },
  {
   "cell_type": "code",
   "execution_count": 2,
   "metadata": {},
   "outputs": [
    {
     "data": {
      "text/plain": [
       "15"
      ]
     },
     "execution_count": 2,
     "metadata": {},
     "output_type": "execute_result"
    }
   ],
   "source": [
    "# 5\n",
    "def sum(n):\n",
    "    if n == 0:\n",
    "        return 0\n",
    "    return n + sum(n-1)\n",
    "sum(int(input()))"
   ]
  },
  {
   "attachments": {},
   "cell_type": "markdown",
   "metadata": {},
   "source": [
    "power recursion"
   ]
  },
  {
   "cell_type": "code",
   "execution_count": 46,
   "metadata": {},
   "outputs": [
    {
     "data": {
      "text/plain": [
       "3125"
      ]
     },
     "execution_count": 46,
     "metadata": {},
     "output_type": "execute_result"
    }
   ],
   "source": [
    "#6\n",
    "def recursion(a,n):\n",
    "    if n == 0 :\n",
    "        return 1\n",
    "    return a * recursion(a,n-1)\n",
    "recursion(int(input()),int(input()))"
   ]
  },
  {
   "attachments": {},
   "cell_type": "markdown",
   "metadata": {},
   "source": [
    "Binary to Decimal number"
   ]
  },
  {
   "cell_type": "code",
   "execution_count": 1,
   "metadata": {},
   "outputs": [
    {
     "data": {
      "text/plain": [
       "343"
      ]
     },
     "execution_count": 1,
     "metadata": {},
     "output_type": "execute_result"
    }
   ],
   "source": [
    "#8 another way\n",
    "def recursion(b,i,decimal):\n",
    "    if len(b) == i:\n",
    "        return decimal\n",
    "    else:\n",
    "        decimal = 2* decimal + int(b[i])\n",
    "    return recursion(b,i+1,decimal)\n",
    "recursion(input(),0,0)"
   ]
  },
  {
   "cell_type": "code",
   "execution_count": 6,
   "metadata": {},
   "outputs": [
    {
     "data": {
      "text/plain": [
       "5"
      ]
     },
     "execution_count": 6,
     "metadata": {},
     "output_type": "execute_result"
    }
   ],
   "source": [
    "#8\n",
    "def recursion(b,i,decimal):\n",
    "    if len(b) == i:\n",
    "        return decimal\n",
    "    else:\n",
    "        if b[i] == \"0\":\n",
    "            decimal = 2*decimal\n",
    "        else:\n",
    "            decimal = 2* decimal + 1\n",
    "    return recursion(b,i+1,decimal)\n",
    "recursion(input(),0,0)"
   ]
  },
  {
   "attachments": {},
   "cell_type": "markdown",
   "metadata": {},
   "source": [
    "Recursion practice sum of digits"
   ]
  },
  {
   "cell_type": "code",
   "execution_count": 26,
   "metadata": {},
   "outputs": [
    {
     "data": {
      "text/plain": [
       "6"
      ]
     },
     "execution_count": 26,
     "metadata": {},
     "output_type": "execute_result"
    }
   ],
   "source": [
    "#9\n",
    "def fact(number):\n",
    "    if number == \"\":\n",
    "        return 0\n",
    "    return int(number[0])+fact(number[1: ])\n",
    "fact(input())"
   ]
  },
  {
   "cell_type": "code",
   "execution_count": 30,
   "metadata": {},
   "outputs": [
    {
     "data": {
      "text/plain": [
       "10"
      ]
     },
     "execution_count": 30,
     "metadata": {},
     "output_type": "execute_result"
    }
   ],
   "source": [
    "#another way\n",
    "def sumofd(num,sum = 0):\n",
    "    if num == 0:\n",
    "        return sum\n",
    "    sum += (num % 10)\n",
    "    return sumofd((num//10),sum)\n",
    "sumofd(int(input()))"
   ]
  },
  {
   "attachments": {},
   "cell_type": "markdown",
   "metadata": {},
   "source": [
    "             key indexing\n",
    "             "
   ]
  },
  {
   "cell_type": "code",
   "execution_count": 2,
   "metadata": {},
   "outputs": [
    {
     "name": "stdout",
     "output_type": "stream",
     "text": [
      "[0, 1, 1, 0, 1, 0, 1, 0, 1]\n",
      "Yes\n",
      "[1, 2, 4, 6, 8, 0]\n"
     ]
    }
   ],
   "source": [
    "#1\n",
    "arr = [2,1,2,4,6,8]\n",
    "m = max(arr)\n",
    "main = [0]*(m+1)\n",
    "for i in arr:\n",
    "    main[i] = 1\n",
    "print(main)\n",
    "if main[4] == 1:\n",
    "    print(\"Yes\")\n",
    "else:\n",
    "    print(\"no\")\n",
    "j = 0\n",
    "sort_arry = [0]*len(arr)\n",
    "for i in range(len(main)):\n",
    "    if main[i] == 1:\n",
    "        sort_arry[j] = i\n",
    "        j+=1\n",
    "print(sort_arry)"
   ]
  },
  {
   "cell_type": "code",
   "execution_count": 23,
   "metadata": {},
   "outputs": [
    {
     "name": "stdout",
     "output_type": "stream",
     "text": [
      "[1, 0, 1, 1, 0, 1, 1, 1, 1]\n",
      "[0, 2, 3, 5, 6, 7, 8]\n",
      "Not found\n"
     ]
    }
   ],
   "source": [
    "r = [7,3,0,2,5,8,6]\n",
    "m = max(r)\n",
    "auxx = [0]*(m+1)\n",
    "for i in r:\n",
    "    auxx[i] = 1\n",
    "print(auxx)\n",
    "j = 0\n",
    "sort_array = [0]*len(r)\n",
    "for i in range(len(auxx)):\n",
    "    if auxx[i]==1:\n",
    "        sort_array[j] = i\n",
    "        j+=1\n",
    "print(sort_array)\n",
    "x = int(input())\n",
    "for i in range(len(auxx)):\n",
    "    if x >= len(auxx) or x<0:\n",
    "        print(\"Not found\")\n",
    "        break\n",
    "    elif auxx[x]==1:\n",
    "        print(\"yes\")\n",
    "        break\n",
    "    else:\n",
    "        print(\"NO\")\n",
    "        break"
   ]
  },
  {
   "cell_type": "code",
   "execution_count": null,
   "metadata": {},
   "outputs": [],
   "source": []
  },
  {
   "cell_type": "code",
   "execution_count": 19,
   "metadata": {},
   "outputs": [
    {
     "name": "stdout",
     "output_type": "stream",
     "text": [
      "[1, 0, 0, 0, 1, 0, 0, 0, 1, 1, 1, 0, 0, 1, 0, 1]\n",
      "yes\n",
      "[-7, -3, 1, 2, 3, 6, 8]\n"
     ]
    }
   ],
   "source": [
    "#2\n",
    "arr = [2,-3,3,1,6,8,-7]\n",
    "min = -7\n",
    "ar = [9,4,10,8,13,15,0]\n",
    "m = max(ar)\n",
    "main = [0]*(m+1)\n",
    "for i in ar:\n",
    "    main[i] = 1 \n",
    "print(main)\n",
    "\n",
    "x = int(input())\n",
    "if main[x-min] == 1:\n",
    "    print(\"yes\")\n",
    "else:\n",
    "    print(\"no\")\n",
    "\n",
    "sort_arr = [0]*len(arr)\n",
    "j = 0\n",
    "for i in range(len(main)):\n",
    "    if main[i] == 1:\n",
    "        sort_arr[j] = i+min\n",
    "        j+=1\n",
    "print(sort_arr)"
   ]
  },
  {
   "cell_type": "code",
   "execution_count": 34,
   "metadata": {},
   "outputs": [
    {
     "name": "stdout",
     "output_type": "stream",
     "text": [
      "[1, 0, 0, 1, 0, 1, 1, 1, 1]\n",
      "[0, 0, 0, 0, 0, 0]\n"
     ]
    }
   ],
   "source": [
    "class keyindex:\n",
    "  def __init__(self,a):\n",
    "    self.min_val = min(a)\n",
    "    if self.min_val>=0:\n",
    "      maximum = max(a)\n",
    "      self.aux = [0]*(maximum+1)\n",
    "      for i in range(len(a)):\n",
    "        self.aux[a[i]]+=1\n",
    "    else:\n",
    "      max_val = max(a)\n",
    "      self.aux = [0]*(abs(self.min_val)+max_val+1)\n",
    "      for i in range(len(a)):\n",
    "        self.aux[a[i]+abs(self.min_val)]+=1\n",
    "    print(self.aux)\n",
    "\n",
    "  def search(self,val):\n",
    "    if val>len(a):\n",
    "      print(\"no\")\n",
    "    else:\n",
    "      for i in self.aux:\n",
    "        if self.aux[val]==1:\n",
    "          print(\"he he\")\n",
    "          break\n",
    "      else:\n",
    "          print(\"NO\")\n",
    "  def sort(self):\n",
    "    self.sort = [0]*len(a)\n",
    "    j = 0\n",
    "    if self.min_val>=0:\n",
    "      for i in range(len(self.aux)):\n",
    "        if self.aux[i] == 1:\n",
    "          self.sort[j] = i\n",
    "          j+=1\n",
    "\n",
    "    print(self.sort)\n",
    "    # else:\n",
    "    #   for i in self.aux:\n",
    "    #     if i == 1:\n",
    "\n",
    "a = [1,5,-2,6,3,4]\n",
    "k = keyindex(a)\n",
    "# k.search(7)\n",
    "k.sort()"
   ]
  },
  {
   "cell_type": "code",
   "execution_count": 1,
   "metadata": {},
   "outputs": [
    {
     "name": "stdout",
     "output_type": "stream",
     "text": [
      "hello shafi\n"
     ]
    }
   ],
   "source": [
    "print(\"hello shafi\")"
   ]
  },
  {
   "cell_type": "code",
   "execution_count": 17,
   "metadata": {},
   "outputs": [
    {
     "name": "stdout",
     "output_type": "stream",
     "text": [
      "['A', 'B', 'C']\n",
      "[12, 13, 14]\n"
     ]
    }
   ],
   "source": [
    "s = {'A':12,'B':13,'C':14}\n",
    "def dif(s):\n",
    "    w = []\n",
    "    n = []\n",
    "    for k,v in s.items():\n",
    "        w.append(k)\n",
    "        n.append(v)\n",
    "    print(w)\n",
    "    print(n)\n",
    "dif(s)"
   ]
  },
  {
   "cell_type": "code",
   "execution_count": 4,
   "metadata": {},
   "outputs": [
    {
     "name": "stdout",
     "output_type": "stream",
     "text": [
      "4\n"
     ]
    }
   ],
   "source": [
    "n = input()\n",
    "for i in n:\n",
    "    print(i)"
   ]
  },
  {
   "cell_type": "code",
   "execution_count": null,
   "metadata": {},
   "outputs": [],
   "source": []
  },
  {
   "attachments": {},
   "cell_type": "markdown",
   "metadata": {},
   "source": [
    "            TREEEEEEEEEEEEEE\n",
    "            "
   ]
  },
  {
   "attachments": {},
   "cell_type": "markdown",
   "metadata": {},
   "source": [
    "1. non- linear dt\n",
    "2. Represents relationship between nodes\n",
    "3. collection of entities called nodes\n",
    "4. Nodes are connested by edges\n",
    "\n",
    "1. top node----- root\n",
    "2. connection---edge/link\n",
    "3. parent Node/parent\n",
    "4. child---\n",
    "5. siblings--if both nodes parent are same\n",
    "6. External Node/Terminal node-- this node has no child.\n",
    "7. path-- last node\n",
    "8. degree of a node-- total number of children of that node.\n",
    "9. Degree of a tree-- it is the highest degree of node among all of node's\n",
    "10. level--top to buttom, level start from 0\n",
    "11. height of a node-- total number of adjust that lice- highest number of child\n",
    "12. Depth-- depth of node root always 0\n",
    "13. "
   ]
  },
  {
   "cell_type": "markdown",
   "metadata": {},
   "source": []
  },
  {
   "attachments": {},
   "cell_type": "markdown",
   "metadata": {},
   "source": [
    "Different type of tree\n",
    "1. general tree--no limitation\n",
    "2. binary tree-- most two child"
   ]
  },
  {
   "attachments": {},
   "cell_type": "markdown",
   "metadata": {},
   "source": [
    "Binary TREE\n",
    "1. full binary tree\n",
    "2. complate binary tree\n",
    "3. perfact tree\n",
    "4. balanced binary\n",
    "5. pathaloginal binary tree"
   ]
  },
  {
   "cell_type": "markdown",
   "metadata": {},
   "source": []
  },
  {
   "attachments": {},
   "cell_type": "markdown",
   "metadata": {},
   "source": [
    "1. Full binary tree- every node can have 0 or 2 children.\n",
    "2. Complate binary tree--1. all levels except last level   --> completely filled.\n",
    "last level --> completely filled --> left to right\n",
    "3. perfact binary Tree--> all internal nodes can have 2 children, leaf node-in same level\n",
    "4. balanced binary tree--> diff(height of left subtree - height of right subtree)< 0 or = 1\n",
    "5. degenerat binary treee- every parents have just 1 children"
   ]
  },
  {
   "attachments": {},
   "cell_type": "markdown",
   "metadata": {},
   "source": [
    "            BINARY SEARCH TREE\n",
    "1.  how to deal with duplicat values. \n",
    "placed on right side"
   ]
  },
  {
   "cell_type": "markdown",
   "metadata": {},
   "source": []
  },
  {
   "attachments": {},
   "cell_type": "markdown",
   "metadata": {},
   "source": [
    "                SEARCH\n",
    "1. empty--> given value not present\n",
    "2. root == given value--> presnt \n",
    "not -- given < root node --> left S.T\n",
    "if > then go for right S.T"
   ]
  },
  {
   "attachments": {},
   "cell_type": "markdown",
   "metadata": {},
   "source": [
    "      INSERTION\n",
    "1. BST--> empyt -- inset new node \n",
    "2. root < new_node --> insert  right side or left side "
   ]
  },
  {
   "attachments": {},
   "cell_type": "markdown",
   "metadata": {},
   "source": [
    "           DELETION\n",
    "1. BST --> empty --> can't delete\n",
    "2. BST --> not empty --> search mathod--check 0 children, 1 children, 2 children.\n",
    "3. Delete node\n",
    "            "
   ]
  },
  {
   "attachments": {},
   "cell_type": "markdown",
   "metadata": {},
   "source": [
    "       CASE-01\n",
    "1. leaf node--simple deletion"
   ]
  },
  {
   "attachments": {},
   "cell_type": "markdown",
   "metadata": {},
   "source": [
    "       CASE-02\n",
    "1 child\n"
   ]
  },
  {
   "attachments": {},
   "cell_type": "markdown",
   "metadata": {},
   "source": [
    "    --------TRAVERSAL------\n",
    "1. Pre-order\n",
    "2. In-order\n",
    "3. post-order\n",
    "4. level order traversal operation"
   ]
  },
  {
   "attachments": {},
   "cell_type": "markdown",
   "metadata": {},
   "source": [
    "     PRE-ORDER\n",
    "first visited root node\n",
    "1. root node\n",
    "2. left subtree\n",
    "3. right subtree"
   ]
  },
  {
   "attachments": {},
   "cell_type": "markdown",
   "metadata": {},
   "source": [
    "        IN-ORDER\n",
    "First visited left subtree\n",
    "1. left subtree\n",
    "2. root\n",
    "3. right subtree"
   ]
  },
  {
   "attachments": {},
   "cell_type": "markdown",
   "metadata": {},
   "source": [
    "        POST-ORDER\n",
    "1. Left subtree\n",
    "2. right subtree\n",
    "3. root node"
   ]
  },
  {
   "attachments": {},
   "cell_type": "markdown",
   "metadata": {},
   "source": [
    "       LEVEL-ORDER \n",
    "1. level 0 --> level 1 --> level 2 and so on."
   ]
  },
  {
   "attachments": {},
   "cell_type": "markdown",
   "metadata": {},
   "source": [
    "           MIN-MAX\n",
    "1. Smallest node----> left side \n",
    "2. largest value----> rigt most node\n",
    "3. total number of tree= (total nubmer of LSD + total number of RSD) + 1"
   ]
  },
  {
   "cell_type": "markdown",
   "metadata": {},
   "source": []
  },
  {
   "cell_type": "code",
   "execution_count": 16,
   "metadata": {},
   "outputs": [
    {
     "name": "stdout",
     "output_type": "stream",
     "text": [
      "10\n",
      "None\n",
      "None\n",
      "5\n",
      "None\n",
      "None\n"
     ]
    }
   ],
   "source": [
    "#1\n",
    "class bst:\n",
    "    def __init__(self,key):\n",
    "        self.key = key \n",
    "        self.lchild = None\n",
    "        self.rchild = None\n",
    "root = bst(10)\n",
    "print(root.key)\n",
    "print(root.lchild)\n",
    "print(root.rchild)\n",
    "\n",
    "root.lchild =  bst(5)\n",
    "\n",
    "print(root.lchild.key)\n",
    "print(root.lchild.lchild)\n",
    "print(root.lchild.rchild)\n"
   ]
  },
  {
   "attachments": {},
   "cell_type": "markdown",
   "metadata": {},
   "source": [
    "       INSERTION\n",
    "1. Tree is empty--insert on first node\n",
    "2. not empyt--\n",
    "2. "
   ]
  },
  {
   "cell_type": "code",
   "execution_count": 86,
   "metadata": {},
   "outputs": [
    {
     "name": "stdout",
     "output_type": "stream",
     "text": [
      "found!\n",
      "8\n",
      "pre-order\n",
      "10 2 4 3 5 7 18 24 \n",
      "in-order\n",
      "2 3 4 5 7 18 24 \n",
      "Post-order\n",
      "3 7 5 4 2 24 18 \n",
      "Node with smallest key's :  2\n",
      "Node wiht largest number: 24\n"
     ]
    }
   ],
   "source": [
    "#intertion\n",
    "class bst:\n",
    "    def __init__(self,key):\n",
    "        self.key = key \n",
    "        self.lchild = None\n",
    "        self.rchild = None\n",
    "    def insert(self,data):\n",
    "        if self.key == data:\n",
    "            return\n",
    "        if self.key is None:\n",
    "            self.key = data\n",
    "            return\n",
    "        elif self.key > data:\n",
    "            if self.lchild:\n",
    "                self.lchild.insert(data)\n",
    "            else:\n",
    "                self.lchild = bst(data)\n",
    "        else:\n",
    "            if self.rchild:\n",
    "                self.rchild.insert(data)\n",
    "            else:\n",
    "                self.rchild = bst(data)\n",
    "    \n",
    "    def search(self,data):\n",
    "        if self.key == data:\n",
    "            print(\"found!\")\n",
    "            return\n",
    "        elif self.key > data:\n",
    "            if self.lchild:\n",
    "                self.lchild.search(data)\n",
    "            else:\n",
    "                print(\"Node is not present!\")\n",
    "        else:\n",
    "            if self.rchild:\n",
    "                self.rchild.search(data)\n",
    "            else:\n",
    "                print(\"Node is not present!\")\n",
    "        \n",
    "    def preorder(self):\n",
    "        print(self.key,end = ' ')\n",
    "        if self.lchild:\n",
    "            self.lchild.preorder()\n",
    "        if self.rchild:\n",
    "            self.rchild.preorder()\n",
    "    def inorder(self):\n",
    "        # print(\"in-order\")\n",
    "        if self.lchild:\n",
    "            self.lchild.inorder()\n",
    "        print(self.key,end = ' ')\n",
    "        if self.rchild:\n",
    "            self.rchild.inorder()\n",
    "    def postorder(self):\n",
    "        if self.lchild:\n",
    "            self.lchild.postorder()\n",
    "        if self.rchild:\n",
    "            self.rchild.postorder()\n",
    "        print(self.key, end = ' ')\n",
    "        \n",
    "        \n",
    "    def deletion(self,data,curr):\n",
    "        if self.key is None:\n",
    "            print(\"Tree is empty\")\n",
    "            return \n",
    "        if self.key > data:\n",
    "            if self.lchild:\n",
    "                self.lchild = self.lchild.deletion(data,curr)\n",
    "            else:\n",
    "                print(\"given Node is not present in the tree\")\n",
    "        elif data>self.key:\n",
    "            if self.rchild:\n",
    "                self.rchild = self.rchild.deletion(data,curr)\n",
    "            else:\n",
    "                print(\"given node is not present in this tree\")\n",
    "        else:\n",
    "            if self.lchild is None:\n",
    "                temp = self.rchild\n",
    "                if data == curr:\n",
    "                    self.key = temp.key \n",
    "                    self.lchild = temp.lchild\n",
    "                    self.rchild = temp.rchild\n",
    "                    temp = None\n",
    "                    return\n",
    "                    \n",
    "                self  = None\n",
    "                return temp\n",
    "            if self.rchild is None:\n",
    "                temp = self.lchild\n",
    "                if data == curr:\n",
    "                    self.key = temp.key \n",
    "                    self.lchild = temp.lchild\n",
    "                    self.rchild = temp.rchild\n",
    "                    temp = None\n",
    "                    return\n",
    "                self = None\n",
    "                return temp\n",
    "            node = self.rchild\n",
    "            while node.lchild:\n",
    "                node = node.lchild\n",
    "            self.key = node.key\n",
    "            self.rchild = self.rchild.deletion(node.key,curr)\n",
    "        return self\n",
    "    def min_node(self):\n",
    "        current = self\n",
    "        while current.lchild:\n",
    "            current = current.lchild\n",
    "        print(\"Node with smallest key's : \",current.key)\n",
    "    def max_node(self):\n",
    "        current = self\n",
    "        while current.rchild:\n",
    "            current = current.rchild\n",
    "        print(\"Node with largest number:\",current.key)\n",
    "def count(node):\n",
    "    if node is None:\n",
    "        return 0\n",
    "    return 1 + count(node.lchild)+ count(node.rchild)\n",
    "root = bst(10)\n",
    "list1 = [18,2,4,5,3,7,24]\n",
    "for i in list1:\n",
    "    root.insert(i)\n",
    "root.search(2)\n",
    "# root.deletion(45)\n",
    "print(count(root))\n",
    "print('pre-order')\n",
    "root.preorder()\n",
    "print()\n",
    "if count(root)>1:\n",
    "    root.deletion(10,root.key)\n",
    "else:\n",
    "    print(\"Can't perform deletion operation\")\n",
    "print(\"in-order\")\n",
    "root.inorder()\n",
    "print()\n",
    "print(\"Post-order\")\n",
    "root.postorder()\n",
    "print()\n",
    "root.min_node()\n",
    "root.max_node()\n"
   ]
  },
  {
   "attachments": {},
   "cell_type": "markdown",
   "metadata": {},
   "source": [
    "      TRAVERSAL ALGORITHOM"
   ]
  },
  {
   "cell_type": "code",
   "execution_count": null,
   "metadata": {},
   "outputs": [],
   "source": []
  },
  {
   "attachments": {},
   "cell_type": "markdown",
   "metadata": {},
   "source": [
    "        HEAP DATA STRUCTURE"
   ]
  },
  {
   "attachments": {},
   "cell_type": "markdown",
   "metadata": {},
   "source": [
    "1. min heap---> parents <= child(thats mean root always minimum node)\n",
    "2. max heap---> parents >= child (thats mean root always maximum node)"
   ]
  },
  {
   "cell_type": "markdown",
   "metadata": {},
   "source": []
  },
  {
   "attachments": {},
   "cell_type": "markdown",
   "metadata": {},
   "source": [
    "heap delete/insert--> runing time log(n)"
   ]
  },
  {
   "attachments": {},
   "cell_type": "markdown",
   "metadata": {},
   "source": [
    "normal insertion sort/ selection sort--> running time n^2"
   ]
  },
  {
   "attachments": {},
   "cell_type": "markdown",
   "metadata": {},
   "source": [
    "heap sort--> running time = n*log(n)"
   ]
  },
  {
   "cell_type": "code",
   "execution_count": 8,
   "metadata": {},
   "outputs": [
    {
     "name": "stdout",
     "output_type": "stream",
     "text": [
      "[2, 0, 0, 0, 0, 0, 0, 1, 1, 2, 0, 0, 0, 1]\n",
      "[-6, -6, 1, 2, 3, 3, 7]\n"
     ]
    }
   ],
   "source": [
    "#key indexing\n",
    "class key:\n",
    "    def __init__(self,arr):\n",
    "        self.minn = min(arr)\n",
    "        if self.minn>=0:\n",
    "            self.m = max(arr)\n",
    "            self.aux = [0]*(m+1)\n",
    "            for i in arr:\n",
    "                self.aux[i] += 1\n",
    "            print(self.aux)\n",
    "        else:\n",
    "            self.m = max(arr)\n",
    "            self.aux = [0]*((abs(self.minn))+abs(self.m)+1)\n",
    "            for i in range(len(arr)):\n",
    "                self.x = arr[i] + abs(self.minn)\n",
    "                self.aux[self.x]+=1\n",
    "                # print(self.x)\n",
    "            print(self.aux)\n",
    "    def search(self,val):\n",
    "        if val>=len(self.aux):\n",
    "            return False\n",
    "        else:\n",
    "            if self.minn>=0:\n",
    "                   if self.aux[val] >= 1 :\n",
    "                       return True\n",
    "                   else:\n",
    "                       return False \n",
    "            else:\n",
    "                if val<self.minn:\n",
    "                    return False\n",
    "                elif self.aux[val+abs(self.minn)]>=1:\n",
    "                    return True\n",
    "                else:\n",
    "                    return False\n",
    "    def sort(self):\n",
    "        count = 0\n",
    "        self.sort = [0]*len(arr)\n",
    "        for i in range(len(self.aux)):\n",
    "            if self.aux[i] > 0:\n",
    "                for j in range(self.aux[i]):\n",
    "                    if self.minn>=0:\n",
    "                        self.sort[count] = i\n",
    "                        count+=1\n",
    "                    else:\n",
    "                        self.sort[count] = i+(self.minn)\n",
    "                        count+=1\n",
    "        print(self.sort)\n",
    "arr = [2,1,3,3,-6,-6,7]\n",
    "k = key(arr)  \n",
    "# k.search(int(input()))  \n",
    "k.sort()       "
   ]
  },
  {
   "cell_type": "code",
   "execution_count": 44,
   "metadata": {},
   "outputs": [
    {
     "name": "stdout",
     "output_type": "stream",
     "text": [
      "[1, 0, 1, 1, 0, 1, 1, 1, 1]\n",
      "[0, 2, 3, 5, 6, 7, 8]\n",
      "Not found\n"
     ]
    }
   ],
   "source": [
    "r = [7,3,0,2,5,8,6]\n",
    "m = max(r)\n",
    "auxx = [0]*(m+1)\n",
    "for i in r:\n",
    "    auxx[i] = 1\n",
    "print(auxx)\n",
    "j = 0\n",
    "sort_array = [0]*len(r)\n",
    "for i in range(len(auxx)):\n",
    "    if auxx[i]==1:\n",
    "        sort_array[j] = i\n",
    "        j+=1\n",
    "print(sort_array)\n",
    "x = int(input())\n",
    "# for i in range(len(auxx)):\n",
    "if x >= len(auxx) or x<0:\n",
    "    print(\"Not found\")\n",
    "elif auxx[x]==1:\n",
    "    print(\"yes\")\n",
    "else:\n",
    "    print(\"NO\")"
   ]
  },
  {
   "cell_type": "markdown",
   "metadata": {},
   "source": []
  },
  {
   "cell_type": "code",
   "execution_count": 104,
   "metadata": {},
   "outputs": [
    {
     "name": "stdout",
     "output_type": "stream",
     "text": [
      "4\n"
     ]
    }
   ],
   "source": [
    "d = 'ABCD'\n",
    "count = 0\n",
    "for i in d:\n",
    "    if \"A\"<=i<=\"Z\":\n",
    "        count+=1\n",
    "print(count)"
   ]
  },
  {
   "cell_type": "code",
   "execution_count": 6,
   "metadata": {},
   "outputs": [
    {
     "data": {
      "text/plain": [
       "[None, None, None, None, 'ST189B8A32', None, None, None, None]"
      ]
     },
     "execution_count": 6,
     "metadata": {},
     "output_type": "execute_result"
    }
   ],
   "source": [
    "def hashing(h):\n",
    "    alpa = 0\n",
    "    d = 0\n",
    "    for i in h:\n",
    "        if i in \"ABCDEFGHIJKLMNOPQRSTUVWXYZ\" and i in \"aeiou\":\n",
    "            alpa+=1\n",
    "        else:\n",
    "            if i in '0123456789':\n",
    "                d+=int(i)\n",
    "    return ((alpa*24)+d)%9\n",
    "def hash_table(x):\n",
    "    hash_table = [None]*9\n",
    "    for i in x:\n",
    "        idx = hashing(i)\n",
    "        while hash_table[idx] != None:\n",
    "            idx = (idx+1)%9\n",
    "        hash_table[idx] = i\n",
    "    return hash_table\n",
    "x = ['ST189B8A32']\n",
    "hash_table(x)"
   ]
  },
  {
   "cell_type": "code",
   "execution_count": 3,
   "metadata": {},
   "outputs": [
    {
     "data": {
      "text/plain": [
       "[2, 4, 1, 3, 0]"
      ]
     },
     "execution_count": 3,
     "metadata": {},
     "output_type": "execute_result"
    }
   ],
   "source": [
    "def make_index(array):\n",
    "    n = len(array)\n",
    "    new_ar = [None] * n\n",
    "\n",
    "    for i in range(n):\n",
    "        new_ar[array[i]] = i\n",
    "\n",
    "    return new_ar\n",
    "ar = [4,2,0,3,1]\n",
    "make_index(ar)"
   ]
  },
  {
   "cell_type": "code",
   "execution_count": 10,
   "metadata": {},
   "outputs": [
    {
     "ename": "IndexError",
     "evalue": "list assignment index out of range",
     "output_type": "error",
     "traceback": [
      "\u001b[0;31m---------------------------------------------------------------------------\u001b[0m",
      "\u001b[0;31mIndexError\u001b[0m                                Traceback (most recent call last)",
      "\u001b[1;32m/Users/mirzashafi/Shafi's project/python/versity/cse220/Data_St(220).ipynb Cell 124\u001b[0m in \u001b[0;36m<cell line: 17>\u001b[0;34m()\u001b[0m\n\u001b[1;32m      <a href='vscode-notebook-cell:/Users/mirzashafi/Shafi%27s%20project/python/versity/cse220/Data_St%28220%29.ipynb#Y234sZmlsZQ%3D%3D?line=8'>9</a>\u001b[0m     \u001b[39mreturn\u001b[39;00m new_matrix\n\u001b[1;32m     <a href='vscode-notebook-cell:/Users/mirzashafi/Shafi%27s%20project/python/versity/cse220/Data_St%28220%29.ipynb#Y234sZmlsZQ%3D%3D?line=10'>11</a>\u001b[0m matrix \u001b[39m=\u001b[39m [\n\u001b[1;32m     <a href='vscode-notebook-cell:/Users/mirzashafi/Shafi%27s%20project/python/versity/cse220/Data_St%28220%29.ipynb#Y234sZmlsZQ%3D%3D?line=11'>12</a>\u001b[0m     [\u001b[39m1\u001b[39m, \u001b[39m2\u001b[39m, \u001b[39m3\u001b[39m],\n\u001b[1;32m     <a href='vscode-notebook-cell:/Users/mirzashafi/Shafi%27s%20project/python/versity/cse220/Data_St%28220%29.ipynb#Y234sZmlsZQ%3D%3D?line=12'>13</a>\u001b[0m     [\u001b[39m4\u001b[39m, \u001b[39m5\u001b[39m, \u001b[39m6\u001b[39m],\n\u001b[1;32m     <a href='vscode-notebook-cell:/Users/mirzashafi/Shafi%27s%20project/python/versity/cse220/Data_St%28220%29.ipynb#Y234sZmlsZQ%3D%3D?line=13'>14</a>\u001b[0m     [\u001b[39m7\u001b[39m, \u001b[39m8\u001b[39m, \u001b[39m9\u001b[39m]\n\u001b[1;32m     <a href='vscode-notebook-cell:/Users/mirzashafi/Shafi%27s%20project/python/versity/cse220/Data_St%28220%29.ipynb#Y234sZmlsZQ%3D%3D?line=14'>15</a>\u001b[0m ]\n\u001b[0;32m---> <a href='vscode-notebook-cell:/Users/mirzashafi/Shafi%27s%20project/python/versity/cse220/Data_St%28220%29.ipynb#Y234sZmlsZQ%3D%3D?line=16'>17</a>\u001b[0m triangle \u001b[39m=\u001b[39m u_p_r(matrix)\n\u001b[1;32m     <a href='vscode-notebook-cell:/Users/mirzashafi/Shafi%27s%20project/python/versity/cse220/Data_St%28220%29.ipynb#Y234sZmlsZQ%3D%3D?line=17'>18</a>\u001b[0m \u001b[39mprint\u001b[39m(triangle)\n",
      "\u001b[1;32m/Users/mirzashafi/Shafi's project/python/versity/cse220/Data_St(220).ipynb Cell 124\u001b[0m in \u001b[0;36mu_p_r\u001b[0;34m(matrix)\u001b[0m\n\u001b[1;32m      <a href='vscode-notebook-cell:/Users/mirzashafi/Shafi%27s%20project/python/versity/cse220/Data_St%28220%29.ipynb#Y234sZmlsZQ%3D%3D?line=4'>5</a>\u001b[0m \u001b[39mfor\u001b[39;00m i \u001b[39min\u001b[39;00m \u001b[39mrange\u001b[39m(n):\n\u001b[1;32m      <a href='vscode-notebook-cell:/Users/mirzashafi/Shafi%27s%20project/python/versity/cse220/Data_St%28220%29.ipynb#Y234sZmlsZQ%3D%3D?line=5'>6</a>\u001b[0m     \u001b[39mfor\u001b[39;00m j \u001b[39min\u001b[39;00m \u001b[39mrange\u001b[39m(i, n):\n\u001b[0;32m----> <a href='vscode-notebook-cell:/Users/mirzashafi/Shafi%27s%20project/python/versity/cse220/Data_St%28220%29.ipynb#Y234sZmlsZQ%3D%3D?line=6'>7</a>\u001b[0m         new_matrix[p] \u001b[39m=\u001b[39m matrix[i][j]\n\u001b[1;32m      <a href='vscode-notebook-cell:/Users/mirzashafi/Shafi%27s%20project/python/versity/cse220/Data_St%28220%29.ipynb#Y234sZmlsZQ%3D%3D?line=7'>8</a>\u001b[0m         p\u001b[39m+\u001b[39m\u001b[39m=\u001b[39m\u001b[39m1\u001b[39m\n\u001b[1;32m      <a href='vscode-notebook-cell:/Users/mirzashafi/Shafi%27s%20project/python/versity/cse220/Data_St%28220%29.ipynb#Y234sZmlsZQ%3D%3D?line=8'>9</a>\u001b[0m \u001b[39mreturn\u001b[39;00m new_matrix\n",
      "\u001b[0;31mIndexError\u001b[0m: list assignment index out of range"
     ]
    }
   ],
   "source": [
    "def u_p_r(matrix):\n",
    "    n = len(matrix)\n",
    "    new_matrix = []\n",
    "    p = 0\n",
    "    for i in range(n):\n",
    "        for j in range(i, n):\n",
    "            new_matrix[p] = matrix[i][j]\n",
    "            p+=1\n",
    "    return new_matrix\n",
    "\n",
    "matrix = [\n",
    "    [1, 2, 3],\n",
    "    [4, 5, 6],\n",
    "    [7, 8, 9]\n",
    "]\n",
    "\n",
    "triangle = u_p_r(matrix)\n",
    "print(triangle)\n"
   ]
  }
 ],
 "metadata": {
  "kernelspec": {
   "display_name": "Python 3",
   "language": "python",
   "name": "python3"
  },
  "language_info": {
   "codemirror_mode": {
    "name": "ipython",
    "version": 3
   },
   "file_extension": ".py",
   "mimetype": "text/x-python",
   "name": "python",
   "nbconvert_exporter": "python",
   "pygments_lexer": "ipython3",
   "version": "3.10.4"
  },
  "orig_nbformat": 4,
  "vscode": {
   "interpreter": {
    "hash": "7e1998ff7f8aa20ada591c520b972326324e5ea05489af9e422744c7c09f6dad"
   }
  }
 },
 "nbformat": 4,
 "nbformat_minor": 2
}
