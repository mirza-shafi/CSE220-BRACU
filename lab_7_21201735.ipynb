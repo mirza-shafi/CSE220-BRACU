{
  "cells": [
    {
      "cell_type": "code",
      "execution_count": 2,
      "metadata": {
        "colab": {
          "base_uri": "https://localhost:8080/"
        },
        "id": "9tPWHU9TNbhg",
        "outputId": "e12c48ef-85b7-4118-ca0c-d80f3b078693"
      },
      "outputs": [
        {
          "name": "stdout",
          "output_type": "stream",
          "text": [
            "[0, 2, 2, 1, 1]\n",
            "True\n",
            "[1, 1, 2, 2, 3, 4]\n"
          ]
        }
      ],
      "source": [
        "class keyIndex():\n",
        "  def __init__(self,x):\n",
        "    self.max = max(x)\n",
        "    self.min = min(x)\n",
        "    self.x = x\n",
        "    self.s = 0\n",
        "    \n",
        "\n",
        "  def aux(self):\n",
        "    if self.min >0:\n",
        "      self.aux = [0]*(self.max+1)\n",
        "      \n",
        "      for i in range(len(self.x)):\n",
        "        z = self.x[i]\n",
        "        self.aux[z] += 1\n",
        "    else:\n",
        "      self.s = self.min *-1\n",
        "      self.aux = [0]*(self.max+1+self.s)\n",
        "      for i in range(len(self.x)):\n",
        "        z = self.x[i]+self.s\n",
        "        self.aux[z] += 1\n",
        "\n",
        "      \n",
        "    return(self.aux)\n",
        "  \n",
        "  \n",
        "  def search(self,z):\n",
        "    if z > len(self.x):\n",
        "      return False\n",
        "      \n",
        "    if z < self.min:\n",
        "      return False\n",
        "    else:\n",
        "      if self.aux[z+self.s] >0:\n",
        "        return True\n",
        "      else: \n",
        "        return False\n",
        "  def sorting(self):\n",
        "    count = -1\n",
        "    temAux = [0]*len(self.x)\n",
        "    for i in range(len(self.aux)):\n",
        "      if self.aux[i] >0:\n",
        "        for j in range(self.aux[i]):\n",
        "          count+=1\n",
        "          temAux[count] = i+(-1*self.s)\n",
        "                \n",
        "    return temAux\n",
        "\n",
        "arr = [1,2,3,4,2,1]\n",
        "s = keyIndex(arr)\n",
        "print(s.aux())\n",
        "print(s.search(1))\n",
        "print(s.sorting())"
      ]
    },
    {
      "cell_type": "code",
      "execution_count": null,
      "metadata": {
        "colab": {
          "base_uri": "https://localhost:8080/"
        },
        "id": "2rEZgSMnOIkm",
        "outputId": "71450d08-cbde-4519-af5a-acb8585624b7"
      },
      "outputs": [
        {
          "name": "stdout",
          "output_type": "stream",
          "text": [
            "['ST1E89B8A32', 0, 0, 0, 'ST1E89B8A32', 'ST1E89B8A32', 'ST1E89B8A32', 'KFAFL2656', 'ST1E89B8A32']\n"
          ]
        }
      ],
      "source": [
        "def hash(z):\n",
        "  hashT = 9*[0]\n",
        "  for j in range(len(z)):\n",
        "    a  = z[j]\n",
        "    count = 0\n",
        "    con= 0\n",
        "    idx = 0\n",
        "    for i in range(len(a)):\n",
        "      \n",
        "      if 48<= ord(a[i]) <=57:\n",
        "\n",
        "        count = count + int(a[i])\n",
        "\n",
        "      elif ord(a[i]) !=  65 and ord(a[i]) != 69 and ord(a[i]) != 73 and ord(a[i]) != 79 and ord(a[i]) != 85 :\n",
        "        con+=1\n",
        "    idx = ((con*24)+count)%9\n",
        "    if hashT[idx]==0:\n",
        "            hashT[idx] = a\n",
        "    else:\n",
        "      for i in range(1,len(hashT)):\n",
        "         idx= (idx+1)%len(hashT)\n",
        "         if hashT[idx]==0:\n",
        "            hashT[idx] = a\n",
        "            break\n",
        "  return(hashT)\n",
        "    \n",
        "\n",
        "s = [\"ST1E89B8A32\",\"KFAFL2656\",\"ST1E89B8A32\",\"ST1E89B8A32\",\"ST1E89B8A32\",\"ST1E89B8A32\"]\n",
        "z = hash(s)\n",
        "print(z)"
      ]
    },
    {
      "cell_type": "code",
      "execution_count": null,
      "metadata": {
        "id": "cNBtKAbcspEi"
      },
      "outputs": [],
      "source": []
    },
    {
      "cell_type": "code",
      "execution_count": null,
      "metadata": {
        "id": "7EcA9YsGs3uC"
      },
      "outputs": [],
      "source": []
    }
  ],
  "metadata": {
    "colab": {
      "provenance": []
    },
    "kernelspec": {
      "display_name": "Python 3",
      "language": "python",
      "name": "python3"
    },
    "language_info": {
      "codemirror_mode": {
        "name": "ipython",
        "version": 3
      },
      "file_extension": ".py",
      "mimetype": "text/x-python",
      "name": "python",
      "nbconvert_exporter": "python",
      "pygments_lexer": "ipython3",
      "version": "3.11.0 (v3.11.0:deaf509e8f, Oct 24 2022, 14:43:23) [Clang 13.0.0 (clang-1300.0.29.30)]"
    },
    "vscode": {
      "interpreter": {
        "hash": "aee8b7b246df8f9039afb4144a1f6fd8d2ca17a180786b69acc140d282b71a49"
      }
    }
  },
  "nbformat": 4,
  "nbformat_minor": 0
}
