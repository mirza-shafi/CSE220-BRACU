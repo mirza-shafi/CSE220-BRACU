{
  "cells": [
    {
      "cell_type": "markdown",
      "metadata": {
        "id": "czvBelgsp_6c"
      },
      "source": [
        "PART-01"
      ]
    },
    {
      "cell_type": "code",
      "execution_count": 1,
      "metadata": {
        "colab": {
          "base_uri": "https://localhost:8080/"
        },
        "id": "yw-YcXSrYciJ",
        "outputId": "da120867-56f5-4735-b4e2-5bf5edd62e96"
      },
      "outputs": [
        {
          "data": {
            "text/plain": [
              "[40, 50, 60, 0, 0, 0]"
            ]
          },
          "execution_count": 1,
          "metadata": {},
          "output_type": "execute_result"
        }
      ],
      "source": [
        "#task-01\n",
        "source = [10,20,30,40,50,60]\n",
        "def shift_left(source,k):\n",
        "  for i in range(len(source)-k):\n",
        "    source[i] = source[i+k]\n",
        "    source[i+k] = 0\n",
        "  return source\n",
        "shift_left(source,3)"
      ]
    },
    {
      "cell_type": "code",
      "execution_count": null,
      "metadata": {
        "colab": {
          "base_uri": "https://localhost:8080/"
        },
        "id": "HKYGksiAZQcI",
        "outputId": "9e6fa2a3-cd8f-42b0-ee0f-97fb3a7b35d5"
      },
      "outputs": [
        {
          "data": {
            "text/plain": [
              "[40, 50, 60, 10, 20, 30]"
            ]
          },
          "execution_count": 2,
          "metadata": {},
          "output_type": "execute_result"
        }
      ],
      "source": [
        "#task-02\n",
        "source = [10,20,30,40,50,60]\n",
        "def shift_left(source,k):\n",
        "  for i in range(len(source)-k):\n",
        "    source[i],source[i+k] = source[i+k],source[i]   \n",
        "  return source\n",
        "shift_left(source,3)"
      ]
    },
    {
      "cell_type": "code",
      "execution_count": null,
      "metadata": {
        "colab": {
          "base_uri": "https://localhost:8080/"
        },
        "id": "aM8kVeOjbUjX",
        "outputId": "06562d84-c8ac-4071-e520-b54103731d1a"
      },
      "outputs": [
        {
          "data": {
            "text/plain": [
              "[0, 0, 0, 10, 20, 30]"
            ]
          },
          "execution_count": 3,
          "metadata": {},
          "output_type": "execute_result"
        }
      ],
      "source": [
        "#task-03\n",
        "source = [10,20,30,40,50,60]\n",
        "def shift_right(source,k):\n",
        "  new_arr = [0]*len(source)\n",
        "  for i in range(len(source)-k):\n",
        "    new_arr[i+k] = source[i]\n",
        "  return new_arr\n",
        "shift_right(source,3)"
      ]
    },
    {
      "cell_type": "code",
      "execution_count": null,
      "metadata": {
        "colab": {
          "base_uri": "https://localhost:8080/"
        },
        "id": "bwSjOnqEbe9P",
        "outputId": "91f4820d-9f0b-4167-d785-abcd9951e4a0"
      },
      "outputs": [
        {
          "data": {
            "text/plain": [
              "[40, 50, 60, 10, 20, 30]"
            ]
          },
          "execution_count": 4,
          "metadata": {},
          "output_type": "execute_result"
        }
      ],
      "source": [
        "#task-04\n",
        "source = [10,20,30,40,50,60]\n",
        "def shift_right(source,k):\n",
        "  new_arr = [0]*len(source)\n",
        "  for i in range(len(source)-k):\n",
        "    new_arr[i+k],new_arr[i] = source[i],source[i+k]\n",
        "  return new_arr\n",
        "shift_right(source,3)"
      ]
    },
    {
      "cell_type": "code",
      "execution_count": null,
      "metadata": {
        "colab": {
          "base_uri": "https://localhost:8080/"
        },
        "id": "3gWU_nCwbtzg",
        "outputId": "28c0006d-e40f-4762-b06c-7fef21096a97"
      },
      "outputs": [
        {
          "data": {
            "text/plain": [
              "[10, 20, 30, 50, 0, 0, 0]"
            ]
          },
          "execution_count": 6,
          "metadata": {},
          "output_type": "execute_result"
        }
      ],
      "source": [
        "#task-05\n",
        "source=[10,20,30,40,50,0,0]\n",
        "def remove(source,idx):\n",
        "  for i in range(idx+1,len(source)):  \n",
        "    source[i-1] = source[i]\n",
        "    source[i] = 0   \n",
        "  return source\n",
        "remove(source,3)"
      ]
    },
    {
      "cell_type": "code",
      "execution_count": null,
      "metadata": {
        "id": "LNam-iGYb__1"
      },
      "outputs": [],
      "source": [
        "#task-06\n",
        "source=[10,2,30,2,50,2,2,0,0]\n",
        "def remove_all(source,element):\n",
        "    k = 0\n",
        "    for i in range(len(source)):\n",
        "        if source[i] == element:\n",
        "            source[i] = 0\n",
        "            k+=1\n",
        "        else:\n",
        "            if i == 0:\n",
        "                source[0] = source[0]\n",
        "            else:\n",
        "                source[i-k] = source[i]\n",
        "    return source\n",
        "remove_all(source,2)"
      ]
    },
    {
      "cell_type": "code",
      "execution_count": 2,
      "metadata": {},
      "outputs": [
        {
          "data": {
            "text/plain": [
              "True"
            ]
          },
          "execution_count": 2,
          "metadata": {},
          "output_type": "execute_result"
        }
      ],
      "source": [
        "#task-07\n",
        "def split_array(a):\n",
        "    for i in range(1,len(a)):\n",
        "        sum1 = 0 \n",
        "        sum2 = 0\n",
        "        for j in range(0, i):\n",
        "            sum1 += a[j]\n",
        "        for k in range(i, len(a)):\n",
        "            sum2 += a[k]\n",
        "\n",
        "        if sum1 == sum2:\n",
        "            return True\n",
        "    return False\n",
        "\n",
        "test_1 = [1, 1, 1, 2, 1]\n",
        "split_array(test_1)"
      ]
    },
    {
      "cell_type": "code",
      "execution_count": null,
      "metadata": {
        "colab": {
          "base_uri": "https://localhost:8080/"
        },
        "id": "kyQ-STB-mpGF",
        "outputId": "d1da3a21-5c8d-4a50-cb12-cd53f78bfaa0"
      },
      "outputs": [
        {
          "data": {
            "text/plain": [
              "True"
            ]
          },
          "execution_count": 7,
          "metadata": {},
          "output_type": "execute_result"
        }
      ],
      "source": [
        "#task-07\n",
        "def balance_beam(input):\n",
        "    n = len(input)\n",
        "    for i in range(1, n):\n",
        "        if sum(input[:i]) == sum(input[i:]):\n",
        "            return True\n",
        "    return False\n",
        "input = [1, 1, 1, 2, 1]\n",
        "balance_beam(input)"
      ]
    },
    {
      "cell_type": "code",
      "execution_count": null,
      "metadata": {
        "colab": {
          "base_uri": "https://localhost:8080/"
        },
        "id": "Ixw6TmVap6hV",
        "outputId": "d9000451-df21-4e33-deeb-28b553874a17"
      },
      "outputs": [
        {
          "data": {
            "text/plain": [
              "4"
            ]
          },
          "execution_count": 8,
          "metadata": {},
          "output_type": "execute_result"
        }
      ],
      "source": [
        "#task-08\n",
        "def largest_bunch(arr):\n",
        "    n = len(arr)\n",
        "    max_bunch = 0\n",
        "    current_bunch = 1\n",
        "    for i in range(1, n):\n",
        "        if arr[i] == arr[i-1]:\n",
        "            current_bunch += 1\n",
        "        else:\n",
        "            max_bunch = max(max_bunch, current_bunch)\n",
        "            current_bunch = 1\n",
        "    return max(max_bunch, current_bunch)\n",
        "arr = [1,1,2, 2, 1, 1,1,1]\n",
        "largest_bunch(arr)"
      ]
    },
    {
      "cell_type": "markdown",
      "metadata": {
        "id": "lu2HuTVbqTuS"
      },
      "source": [
        "PART-02"
      ]
    },
    {
      "cell_type": "code",
      "execution_count": null,
      "metadata": {
        "colab": {
          "base_uri": "https://localhost:8080/"
        },
        "id": "MvILlwvaqXoU",
        "outputId": "b48a304f-fbe6-4d79-fe01-57c90d74d50e"
      },
      "outputs": [
        {
          "name": "stdout",
          "output_type": "stream",
          "text": [
            "Mean: 10.181818181818182\n"
          ]
        }
      ],
      "source": [
        "#task-01\n",
        "import numpy as np\n",
        "\n",
        "def find_deviation(numbers):\n",
        "    mean = np.mean(numbers)\n",
        "    return mean\n",
        "\n",
        "numbers = [10, 8, 13, 9, 14, 25, -5, 20, 7, 7, 4]\n",
        "mean = find_deviation(numbers)\n",
        "print(\"Mean:\", mean)\n"
      ]
    },
    {
      "cell_type": "code",
      "execution_count": null,
      "metadata": {
        "colab": {
          "base_uri": "https://localhost:8080/"
        },
        "id": "k_deyyL2r4H3",
        "outputId": "04f28973-6f55-4933-bb21-37a8c34c7215"
      },
      "outputs": [
        {
          "name": "stdout",
          "output_type": "stream",
          "text": [
            "Standard Deviation: 7.960127911260996\n"
          ]
        }
      ],
      "source": [
        "#task-02\n",
        "import numpy as np\n",
        "\n",
        "def find_deviation(numbers):\n",
        "    std = np.std(numbers, ddof=1)\n",
        "    return  std\n",
        "\n",
        "numbers = [10, 8, 13, 9, 14, 25, -5, 20, 7, 7, 4]\n",
        "std = find_deviation(numbers)\n",
        "print(\"Standard Deviation:\", std)"
      ]
    },
    {
      "cell_type": "code",
      "execution_count": null,
      "metadata": {
        "colab": {
          "base_uri": "https://localhost:8080/"
        },
        "id": "6KxTrXy4r4_Q",
        "outputId": "7576ca64-68d2-4b7a-e817-4b15064c77e5"
      },
      "outputs": [
        {
          "name": "stdout",
          "output_type": "stream",
          "text": [
            "New Array: [25, -5]\n"
          ]
        }
      ],
      "source": [
        "#task-03\n",
        "import numpy as np\n",
        "\n",
        "def find_deviation(numbers):\n",
        "    new_array = [x for x in numbers if abs(x - mean) >= 1.5 * std]\n",
        "    return new_array\n",
        "numbers = [10, 8, 13, 9, 14, 25, -5, 20, 7, 7, 4]\n",
        "new_array = find_deviation(numbers)\n",
        "print(\"New Array:\", new_array)"
      ]
    },
    {
      "cell_type": "code",
      "execution_count": null,
      "metadata": {},
      "outputs": [],
      "source": []
    }
  ],
  "metadata": {
    "colab": {
      "provenance": []
    },
    "kernelspec": {
      "display_name": "Python 3",
      "language": "python",
      "name": "python3"
    },
    "language_info": {
      "codemirror_mode": {
        "name": "ipython",
        "version": 3
      },
      "file_extension": ".py",
      "mimetype": "text/x-python",
      "name": "python",
      "nbconvert_exporter": "python",
      "pygments_lexer": "ipython3",
      "version": "3.11.0 (v3.11.0:deaf509e8f, Oct 24 2022, 14:43:23) [Clang 13.0.0 (clang-1300.0.29.30)]"
    },
    "vscode": {
      "interpreter": {
        "hash": "aee8b7b246df8f9039afb4144a1f6fd8d2ca17a180786b69acc140d282b71a49"
      }
    }
  },
  "nbformat": 4,
  "nbformat_minor": 0
}
