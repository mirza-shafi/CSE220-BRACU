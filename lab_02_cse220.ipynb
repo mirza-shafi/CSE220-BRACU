{
 "cells": [
  {
   "cell_type": "code",
   "execution_count": 1,
   "metadata": {},
   "outputs": [
    {
     "name": "stdout",
     "output_type": "stream",
     "text": [
      "Your input is valid. Press any key and then prews enter to continue!!!\n",
      "Top row start index: 4\n",
      "Top row start character: U\n",
      "Bottom row start index: 4\n",
      "Bottom row start character: U\n",
      "Press any key and then press enter to ocntinue!!!\n",
      "University\n",
      "ytisrevinU\n",
      "Press any key and then press enter to ocntinue!!!\n"
     ]
    }
   ],
   "source": [
    "def billobard(s1,s2):\n",
    "  if len(s1)>10 or len(s2)>10:\n",
    "    print(\"Invaild input size\")\n",
    "  else:\n",
    "    print(\"Your input is valid. Press any key and then prews enter to continue!!!\")\n",
    "    a = [[None]*10,[None]*10]\n",
    "    for i in range(len(s1)):\n",
    "      if 'A'<=s1[i]<='Z':\n",
    "        n = i\n",
    "        print(\"Top row start index:\", n)\n",
    "        print(\"Top row start character:\", s1[n])\n",
    "      a[0][i] = s1[i]\n",
    "    for j in range(len(s2)):\n",
    "      if \"A\"<s2[j]<\"Z\":\n",
    "        m = j\n",
    "        print(\"Bottom row start index:\", m)\n",
    "        print(\"Bottom row start character:\", s2[m])\n",
    "      a[1][j] = s1[j]\n",
    "    while True:\n",
    "      print(\"Press any key and then press enter to ocntinue!!!\")\n",
    "      int = input()\n",
    "      if int == \"Q\" or int ==\"q\":\n",
    "        break\n",
    "      point1 = n\n",
    "      for i in range(len(a[0])):\n",
    "        print(a[0][point1%len(a[0])],end = '')\n",
    "        point1+=1\n",
    "      n+=1\n",
    "      print()\n",
    "      point2 = m\n",
    "      x = (point2+10-1)%10\n",
    "      for k in range(len(a[1])):\n",
    "          print(f\"{a[1][x]}\",end = '')\n",
    "          x = (x-1)%10\n",
    "      print()\n",
    "      \n",
    "          \n",
    "s1 = input()\n",
    "s2 = input()\n",
    "billobard(s1,s2)"
   ]
  }
 ],
 "metadata": {
  "kernelspec": {
   "display_name": "Python 3",
   "language": "python",
   "name": "python3"
  },
  "language_info": {
   "codemirror_mode": {
    "name": "ipython",
    "version": 3
   },
   "file_extension": ".py",
   "mimetype": "text/x-python",
   "name": "python",
   "nbconvert_exporter": "python",
   "pygments_lexer": "ipython3",
   "version": "3.11.0 (v3.11.0:deaf509e8f, Oct 24 2022, 14:43:23) [Clang 13.0.0 (clang-1300.0.29.30)]"
  },
  "orig_nbformat": 4,
  "vscode": {
   "interpreter": {
    "hash": "aee8b7b246df8f9039afb4144a1f6fd8d2ca17a180786b69acc140d282b71a49"
   }
  }
 },
 "nbformat": 4,
 "nbformat_minor": 2
}
