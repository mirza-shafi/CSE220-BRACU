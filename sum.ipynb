{
 "cells": [
  {
   "cell_type": "code",
   "execution_count": 24,
   "metadata": {},
   "outputs": [
    {
     "data": {
      "text/plain": [
       "6"
      ]
     },
     "execution_count": 24,
     "metadata": {},
     "output_type": "execute_result"
    }
   ],
   "source": [
    "class Node:\n",
    "    def __init__(self,elem,next):\n",
    "        self.elem = elem\n",
    "        self.next = next\n",
    "class linkedlist:\n",
    "    def __init__(self,a):\n",
    "        self.head = Node(a[0],None)\n",
    "        temp = self.head\n",
    "        for i in range(1,len(a)):\n",
    "            n = Node(a[i],None)\n",
    "            temp.next = n\n",
    "            temp = temp.next\n",
    "            \n",
    "    def count(self):\n",
    "        temp = self.head\n",
    "        count = 0\n",
    "        while temp != None:\n",
    "            count+=1\n",
    "            temp = temp.next\n",
    "        return count\n",
    "    def lengg(self,head = None):\n",
    "        suma = 0\n",
    "        if not self.head:\n",
    "            return 0\n",
    "        else:\n",
    "            suma+=int(self.head.elem)\n",
    "            # print(self.head.elem)\n",
    "        self.head = self.head.next\n",
    "        print(suma)\n",
    "        return 1 + self.lengg(self.head)\n",
    "    # def sum1(self,head = None):\n",
    "    #     if not self.head:\n",
    "    #       return 3\n",
    "    #     self.head = self.head.next\n",
    "    #     return (self.head.elem) + self.sum1(self.head)\n",
    "    # def shit(self,head = None):\n",
    "    #     if not self.head:\n",
    "    #         return 0\n",
    "    #     else:\n",
    "    #         self.head = self.head.next\n",
    "    #     return int(self.head.elem) + self.shit(self.head)\n",
    "    def leng(self,head = None):\n",
    "        if self.head == None:\n",
    "            return 0\n",
    "        k = int(self.head.elem)\n",
    "        self.head = self.head.next\n",
    "        return k + self.leng(self.head)\n",
    "        \n",
    "h = linkedlist(input()) \n",
    "# h.count()  \n",
    "# h.lengg(h)\n",
    "# h.shit(h)\n",
    "h.leng(h)\n"
   ]
  },
  {
   "cell_type": "code",
   "execution_count": null,
   "metadata": {},
   "outputs": [],
   "source": []
  }
 ],
 "metadata": {
  "kernelspec": {
   "display_name": "Python 3",
   "language": "python",
   "name": "python3"
  },
  "language_info": {
   "codemirror_mode": {
    "name": "ipython",
    "version": 3
   },
   "file_extension": ".py",
   "mimetype": "text/x-python",
   "name": "python",
   "nbconvert_exporter": "python",
   "pygments_lexer": "ipython3",
   "version": "3.11.0 (v3.11.0:deaf509e8f, Oct 24 2022, 14:43:23) [Clang 13.0.0 (clang-1300.0.29.30)]"
  },
  "orig_nbformat": 4,
  "vscode": {
   "interpreter": {
    "hash": "aee8b7b246df8f9039afb4144a1f6fd8d2ca17a180786b69acc140d282b71a49"
   }
  }
 },
 "nbformat": 4,
 "nbformat_minor": 2
}
