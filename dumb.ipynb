{
 "cells": [
  {
   "cell_type": "code",
   "execution_count": 2,
   "metadata": {},
   "outputs": [
    {
     "name": "stdout",
     "output_type": "stream",
     "text": [
      "Array: [100, -90, 75, -10]\n",
      "True\n",
      "[None, None, 'ST1E89B8A21', 'ST1E89B8A22', 'ST1E89B8A32', None]\n"
     ]
    }
   ],
   "source": [
    "#Task01\n",
    "class Key_index:\n",
    "  def __init__(self,arr):\n",
    "    self.min=arr[0]\n",
    "    max=arr[0]\n",
    "    \n",
    "    for x in arr:\n",
    "      if(x<self.min):\n",
    "        self.min=x\n",
    "      if(x>max):\n",
    "        max=x\n",
    "      \n",
    "       \n",
    "    if(self.min<0) :\n",
    "      for y in range(len(arr)):\n",
    "        arr[y]=arr[y]+ (self.min* -1)\n",
    "      self.save=[0]* (max+ (self.min*-1)+1)\n",
    "    \n",
    "    else:\n",
    "      self.save=[0]* (max+1)\n",
    "    for j in arr:\n",
    "      self.save[j]=self.save[j]+1\n",
    " \n",
    "\n",
    "#---------------------------\n",
    "  def search_val(self,val):\n",
    "      if(self.min<0 ):\n",
    "        if(val>=self.min and val<=(len(self.save)-(self.min*-1))):\n",
    "          if (len(self.save)<=(val+(self.min*-1))):\n",
    "            return False\n",
    "          \n",
    "          else:\n",
    "            if(self.save[val+(self.min*-1)]==0):\n",
    "              return False\n",
    "            else:\n",
    "              return True \n",
    "        else:\n",
    "          return False   \n",
    "      else:\n",
    "        \n",
    "        if(self.save[val]!=0):\n",
    "          return True\n",
    "        else:\n",
    "          return False     \n",
    "\n",
    "#---------------------------\n",
    "  def sort_arr(self):\n",
    "    arr_size=0\n",
    "    for k in self.save:\n",
    "      if(k!=0):\n",
    "        arr_size=arr_size+k\n",
    "      else:\n",
    "        continue\n",
    "    store=[0]*arr_size\n",
    "    temp=0 \n",
    "    \n",
    "    if(self.min>=0) :   \n",
    "      \n",
    "      for z in range(len(self.save)) :\n",
    "        if(self.save [z]!=0):\n",
    "          for x in range(self.save[z]) :\n",
    "            store[temp]=z\n",
    "            temp=temp+1\n",
    "        else:\n",
    "          continue  \n",
    "    \n",
    "    elif(self.min<0) :\n",
    "      \n",
    "      for k in range(len(self.save)):\n",
    "        if(self.save[k]!=0):\n",
    "          \n",
    "          for x in range(self.save[k]):\n",
    "            store[temp] =k-(self.min*-1)\n",
    "            temp=temp+1\n",
    "        \n",
    "        else:\n",
    "          continue\n",
    "    return store           \n",
    "\n",
    "#---------------------------\n",
    "array=[100,-90,75,-10]\n",
    "print('Array:', array)\n",
    "flag=Key_index(array)\n",
    "print(flag.search_val(-90))\n",
    "flag.sort_arr()"
   ]
  },
  {
   "cell_type": "code",
   "execution_count": 1,
   "metadata": {},
   "outputs": [
    {
     "name": "stdout",
     "output_type": "stream",
     "text": [
      "[None, None, 'ST1E89B8A21', 'ST1E89B8A22', 'ST1E89B8A32', None]\n"
     ]
    }
   ],
   "source": [
    "class hash_table:\n",
    "  def __init__(self,arr):\n",
    "    self.array=[None]*6\n",
    "    \n",
    "    for j in arr:\n",
    "      save=0\n",
    "      x=0\n",
    "      \n",
    "      for a in j:\n",
    "        if(a<=\"Z\" and a>=\"A\"):\n",
    "          if(a!=\"A\"and a!=\"E\" and a!=\"I\" and a!=\"O\" and a!=\"U\"):\n",
    "            save=save+1\n",
    "        if(a<=\"9\" and a>=\"0\" ):\n",
    "          x= x+int(a)\n",
    "      store_val=((save*24 )+x)%9 \n",
    "      \n",
    "      if(self.array[store_val]==None):\n",
    "        self.array[store_val]=j\n",
    "      \n",
    "      \n",
    "      else:\n",
    "        while(self.array[store_val]!=None):\n",
    "          store_val=(store_val+1)% len(self.array)\n",
    "        \n",
    "        self.array[store_val]=j  \n",
    "    print(self.array)\n",
    "\n",
    "#----------------------------------------\n",
    "array=['ST1E89B8A32','ST1E89B8A22','ST1E89B8A21' ]\n",
    "h=hash_table(array)"
   ]
  },
  {
   "cell_type": "code",
   "execution_count": null,
   "metadata": {},
   "outputs": [],
   "source": []
  }
 ],
 "metadata": {
  "kernelspec": {
   "display_name": "Python 3",
   "language": "python",
   "name": "python3"
  },
  "language_info": {
   "codemirror_mode": {
    "name": "ipython",
    "version": 3
   },
   "file_extension": ".py",
   "mimetype": "text/x-python",
   "name": "python",
   "nbconvert_exporter": "python",
   "pygments_lexer": "ipython3",
   "version": "3.11.0"
  },
  "orig_nbformat": 4,
  "vscode": {
   "interpreter": {
    "hash": "aee8b7b246df8f9039afb4144a1f6fd8d2ca17a180786b69acc140d282b71a49"
   }
  }
 },
 "nbformat": 4,
 "nbformat_minor": 2
}
