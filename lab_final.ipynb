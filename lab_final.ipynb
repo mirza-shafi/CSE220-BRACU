{
 "cells": [
  {
   "attachments": {},
   "cell_type": "markdown",
   "metadata": {},
   "source": [
    "                               "
   ]
  },
  {
   "cell_type": "code",
   "execution_count": 1,
   "metadata": {},
   "outputs": [
    {
     "name": "stdout",
     "output_type": "stream",
     "text": [
      "[None, None, None, None, None]\n"
     ]
    }
   ],
   "source": [
    "#1\n",
    "arr = [None]*5\n",
    "print(arr)"
   ]
  },
  {
   "cell_type": "code",
   "execution_count": 2,
   "metadata": {},
   "outputs": [
    {
     "name": "stdout",
     "output_type": "stream",
     "text": [
      "[1, 2, 3, 5, 6, 3]\n"
     ]
    }
   ],
   "source": [
    "#copy\n",
    "a = [1,2,3,5,6,3]\n",
    "arr = [0]*len(a)\n",
    "for i in range(len(a)):\n",
    "    arr[i] = a[i]\n",
    "print(arr)"
   ]
  },
  {
   "cell_type": "code",
   "execution_count": 5,
   "metadata": {},
   "outputs": [
    {
     "data": {
      "text/plain": [
       "[3, 41, 4, 5, 0, 0, 0, 0]"
      ]
     },
     "execution_count": 5,
     "metadata": {},
     "output_type": "execute_result"
    }
   ],
   "source": [
    "#3 resizing\n",
    "def resizing(arr):\n",
    "    new_arr = [0]*len(arr)*2\n",
    "    if len(arr)<len(new_arr):\n",
    "        for i in range(len(arr)):\n",
    "            new_arr[i] = arr[i]\n",
    "    return new_arr\n",
    "arr = [3,41,4,5]\n",
    "resizing(arr)"
   ]
  },
  {
   "cell_type": "code",
   "execution_count": 10,
   "metadata": {},
   "outputs": [
    {
     "data": {
      "text/plain": [
       "[8, 7, 6, 5, 3, 2, 1]"
      ]
     },
     "execution_count": 10,
     "metadata": {},
     "output_type": "execute_result"
    }
   ],
   "source": [
    "#4 reversing\n",
    "def reverse(arr):\n",
    "    i = 0\n",
    "    j = len(arr)-1\n",
    "    while i<j:\n",
    "        arr[i],arr[j] = arr[j],arr[i]\n",
    "        i+=1\n",
    "        j-=1\n",
    "    return arr\n",
    "arr = [1,2,3,5,6,7,8]\n",
    "reverse(arr)"
   ]
  },
  {
   "cell_type": "code",
   "execution_count": 12,
   "metadata": {},
   "outputs": [
    {
     "data": {
      "text/plain": [
       "[None, 1, 2, 3, 4, 5]"
      ]
     },
     "execution_count": 12,
     "metadata": {},
     "output_type": "execute_result"
    }
   ],
   "source": [
    "#shifting\n",
    "def rightshifting(arrr):\n",
    "    for i in range(len(arrr)-1,-1,-1):\n",
    "        arrr[i] = arrr[i-1]\n",
    "    arrr[0] = None\n",
    "    return arrr\n",
    "arrr = [1,2,3,4,5,6]\n",
    "rightshifting(arrr)"
   ]
  },
  {
   "cell_type": "code",
   "execution_count": 14,
   "metadata": {},
   "outputs": [
    {
     "data": {
      "text/plain": [
       "[2, 3, 4, 5, 7, 8, None]"
      ]
     },
     "execution_count": 14,
     "metadata": {},
     "output_type": "execute_result"
    }
   ],
   "source": [
    "#leftshifting\n",
    "def leftshifting(ar):\n",
    "    for i in range(len(arr)-1):\n",
    "        ar[i] = ar[i+1]\n",
    "    ar[len(ar)-1] = None\n",
    "    return ar\n",
    "ar = [1,2,3,4,5,7,8,]\n",
    "\n",
    "\n",
    "leftshifting(ar)\n"
   ]
  },
  {
   "cell_type": "code",
   "execution_count": 15,
   "metadata": {},
   "outputs": [
    {
     "name": "stdout",
     "output_type": "stream",
     "text": [
      "1 2 3 4 5 6 "
     ]
    }
   ],
   "source": [
    "#Forward iteration\n",
    "def forward(arr,st,size):\n",
    "    k = st\n",
    "    for i in range(size):\n",
    "        print(arr[k], end = ' ')\n",
    "        k = (k+1)%len(arr)\n",
    "arr = [4,5,6,1,2,3]\n",
    "forward(arr,3,6)"
   ]
  },
  {
   "cell_type": "code",
   "execution_count": 17,
   "metadata": {},
   "outputs": [
    {
     "name": "stdout",
     "output_type": "stream",
     "text": [
      "8 7 6 5 4 3 2 1 "
     ]
    }
   ],
   "source": [
    "#backward \n",
    "def backward(arr,st,size):\n",
    "    k = ((st+size)-1)%len(arr)\n",
    "    for i in range(size):\n",
    "        print(arr[k],end = ' ')\n",
    "        k = (k-1)%len(arr)\n",
    "arr = [4,5,6,7,8,1,2,3]\n",
    "backward(arr,5,8)"
   ]
  },
  {
   "cell_type": "code",
   "execution_count": null,
   "metadata": {},
   "outputs": [],
   "source": [
    "#node class design\n",
    "class Node:\n",
    "    def __init__(self,e,n):\n",
    "        self.e = e\n",
    "        self.next = n\n",
    "    def creatlist(a):\n",
    "        head = Node(a[i],None)\n",
    "        temp = head\n",
    "        for i in range(1,len(a)):\n",
    "            n = Node(a[i],None)\n",
    "            temp.next = n\n",
    "            temp = temp.next\n",
    "        return head\n",
    "    def iteration(head):\n",
    "        temp = head\n",
    "        while temp!=None:\n",
    "            print(temp.e)\n",
    "            temp = temp.next\n",
    "    \n",
    "    def counting(head):\n",
    "        temp = head\n",
    "        count = 0\n",
    "        while temp!=None:\n",
    "            count+=1\n",
    "            temp = temp.next\n",
    "        return count\n",
    "    \n",
    "    def elemat(head,idx):\n",
    "        temp = head\n",
    "        count = 0\n",
    "        while temp!=None:\n",
    "            if count == idx:\n",
    "                obj = temp.e\n",
    "                break\n",
    "            temp = temp.next\n",
    "            count+=1\n",
    "        if obj == None:\n",
    "            print(\"invailid index\")\n",
    "        return obj\n",
    "    \n",
    "    def set(head,idx,elem):\n",
    "        temp = head\n",
    "        count = 0\n",
    "        isupdated = False\n",
    "        while temp!=None:\n",
    "            if count == idx:\n",
    "                temp.elem = elem\n",
    "                isupdated = True\n",
    "                break\n",
    "            temp = temp.next\n",
    "            count+=1\n",
    "            if isupdated:\n",
    "                print(\"value succesfully updatd\")  \n",
    "            else:\n",
    "                print(\"invalid index\")\n",
    "\n",
    "                \n",
    "                \n",
    "    def search(head,elem):\n",
    "        temp = head\n",
    "        count = 0\n",
    "        while temp!= None:\n",
    "            if temp.elem == elem:\n",
    "                return count\n",
    "            temp = temp.next\n",
    "            count+=1\n",
    "        return -1\n",
    "             \n",
    "                \n",
    "                "
   ]
  }
 ],
 "metadata": {
  "kernelspec": {
   "display_name": "Python 3",
   "language": "python",
   "name": "python3"
  },
  "language_info": {
   "codemirror_mode": {
    "name": "ipython",
    "version": 3
   },
   "file_extension": ".py",
   "mimetype": "text/x-python",
   "name": "python",
   "nbconvert_exporter": "python",
   "pygments_lexer": "ipython3",
   "version": "3.11.0 (v3.11.0:deaf509e8f, Oct 24 2022, 14:43:23) [Clang 13.0.0 (clang-1300.0.29.30)]"
  },
  "orig_nbformat": 4,
  "vscode": {
   "interpreter": {
    "hash": "aee8b7b246df8f9039afb4144a1f6fd8d2ca17a180786b69acc140d282b71a49"
   }
  }
 },
 "nbformat": 4,
 "nbformat_minor": 2
}
