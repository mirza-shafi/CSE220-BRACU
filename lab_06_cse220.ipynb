{
 "cells": [
  {
   "cell_type": "code",
   "execution_count": 4,
   "metadata": {},
   "outputs": [
    {
     "name": "stdout",
     "output_type": "stream",
     "text": [
      "6\n"
     ]
    }
   ],
   "source": [
    "#task-01(a)\n",
    "def fact(n):\n",
    "    if (n==0 or n==1):\n",
    "        return n\n",
    "    else: \n",
    "        return n*fact(n-1)\n",
    "print(fact(int(input(\"Enter your nubmer: \"))))"
   ]
  },
  {
   "cell_type": "code",
   "execution_count": 3,
   "metadata": {},
   "outputs": [
    {
     "name": "stdout",
     "output_type": "stream",
     "text": [
      "0 1 1 "
     ]
    }
   ],
   "source": [
    "#task-01(b)\n",
    "def fib(n):\n",
    "    if (n < 2):\n",
    "        return n\n",
    "    else: \n",
    "        return fib(n-1)+fib(n-2)\n",
    "for i in range(int(input(\"Enter your number: \"))):\n",
    "    print(fib(i), end = ' ')"
   ]
  },
  {
   "cell_type": "code",
   "execution_count": 7,
   "metadata": {},
   "outputs": [
    {
     "name": "stdout",
     "output_type": "stream",
     "text": [
      "10 20 30 40 50 "
     ]
    }
   ],
   "source": [
    "def p(a,i):\n",
    "    if i == len(a):\n",
    "        return \n",
    "    print(a[i], end = ' ')\n",
    "    return p(a,i+1)\n",
    "a=[10,20,30,40,50]\n",
    "p(a,0)"
   ]
  },
  {
   "cell_type": "code",
   "execution_count": 5,
   "metadata": {},
   "outputs": [
    {
     "name": "stdout",
     "output_type": "stream",
     "text": [
      "10\n",
      "20\n",
      "30\n",
      "40\n",
      "50\n"
     ]
    }
   ],
   "source": [
    "#task-01(c)\n",
    "def printElement(a,i):\n",
    "  if (i==len(a)):\n",
    "    return\n",
    "  else:\n",
    "    print(a[i])\n",
    "    return printElement(a,i+1)\n",
    "a=[10,20,30,40,50]\n",
    "printElement(a,0)\n"
   ]
  },
  {
   "cell_type": "code",
   "execution_count": 8,
   "metadata": {},
   "outputs": [
    {
     "name": "stdout",
     "output_type": "stream",
     "text": [
      "3\n",
      "9\n",
      "8\n"
     ]
    }
   ],
   "source": [
    "#task-01(d)\n",
    "def powerN(base, n):\n",
    "    if (n==1):\n",
    "        return base\n",
    "    else:\n",
    "        return base*powerN(base,n-1)\n",
    "print(powerN(3,1))\n",
    "print(powerN(3, 2)) \n",
    "print(powerN(2, 3)) "
   ]
  },
  {
   "cell_type": "code",
   "execution_count": 9,
   "metadata": {},
   "outputs": [
    {
     "name": "stdout",
     "output_type": "stream",
     "text": [
      "111\n"
     ]
    }
   ],
   "source": [
    "#task-02(a)\n",
    "def dToB(dec):\n",
    "  if dec==0:\n",
    "    return \"\"\n",
    "  else:\n",
    "    r=dec%2\n",
    "    return dToB(dec//2)+ str(r)\n",
    "print(dToB(7))"
   ]
  },
  {
   "cell_type": "code",
   "execution_count": 11,
   "metadata": {},
   "outputs": [
    {
     "name": "stdout",
     "output_type": "stream",
     "text": [
      "33\n"
     ]
    }
   ],
   "source": [
    "#task-02(b)\n",
    "class SNode:\n",
    "    def __init__(self,data, next= None):\n",
    "        self.next = next\n",
    "        self.data = data\n",
    "n1 = SNode(1)\n",
    "n2 = SNode(2)\n",
    "n3 = SNode(20)\n",
    "n4 = SNode(10)\n",
    "n1.next = n2\n",
    "n2.next = n3\n",
    "n3.next = n4\n",
    "def recur_sum(head):\n",
    "    if head == None:\n",
    "        return 0\n",
    "    else:\n",
    "        return head.data + recur_sum(head.next)\n",
    "\n",
    "print(recur_sum(n1))"
   ]
  },
  {
   "cell_type": "code",
   "execution_count": 12,
   "metadata": {},
   "outputs": [
    {
     "name": "stdout",
     "output_type": "stream",
     "text": [
      "10\n",
      "20\n",
      "2\n",
      "1\n"
     ]
    }
   ],
   "source": [
    "#task-02(c)\n",
    "def reverse(head):\n",
    "    if head == None:\n",
    "        return 0\n",
    "    else:\n",
    "        reverse(head.next)\n",
    "        print(head.data)\n",
    "\n",
    "reverse(n1)"
   ]
  },
  {
   "cell_type": "code",
   "execution_count": 15,
   "metadata": {},
   "outputs": [
    {
     "name": "stdout",
     "output_type": "stream",
     "text": [
      "18\n"
     ]
    }
   ],
   "source": [
    "#task-03\n",
    "def hocBuilder(height):\n",
    "    if (height<1):\n",
    "        return 0\n",
    "    elif (height==1):\n",
    "        return 8\n",
    "    else:\n",
    "        return 5 + hocBuilder(height - 1)\n",
    "\n",
    "print(hocBuilder(int(input(\"Enter number: \"))))"
   ]
  },
  {
   "cell_type": "code",
   "execution_count": 13,
   "metadata": {},
   "outputs": [
    {
     "name": "stdout",
     "output_type": "stream",
     "text": [
      "1 \n",
      "1 2 \n",
      "1 2 3 \n",
      "1 2 3 4 \n"
     ]
    }
   ],
   "source": [
    "#task-04(a)\n",
    "def pr_seq(n):\n",
    "    if n == 0:\n",
    "        return \n",
    "    else:\n",
    "        pr_seq(n-1)\n",
    "        print(n, end=' ')\n",
    "\n",
    "def shape_one(t):\n",
    "    if t == 0:\n",
    "        return \n",
    "    else:\n",
    "        shape_one(t-1)\n",
    "        pr_seq(t)\n",
    "    print()\n",
    "    \n",
    "shape_one(int(input(\"Enter number: \")))"
   ]
  },
  {
   "cell_type": "code",
   "execution_count": 14,
   "metadata": {},
   "outputs": [
    {
     "name": "stdout",
     "output_type": "stream",
     "text": [
      "      1 \n",
      "    1 2 \n",
      "  1 2 3 \n",
      "1 2 3 4 \n"
     ]
    }
   ],
   "source": [
    "#task-04(b)\n",
    "def print_space(n):\n",
    "    if n == 0:\n",
    "        return\n",
    "    else:\n",
    "        print_space(n-1)\n",
    "        print(\"  \",end='')\n",
    "\n",
    "def print_seq(n):\n",
    "    if n == 0:\n",
    "        return \n",
    "    else:\n",
    "        print_seq(n-1)\n",
    "        print(n, end=' ')\n",
    "\n",
    "def shape_two(t, count = 0):\n",
    "    if t == 0:\n",
    "        return \n",
    "    else:\n",
    "        shape_two(t-1, count+1)\n",
    "        print_space(count)\n",
    "        print_seq(t)\n",
    "        print()       \n",
    "shape_two(int(input(\"Enter number: \")))"
   ]
  },
  {
   "cell_type": "code",
   "execution_count": 18,
   "metadata": {},
   "outputs": [
    {
     "name": "stdout",
     "output_type": "stream",
     "text": [
      "1. Investent: 25000; Profit: 0.0\n",
      "2. Investent: 100000; Profit: 3375.0\n",
      "3. Investent: 250000; Profit: 15375.0\n",
      "4. Investent: 350000; Profit: 23375.0\n"
     ]
    }
   ],
   "source": [
    "#task-05\n",
    "class FinalQ: \n",
    "\n",
    "    def print(self,array,idx): \n",
    "        if(idx<len(array)): \n",
    "            profit = self.calcProfit(array[idx]) \n",
    "            #TO DO \n",
    "            print(f\"{idx+1}. Investent: {array[idx]}; Profit: {profit}\")\n",
    "            self.print(array, idx+1)\n",
    "\n",
    "    def calcProfit(self,investment): \n",
    "        if (investment <= 25000):\n",
    "            return 0.0\n",
    "        elif (investment > 25000 and investment <= 100000):\n",
    "            return 45 + self.calcProfit(investment-1000)\n",
    "        elif (investment > 100000):\n",
    "            return 80 + self.calcProfit(investment-1000)\n",
    "        else:\n",
    "            return 0\n",
    "array = [25000,100000,250000,350000] \n",
    "f = FinalQ() \n",
    "f.print(array,0)"
   ]
  }
 ],
 "metadata": {
  "kernelspec": {
   "display_name": "Python 3",
   "language": "python",
   "name": "python3"
  },
  "language_info": {
   "codemirror_mode": {
    "name": "ipython",
    "version": 3
   },
   "file_extension": ".py",
   "mimetype": "text/x-python",
   "name": "python",
   "nbconvert_exporter": "python",
   "pygments_lexer": "ipython3",
   "version": "3.11.0"
  },
  "orig_nbformat": 4,
  "vscode": {
   "interpreter": {
    "hash": "aee8b7b246df8f9039afb4144a1f6fd8d2ca17a180786b69acc140d282b71a49"
   }
  }
 },
 "nbformat": 4,
 "nbformat_minor": 2
}
