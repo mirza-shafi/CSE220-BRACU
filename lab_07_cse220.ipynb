{
 "cells": [
  {
   "cell_type": "code",
   "execution_count": 6,
   "metadata": {},
   "outputs": [
    {
     "name": "stdout",
     "output_type": "stream",
     "text": [
      "7\n",
      "8\n",
      "13\n",
      "0\n",
      "9\n",
      "10\n",
      "[1, 0, 0, 0, 0, 0, 0, 1, 1, 1, 1, 0, 0, 1]\n",
      "True\n"
     ]
    }
   ],
   "source": [
    "#task-01\n",
    "class keyindex:\n",
    "  def __init__(self,a):\n",
    "    self.min_val = min(a)\n",
    "    if self.min_val>=0:\n",
    "      maximum = max(a)\n",
    "      self.aux = [0]*(maximum+1)\n",
    "      for i in range(len(a)):\n",
    "        x = a[i]\n",
    "        self.aux[x]+=1\n",
    "    else:\n",
    "      max_val = max(a)\n",
    "      self.aux = [0]*(abs(self.min_val)+max_val+1)\n",
    "      for i in range(len(a)):\n",
    "        x = a[i]+abs(self.min_val)\n",
    "        self.aux[x]+=1\n",
    "        print(x)\n",
    "    print(self.aux)\n",
    "\n",
    "  def search(self,val):\n",
    "    if val>=len(self.aux):\n",
    "      return False\n",
    "    else:\n",
    "        if self.min_val>=0:\n",
    "            for i in self.aux:\n",
    "                if self.aux[val]== 1 or self.aux[val]>1:\n",
    "                    return True       \n",
    "                else:\n",
    "                    return False\n",
    "        else:\n",
    "            for i in self.aux:\n",
    "                if self.aux[i+abs(self.min_val)] == 1 or self.aux[i+abs(self.min_val)] > 1 :\n",
    "                    return True\n",
    "                else:\n",
    "                    return False\n",
    "                    \n",
    "  def sort(self):\n",
    "    self.sort = [0]*len(a)\n",
    "    j = 0\n",
    "    if self.min_val>=0:\n",
    "      for i in range(len(self.aux)):\n",
    "        if self.aux[i] == 1 or self.aux[i]>1:\n",
    "          self.sort[j] = i\n",
    "          j+=1\n",
    "    else:\n",
    "        for i in range(len(self.aux)):\n",
    "            if self.aux[i] == 1 or self.aux[i]>1:\n",
    "                self.sort[j] = i+self.min_val\n",
    "                j+=1\n",
    "    return self.sort\n",
    "\n",
    "\n",
    "\n",
    "a = [1,2,7,-6,3,4]\n",
    "k = keyindex(a)\n",
    "print(k.search(7))\n",
    "# print(k.sort())"
   ]
  },
  {
   "cell_type": "code",
   "execution_count": 54,
   "metadata": {},
   "outputs": [
    {
     "name": "stdout",
     "output_type": "stream",
     "text": [
      "[None, None, None, None, 'ST1E89B8A32', None, None, None, None]\n"
     ]
    }
   ],
   "source": [
    "#task-02\n",
    "def hash_function(s):\n",
    "    count = 0\n",
    "    sum = 0\n",
    "    for c in s:\n",
    "        if c.isalpha() and c not in \"AEIOU\":\n",
    "            count += 1\n",
    "        elif c.isdigit():\n",
    "            sum += int(c)\n",
    "    return (count * 24 + sum) % 9\n",
    "\n",
    "def store(arr):\n",
    "    hash_table = [None] * 9\n",
    "    for s in arr:\n",
    "        index = hash_function(s)\n",
    "        while hash_table[index] != None:\n",
    "            index = (index + 1) % 9\n",
    "        hash_table[index] = s\n",
    "        \n",
    "    return hash_table\n",
    "arr = [\"ST1E89B8A32\"]\n",
    "hash_table = store(arr)\n",
    "print(hash_table)"
   ]
  }
 ],
 "metadata": {
  "kernelspec": {
   "display_name": "Python 3",
   "language": "python",
   "name": "python3"
  },
  "language_info": {
   "codemirror_mode": {
    "name": "ipython",
    "version": 3
   },
   "file_extension": ".py",
   "mimetype": "text/x-python",
   "name": "python",
   "nbconvert_exporter": "python",
   "pygments_lexer": "ipython3",
   "version": "3.11.0"
  },
  "orig_nbformat": 4,
  "vscode": {
   "interpreter": {
    "hash": "aee8b7b246df8f9039afb4144a1f6fd8d2ca17a180786b69acc140d282b71a49"
   }
  }
 },
 "nbformat": 4,
 "nbformat_minor": 2
}
